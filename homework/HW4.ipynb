{
 "metadata": {
  "name": "",
  "signature": "sha256:7209711de28289cfd7b913dcbcbb2e04606ed0b5ad6767b83853b718b38306f3"
 },
 "nbformat": 3,
 "nbformat_minor": 0,
 "worksheets": [
  {
   "cells": [
    {
     "cell_type": "markdown",
     "metadata": {},
     "source": [
      "# Homework 4: Can you predict the Midterm Elections?\n",
      "\n",
      "Due: Thursday, October 30, 2014 11:59 PM\n",
      "\n",
      "<a href=https://raw.githubusercontent.com/cs109/2014/master/homework/HW4.ipynb download=HW4.ipynb> Download this assignment</a>\n",
      "\n",
      "#### Submission Instructions\n",
      "To submit your homework, create a folder named lastname_firstinitial_hw# and place your IPython notebooks, data files, and any other files in this folder. Your IPython Notebooks should be completely executed with the results visible in the notebook. We should not have to run any code. Compress the folder (please use .zip compression) and submit to the CS109 dropbox in the appropriate folder. If we cannot access your work because these directions are not followed correctly, we will not grade your work. For the competition (problem 4), we will post a link on Piazza to a Google Form for you to submit your predictions. \n",
      "\n",
      "\n",
      "---\n"
     ]
    },
    {
     "cell_type": "markdown",
     "metadata": {},
     "source": [
      "## Introduction\n",
      "\n",
      "**Add Introduction**\n",
      "\n",
      "You will use the [HuffPost Pollster API](http://elections.huffingtonpost.com/pollster/api) to extract the polls for the current 2014 Senate Midterm Elections and provide a final prediction of the result of each state.\n",
      "\n",
      "#### Data\n",
      "\n",
      "We will use the polls from the [2014 Senate Midterm Elections](http://elections.huffingtonpost.com/pollster) from the [HuffPost Pollster API](http://elections.huffingtonpost.com/pollster/api). \n",
      "\n",
      "---"
     ]
    },
    {
     "cell_type": "code",
     "collapsed": false,
     "input": [
      "# special IPython command to prepare the notebook for matplotlib\n",
      "%matplotlib inline \n",
      "\n",
      "from IPython.display import Math, display\n",
      "import requests\n",
      "import pprint\n",
      "import pandas as pd\n",
      "import numpy as np\n",
      "import matplotlib.pyplot as plt"
     ],
     "language": "python",
     "metadata": {},
     "outputs": [],
     "prompt_number": 213
    },
    {
     "cell_type": "markdown",
     "metadata": {},
     "source": [
      "## Problem 1: Data Wrangling\n",
      "\n",
      "We will read in the polls from the [2014 Senate Midterm Elections](http://elections.huffingtonpost.com/pollster) from the [HuffPost Pollster API](http://elections.huffingtonpost.com/pollster/api) and create a dictionary of DataFrames as well a master table information for each race."
     ]
    },
    {
     "cell_type": "markdown",
     "metadata": {},
     "source": [
      "#### Problem 1(a)\n",
      "\n",
      "Read in [this JSON object](http://elections.huffingtonpost.com/pollster/api/charts/?topic=2014-senate) containing the polls for the 2014 Senate Elections using the HuffPost API. Call this JSON object `info`.  This JSON object is imported as a list in Python where each element contains the information for one race.  Use the function `type` to confirm the that `info` is a list. "
     ]
    },
    {
     "cell_type": "code",
     "collapsed": false,
     "input": [
      "### Your code here ###\n",
      "info = requests.get('http://elections.huffingtonpost.com/pollster/api/charts/?topic=2014-senate').json()\n",
      "print type(info)"
     ],
     "language": "python",
     "metadata": {},
     "outputs": [
      {
       "output_type": "stream",
       "stream": "stdout",
       "text": [
        "<type 'list'>\n"
       ]
      }
     ],
     "prompt_number": 20
    },
    {
     "cell_type": "markdown",
     "metadata": {},
     "source": [
      "#### Problem 1(b)\n",
      "\n",
      "For each element of the list in `info` extract the state. We should have one poll per state, but we do not. Why?\n",
      "\n",
      "**Hint**: Use the internet to find out information on the races in each state that has more than one entry. Eliminate entries of the list that represent races that are not happening."
     ]
    },
    {
     "cell_type": "code",
     "collapsed": false,
     "input": [
      "### Your code here ###\n",
      "poll_info = pd.DataFrame(info)\n",
      "poll_info = poll_info[poll_info.slug != '2014-new-hampshire-senate-bass-vs-shaheen']\n",
      "poll_info['state'].value_counts()"
     ],
     "language": "python",
     "metadata": {},
     "outputs": [
      {
       "metadata": {},
       "output_type": "pyout",
       "prompt_number": 30,
       "text": [
        "OK    2\n",
        "SC    2\n",
        "SD    1\n",
        "GA    1\n",
        "TN    1\n",
        "ID    1\n",
        "RI    1\n",
        "ME    1\n",
        "IA    1\n",
        "IL    1\n",
        "NH    1\n",
        "AR    1\n",
        "WV    1\n",
        "DE    1\n",
        "AK    1\n",
        "CO    1\n",
        "KS    1\n",
        "NJ    1\n",
        "MA    1\n",
        "OR    1\n",
        "NM    1\n",
        "TX    1\n",
        "LA    1\n",
        "HI    1\n",
        "NC    1\n",
        "MI    1\n",
        "NE    1\n",
        "MN    1\n",
        "MT    1\n",
        "MS    1\n",
        "WY    1\n",
        "KY    1\n",
        "VA    1\n",
        "dtype: int64"
       ]
      }
     ],
     "prompt_number": 30
    },
    {
     "cell_type": "markdown",
     "metadata": {},
     "source": [
      "** Your answer here: ** Oklahoma, South Carolina, and New Hampshire appear to have two polls each. According to [this page](http://en.wikipedia.org/wiki/United_States_Senate_elections,_2014). Oklahoma and South Carolina both have special elections taking place, but New Hampshire is only having 1. The [Bass vs. Shaheen](http://elections.huffingtonpost.com/pollster/2014-new-hampshire-senate-bass-vs-shaheen) election is not actually happening, instead the election is [Brown vs. Shaheen](http://elections.huffingtonpost.com/pollster/2014-new-hampshire-senate-brown-vs-shaheen)."
     ]
    },
    {
     "cell_type": "markdown",
     "metadata": {},
     "source": [
      "#### Problem 1(c)\n",
      "\n",
      "Create a dictionary of pandas DataFrames called `polls` keyed by the name of the election (a string). Each value in the dictionary should contain the polls for one of the races."
     ]
    },
    {
     "cell_type": "code",
     "collapsed": false,
     "input": [
      "### Your code here ###\n",
      "polls = {}\n",
      "for i, election in poll_info[['slug', 'url']].iterrows():\n",
      "    polls[election['slug']] = pd.DataFrame(requests.get(u'{}.json'.format(election['url'])).json()['polls'])"
     ],
     "language": "python",
     "metadata": {},
     "outputs": [],
     "prompt_number": 73
    },
    {
     "cell_type": "markdown",
     "metadata": {},
     "source": [
      "#### Problem 1(d)\n",
      "\n",
      "Now creaate a master table information containing information about each race. Create a pandas DataFrame called `candidates` with rows containing information about each race. The `candidates` DataFrame should have the following columns: \n",
      "\n",
      "1. `State` = entries should be unique\n",
      "2. `R` = name of republican candidate\n",
      "3. `D` = name of non-republican candidate (Democrate or Independent) \n",
      "4. `incumbent` = R, D or NA\n",
      "\n",
      "**Hint**: You will need a considerable amount of data wrangling for this."
     ]
    },
    {
     "cell_type": "code",
     "collapsed": false,
     "input": [
      "### Your code here ###\n",
      "races = []\n",
      "for election in info:\n",
      "    if election['state'] == 'DE':\n",
      "        pprint.pprint(election)\n",
      "    obj = {}\n",
      "    incumbent = 'NA'\n",
      "    estimates = election['estimates']\n",
      "    estimates.sort(key=lambda x: x['value'], reverse=True)\n",
      "    republican_found = False\n",
      "    democrat_found = False\n",
      "    for estimate in estimates:\n",
      "        if estimate['party'] == 'Rep':\n",
      "            if not republican_found:\n",
      "                obj['R'] = u'{} {}'.format(estimate['first_name'], estimate['last_name'])\n",
      "                if estimate['incumbent'] == True:\n",
      "                    incumbent = 'R'\n",
      "                republican_found = True\n",
      "        else:\n",
      "            if not democrat_found:\n",
      "                obj['D'] = u'{} {}'.format(estimate['first_name'], estimate['last_name'])\n",
      "                if estimate['incumbent'] == True:\n",
      "                    incumbent = 'D'\n",
      "                democrat_found = True\n",
      "        \n",
      "    obj.update({\n",
      "        'State': election['state'],\n",
      "        'Incumbent': incumbent,\n",
      "        'Slug': election['slug']\n",
      "    })\n",
      "    races.append(obj)\n",
      "\n",
      "candidates = pd.DataFrame(races)\n",
      "candidates = candidates[['State', 'D', 'R', 'Incumbent', 'Slug']]\n",
      "candidates = candidates.set_index('Slug')\n",
      "display(candidates.head())"
     ],
     "language": "python",
     "metadata": {},
     "outputs": [
      {
       "output_type": "stream",
       "stream": "stdout",
       "text": [
        "{u'election_date': u'2014-11-04',\n",
        " u'estimates': [],\n",
        " u'last_updated': u'2014-10-05T15:35:39Z',\n",
        " u'poll_count': 4,\n",
        " u'short_title': u'2014 Delaware Senate: Wade vs. Coons',\n",
        " u'slug': u'2014-delaware-senate-wade-vs-coons',\n",
        " u'state': u'DE',\n",
        " u'title': u'2014 Delaware Senate: Wade vs. Coons',\n",
        " u'topic': u'2014-senate',\n",
        " u'url': u'http://elections.huffingtonpost.com/pollster/2014-delaware-senate-wade-vs-coons'}\n"
       ]
      },
      {
       "html": [
        "<div style=\"max-height:1000px;max-width:1500px;overflow:auto;\">\n",
        "<table border=\"1\" class=\"dataframe\">\n",
        "  <thead>\n",
        "    <tr style=\"text-align: right;\">\n",
        "      <th></th>\n",
        "      <th>State</th>\n",
        "      <th>D</th>\n",
        "      <th>R</th>\n",
        "      <th>Incumbent</th>\n",
        "    </tr>\n",
        "    <tr>\n",
        "      <th>Slug</th>\n",
        "      <th></th>\n",
        "      <th></th>\n",
        "      <th></th>\n",
        "      <th></th>\n",
        "    </tr>\n",
        "  </thead>\n",
        "  <tbody>\n",
        "    <tr>\n",
        "      <th>2014-kentucky-senate-mcconnell-vs-grimes</th>\n",
        "      <td> KY</td>\n",
        "      <td> Alison Lundergan Grimes</td>\n",
        "      <td> Mitch McConnell</td>\n",
        "      <td>  R</td>\n",
        "    </tr>\n",
        "    <tr>\n",
        "      <th>2014-arkansas-senate-cotton-vs-pryor</th>\n",
        "      <td> AR</td>\n",
        "      <td>              Mark Pryor</td>\n",
        "      <td>      Tom Cotton</td>\n",
        "      <td>  D</td>\n",
        "    </tr>\n",
        "    <tr>\n",
        "      <th>2014-michigan-senate-land-vs-peters</th>\n",
        "      <td> MI</td>\n",
        "      <td>             Gary Peters</td>\n",
        "      <td> Terri Lynn Land</td>\n",
        "      <td> NA</td>\n",
        "    </tr>\n",
        "    <tr>\n",
        "      <th>2014-louisiana-senate-cassidy-vs-landrieu</th>\n",
        "      <td> LA</td>\n",
        "      <td>           Mary Landrieu</td>\n",
        "      <td>    Bill Cassidy</td>\n",
        "      <td>  D</td>\n",
        "    </tr>\n",
        "    <tr>\n",
        "      <th>2014-new-hampshire-senate-brown-vs-shaheen</th>\n",
        "      <td> NH</td>\n",
        "      <td>          Jeanne Shaheen</td>\n",
        "      <td>     Scott Brown</td>\n",
        "      <td>  D</td>\n",
        "    </tr>\n",
        "  </tbody>\n",
        "</table>\n",
        "<p>5 rows \u00d7 4 columns</p>\n",
        "</div>"
       ],
       "metadata": {},
       "output_type": "display_data",
       "text": [
        "                                           State                        D  \\\n",
        "Slug                                                                        \n",
        "2014-kentucky-senate-mcconnell-vs-grimes      KY  Alison Lundergan Grimes   \n",
        "2014-arkansas-senate-cotton-vs-pryor          AR               Mark Pryor   \n",
        "2014-michigan-senate-land-vs-peters           MI              Gary Peters   \n",
        "2014-louisiana-senate-cassidy-vs-landrieu     LA            Mary Landrieu   \n",
        "2014-new-hampshire-senate-brown-vs-shaheen    NH           Jeanne Shaheen   \n",
        "\n",
        "                                                          R Incumbent  \n",
        "Slug                                                                   \n",
        "2014-kentucky-senate-mcconnell-vs-grimes    Mitch McConnell         R  \n",
        "2014-arkansas-senate-cotton-vs-pryor             Tom Cotton         D  \n",
        "2014-michigan-senate-land-vs-peters         Terri Lynn Land        NA  \n",
        "2014-louisiana-senate-cassidy-vs-landrieu      Bill Cassidy         D  \n",
        "2014-new-hampshire-senate-brown-vs-shaheen      Scott Brown         D  \n",
        "\n",
        "[5 rows x 4 columns]"
       ]
      }
     ],
     "prompt_number": 173
    },
    {
     "cell_type": "markdown",
     "metadata": {},
     "source": [
      "## Problem 2: Confidence Intervals\n",
      "\n",
      "Compute a 99% confidence interval for each state. "
     ]
    },
    {
     "cell_type": "markdown",
     "metadata": {},
     "source": [
      "#### Problem 2(a)\n",
      "\n",
      "Assume you have $M$ polls with sample sizes $n_1, \\dots, n_M$. If the polls are independent, what is the average of the variances of each poll if the true proportion is $p$?"
     ]
    },
    {
     "cell_type": "code",
     "collapsed": false,
     "input": [
      "print 'Average of variances:'\n",
      "Math(\"\\\\frac{1}{M}\\sum_{i=1}^{M} n_{i}p_{i}(1-p_{i})\")"
     ],
     "language": "python",
     "metadata": {},
     "outputs": [
      {
       "output_type": "stream",
       "stream": "stdout",
       "text": [
        "Average of variances:\n"
       ]
      },
      {
       "latex": [
        "$$\\frac{1}{M}\\sum_{i=1}^{M} n_{i}p_{i}(1-p_{i})$$"
       ],
       "metadata": {},
       "output_type": "pyout",
       "prompt_number": 136,
       "text": [
        "<IPython.core.display.Math at 0x10777f810>"
       ]
      }
     ],
     "prompt_number": 136
    },
    {
     "cell_type": "markdown",
     "metadata": {},
     "source": [
      "#### Problem 2(b)\n",
      "\n",
      "Compute the square root of these values in Problem 2(b) for the republican candidates in each race. Then, compute the standard deviations of the observed poll results for each race. "
     ]
    },
    {
     "cell_type": "code",
     "collapsed": false,
     "input": [
      "### Your code here ###\n",
      "for slug in polls:\n",
      "    data = polls[slug]\n",
      "    republican = candidates.ix[slug, :]['R']\n",
      "    # TODO\n",
      "    try:\n",
      "        if np.isnan(republican):\n",
      "            continue\n",
      "    except:\n",
      "        pass\n",
      "        data['republican_percentage'] = data['choices'].apply(lambda x: float(x[republican.split(' ')[-1]]) / 100.0)\n",
      "\n",
      "theoretical_stds = {}\n",
      "observed_stds = {}\n",
      "for slug in polls:\n",
      "    data = polls[slug]\n",
      "    # TODO\n",
      "    if not 'republican_percentage' in data.columns:\n",
      "        continue\n",
      "    data['numobs'] = data['numobs'].astype(float)\n",
      "    data['var'] = (data['numobs'] * data['republican_percentage']) * (1 - data['republican_percentage'])\n",
      "    theoretical_stds[slug] = np.sqrt(data['var'].mean()) / 100.0\n",
      "    observed_stds[slug] = data['republican_percentage'].std()\n",
      "        "
     ],
     "language": "python",
     "metadata": {},
     "outputs": [],
     "prompt_number": 209
    },
    {
     "cell_type": "markdown",
     "metadata": {},
     "source": [
      "#### Problem 2(c) \n",
      "\n",
      "Plot observed versus theoretical (average of the theoretical SDs) with the area of the point proportional to number of polls. How do these compare?"
     ]
    },
    {
     "cell_type": "code",
     "collapsed": false,
     "input": [
      "### Your code here ###\n",
      "\n",
      "# make sure we're comparing apples to apples\n",
      "observed = [i[1] for i in sorted(observed_stds.items(), key=lambda x: x[0])]\n",
      "theoretical = [i[1] for i in sorted(theoretical_stds.items(), key=lambda x: x[0])]\n",
      "\n",
      "plt.scatter(x=theoretical, y=observed)\n",
      "plt.xlabel('Theoretical Standard Deviation')\n",
      "plt.ylabel('Observed Standard Deviation')\n",
      "plt.title('Observed vs. Theoretical Standard Deviations')\n",
      "plt.show()"
     ],
     "language": "python",
     "metadata": {},
     "outputs": [
      {
       "metadata": {},
       "output_type": "display_data",
       "png": "[encoded data removed]",
       "text": [
        "<matplotlib.figure.Figure at 0x10a9ae950>"
       ]
      }
     ],
     "prompt_number": 224
    },
    {
     "cell_type": "markdown",
     "metadata": {},
     "source": [
      "** Your answer here: **"
     ]
    },
    {
     "cell_type": "markdown",
     "metadata": {},
     "source": [
      "#### Problem 2(d)\n",
      "\n",
      "Repeat Problem 2(c) but include only the most recent polls from the last two months. Do they match better or worse or the same? Can we just trust the theoretical values?"
     ]
    },
    {
     "cell_type": "code",
     "collapsed": false,
     "input": [
      "### Your code here ###"
     ],
     "language": "python",
     "metadata": {},
     "outputs": []
    },
    {
     "cell_type": "markdown",
     "metadata": {},
     "source": [
      "** Your answer here: **"
     ]
    },
    {
     "cell_type": "markdown",
     "metadata": {},
     "source": [
      "#### Problem 2(e)\n",
      "\n",
      "Create a scatter plot with each point representing one state. Is there one or more races that are outlier in that it they have much larger variabilityes than expected ? Explore the original poll data and explain why the discrepancy?"
     ]
    },
    {
     "cell_type": "code",
     "collapsed": false,
     "input": [
      "### Your code here ###"
     ],
     "language": "python",
     "metadata": {},
     "outputs": []
    },
    {
     "cell_type": "markdown",
     "metadata": {},
     "source": [
      "** Your answer here: **"
     ]
    },
    {
     "cell_type": "markdown",
     "metadata": {},
     "source": [
      "#### Problem 2(f)\n",
      "\n",
      " Construct confidence intervals for the difference in each race. Use either theoretical or data driven estimates of the standard error depending on your answer to this question. Use the results in Problem 2(e), to justify your choice.\n"
     ]
    },
    {
     "cell_type": "code",
     "collapsed": false,
     "input": [
      "### Your code here ###"
     ],
     "language": "python",
     "metadata": {},
     "outputs": []
    },
    {
     "cell_type": "markdown",
     "metadata": {},
     "source": [
      "# Problem 3: Prediction and Posterior Probabilities\n",
      "\n",
      "Perform a Bayesian analysis to predict the probability of Republicans winning in each state then provide a posterior distribution of the number of republicans in the senate."
     ]
    },
    {
     "cell_type": "markdown",
     "metadata": {},
     "source": [
      "#### Problem 3(a)\n",
      "\n",
      "First, we define a Bayesian model for each race. The prior for the difference $d$ between republicans and democtrats will be $N(\\mu,\\tau^2)$. Say before seeing poll data you have no idea who is going to win, what should $\\mu$ be? How about $\\tau$, should it be large or small? "
     ]
    },
    {
     "cell_type": "markdown",
     "metadata": {},
     "source": [
      "** Your answer here: **"
     ]
    },
    {
     "cell_type": "markdown",
     "metadata": {},
     "source": [
      "#### Problem 3(b)\n",
      "\n",
      "What is the distribution of $d$ conditioned on $\\mu$. What is the posterior distribution of $\\mu | d$? \n",
      "\n",
      "**Hint**: Use normal approximation. "
     ]
    },
    {
     "cell_type": "markdown",
     "metadata": {},
     "source": [
      "**Your answer here:**"
     ]
    },
    {
     "cell_type": "markdown",
     "metadata": {},
     "source": [
      "#### Problem 3(c)\n",
      "\n",
      "The prior represents what we think before hand. We do not know who is expected to win, so we assume $\\mu=0$. For this problem estimate $\\tau$ using the observed differences across states (Hint: $\\tau$ represents the standard deviation of a typical difference). Compute the posterior mean for each state and plot it against original average. Is there much change? Why or why not? "
     ]
    },
    {
     "cell_type": "code",
     "collapsed": false,
     "input": [
      "### Your code here ###"
     ],
     "language": "python",
     "metadata": {},
     "outputs": []
    },
    {
     "cell_type": "markdown",
     "metadata": {},
     "source": [
      "**Your answer here:**"
     ]
    },
    {
     "cell_type": "markdown",
     "metadata": {},
     "source": [
      "#### Problem 3(d)\n",
      "\n",
      "For each state, report a probabilty of Republicans winning. How does your answer here compare to the other aggregators?"
     ]
    },
    {
     "cell_type": "code",
     "collapsed": false,
     "input": [
      "### Your code here ###"
     ],
     "language": "python",
     "metadata": {},
     "outputs": []
    },
    {
     "cell_type": "markdown",
     "metadata": {},
     "source": [
      "**Your answer here:**"
     ]
    },
    {
     "cell_type": "markdown",
     "metadata": {},
     "source": [
      "#### Problem 3(e)\n",
      "\n",
      "Use the posterior distributions in a Monte Carlo simulation to generate election results. In each simulation compute the total number of seats the Republican control. Show a histogram of these results."
     ]
    },
    {
     "cell_type": "code",
     "collapsed": false,
     "input": [
      "### Your code here ###"
     ],
     "language": "python",
     "metadata": {},
     "outputs": []
    },
    {
     "cell_type": "markdown",
     "metadata": {},
     "source": [
      "## Problem 4\n",
      "\n",
      "Predict the results for the 2014 Midterm Elections. We will have a three competitions with the terms for scoring entries described above. For both questions below, **explain** or provide commentary on how you arrived at your predictions including code. \n",
      "\n",
      "**Hint**: Use election results from 2010, 2012 to build and test models."
     ]
    },
    {
     "cell_type": "markdown",
     "metadata": {},
     "source": [
      "#### Problem 4(a)\n",
      "\n",
      "Predict the number of Republican senators. You may provide an interval. Smallest interval that includes the election day result wins. \n",
      "\n",
      "**Note**: we want the total so add the numbers of those that are not up for election."
     ]
    },
    {
     "cell_type": "code",
     "collapsed": false,
     "input": [
      "### Your code here ###"
     ],
     "language": "python",
     "metadata": {},
     "outputs": []
    },
    {
     "cell_type": "markdown",
     "metadata": {},
     "source": [
      "**Provide an explanation of methodology here**:"
     ]
    },
    {
     "cell_type": "markdown",
     "metadata": {},
     "source": [
      "#### Problem 4(b)\n",
      "\n",
      "Predict the R-D difference in each state. The predictions that minimize the residual sum of squares between predicted and observed differences wins."
     ]
    },
    {
     "cell_type": "code",
     "collapsed": false,
     "input": [
      "### Your code here ###"
     ],
     "language": "python",
     "metadata": {},
     "outputs": []
    },
    {
     "cell_type": "markdown",
     "metadata": {},
     "source": [
      "**Provide an explanation of methodology here**:"
     ]
    },
    {
     "cell_type": "markdown",
     "metadata": {},
     "source": [
      "#### Problem 4(c)\n",
      "\n",
      "Report a confidence interval for the R-D difference in each state. If the election day result falls outside your confidence interval in more than two states you are eliminated. For those surviving this cutoff, we will add up the size of all confidence intervals and sum. The smallest total length of confidence interval wins. \n",
      "\n",
      "**Note**: you can use Bayesian credible intervals or whatever else you want. "
     ]
    },
    {
     "cell_type": "code",
     "collapsed": false,
     "input": [
      "### Your code here ###"
     ],
     "language": "python",
     "metadata": {},
     "outputs": []
    },
    {
     "cell_type": "markdown",
     "metadata": {},
     "source": [
      "**Provide an explanation of methodology here**:"
     ]
    },
    {
     "cell_type": "markdown",
     "metadata": {},
     "source": [
      "# Submission Instructions\n",
      "\n",
      "To submit your homework, create a folder named **lastname_firstinitial_hw#** and place your IPython notebooks, data files, and any other files in this folder. Your IPython Notebooks should be completely executed with the results visible in the notebook. We should not have to run any code.  Compress the folder (please use .zip compression) and submit to the CS109 dropbox in the appropriate folder. *If we cannot access your work because these directions are not followed correctly, we will not grade your work.*\n"
     ]
    }
   ],
   "metadata": {}
  }
 ]
}