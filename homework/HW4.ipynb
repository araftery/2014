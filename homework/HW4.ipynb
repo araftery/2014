{
 "metadata": {
  "name": "",
  "signature": "sha256:7e85dfdddc82585a96b3205fe0c4b2501140c46da25b26be2bbe70329c99498d"
 },
 "nbformat": 3,
 "nbformat_minor": 0,
 "worksheets": [
  {
   "cells": [
    {
     "cell_type": "markdown",
     "metadata": {},
     "source": [
      "# Homework 4: Can you predict the Midterm Elections?\n",
      "\n",
      "Due: Thursday, October 30, 2014 11:59 PM\n",
      "\n",
      "<a href=https://raw.githubusercontent.com/cs109/2014/master/homework/HW4.ipynb download=HW4.ipynb> Download this assignment</a>\n",
      "\n",
      "#### Submission Instructions\n",
      "To submit your homework, create a folder named lastname_firstinitial_hw# and place your IPython notebooks, data files, and any other files in this folder. Your IPython Notebooks should be completely executed with the results visible in the notebook. We should not have to run any code. Compress the folder (please use .zip compression) and submit to the CS109 dropbox in the appropriate folder. If we cannot access your work because these directions are not followed correctly, we will not grade your work. For the competition (problem 4), we will post a link on Piazza to a Google Form for you to submit your predictions. \n",
      "\n",
      "\n",
      "---\n"
     ]
    },
    {
     "cell_type": "markdown",
     "metadata": {},
     "source": [
      "## Introduction\n",
      "\n",
      "**Add Introduction**\n",
      "\n",
      "You will use the [HuffPost Pollster API](http://elections.huffingtonpost.com/pollster/api) to extract the polls for the current 2014 Senate Midterm Elections and provide a final prediction of the result of each state.\n",
      "\n",
      "#### Data\n",
      "\n",
      "We will use the polls from the [2014 Senate Midterm Elections](http://elections.huffingtonpost.com/pollster) from the [HuffPost Pollster API](http://elections.huffingtonpost.com/pollster/api). \n",
      "\n",
      "---"
     ]
    },
    {
     "cell_type": "code",
     "collapsed": false,
     "input": [
      "# special IPython command to prepare the notebook for matplotlib\n",
      "%matplotlib inline \n",
      "\n",
      "from IPython.display import Math, display\n",
      "import requests\n",
      "import pprint\n",
      "import pandas as pd\n",
      "import numpy as np\n",
      "import matplotlib.pyplot as plt\n",
      "import datetime as dt\n",
      "import seaborn as sns\n",
      "\n",
      "\n",
      "#nice defaults for matplotlib\n",
      "from matplotlib import rcParams\n",
      "\n",
      "dark2_colors = [(0.10588235294117647, 0.6196078431372549, 0.4666666666666667),\n",
      "                (0.8509803921568627, 0.37254901960784315, 0.00784313725490196),\n",
      "                (0.4588235294117647, 0.4392156862745098, 0.7019607843137254),\n",
      "                (0.9058823529411765, 0.1607843137254902, 0.5411764705882353),\n",
      "                (0.4, 0.6509803921568628, 0.11764705882352941),\n",
      "                (0.9019607843137255, 0.6705882352941176, 0.00784313725490196),\n",
      "                (0.6509803921568628, 0.4627450980392157, 0.11372549019607843),\n",
      "                (0.4, 0.4, 0.4)]\n",
      "\n",
      "rcParams['figure.figsize'] = (10, 6)\n",
      "rcParams['figure.dpi'] = 150\n",
      "rcParams['axes.color_cycle'] = dark2_colors\n",
      "rcParams['lines.linewidth'] = 2\n",
      "rcParams['axes.grid'] = True\n",
      "rcParams['axes.facecolor'] = '#eeeeee'\n",
      "rcParams['font.size'] = 14\n",
      "rcParams['patch.edgecolor'] = 'none'"
     ],
     "language": "python",
     "metadata": {},
     "outputs": [],
     "prompt_number": 1
    },
    {
     "cell_type": "markdown",
     "metadata": {},
     "source": [
      "## Problem 1: Data Wrangling\n",
      "\n",
      "We will read in the polls from the [2014 Senate Midterm Elections](http://elections.huffingtonpost.com/pollster) from the [HuffPost Pollster API](http://elections.huffingtonpost.com/pollster/api) and create a dictionary of DataFrames as well a master table information for each race."
     ]
    },
    {
     "cell_type": "markdown",
     "metadata": {},
     "source": [
      "#### Problem 1(a)\n",
      "\n",
      "Read in [this JSON object](http://elections.huffingtonpost.com/pollster/api/charts/?topic=2014-senate) containing the polls for the 2014 Senate Elections using the HuffPost API. Call this JSON object `info`.  This JSON object is imported as a list in Python where each element contains the information for one race.  Use the function `type` to confirm the that `info` is a list. "
     ]
    },
    {
     "cell_type": "code",
     "collapsed": false,
     "input": [
      "### Your code here ###\n",
      "info = requests.get('http://elections.huffingtonpost.com/pollster/api/charts/?topic=2014-senate').json()\n",
      "print type(info)"
     ],
     "language": "python",
     "metadata": {},
     "outputs": [
      {
       "output_type": "stream",
       "stream": "stdout",
       "text": [
        "<type 'list'>\n"
       ]
      }
     ],
     "prompt_number": 2
    },
    {
     "cell_type": "markdown",
     "metadata": {},
     "source": [
      "#### Problem 1(b)\n",
      "\n",
      "For each element of the list in `info` extract the state. We should have one poll per state, but we do not. Why?\n",
      "\n",
      "**Hint**: Use the internet to find out information on the races in each state that has more than one entry. Eliminate entries of the list that represent races that are not happening."
     ]
    },
    {
     "cell_type": "code",
     "collapsed": false,
     "input": [
      "### Your code here ###\n",
      "poll_info = pd.DataFrame(info)\n",
      "poll_info = poll_info[poll_info.slug != '2014-new-hampshire-senate-bass-vs-shaheen']\n",
      "poll_info['state'].value_counts()"
     ],
     "language": "python",
     "metadata": {},
     "outputs": [
      {
       "metadata": {},
       "output_type": "pyout",
       "prompt_number": 3,
       "text": [
        "GA    2\n",
        "OK    2\n",
        "SC    2\n",
        "SD    1\n",
        "TN    1\n",
        "ID    1\n",
        "RI    1\n",
        "ME    1\n",
        "IA    1\n",
        "IL    1\n",
        "NH    1\n",
        "AR    1\n",
        "WV    1\n",
        "DE    1\n",
        "AK    1\n",
        "CO    1\n",
        "KS    1\n",
        "NJ    1\n",
        "MA    1\n",
        "OR    1\n",
        "NM    1\n",
        "TX    1\n",
        "LA    1\n",
        "HI    1\n",
        "NC    1\n",
        "MI    1\n",
        "NE    1\n",
        "MN    1\n",
        "MT    1\n",
        "MS    1\n",
        "WY    1\n",
        "KY    1\n",
        "VA    1\n",
        "dtype: int64"
       ]
      }
     ],
     "prompt_number": 3
    },
    {
     "cell_type": "markdown",
     "metadata": {},
     "source": [
      "** Your answer here: ** Oklahoma, South Carolina, and New Hampshire appear to have two polls each. According to [this page](http://en.wikipedia.org/wiki/United_States_Senate_elections,_2014). Oklahoma and South Carolina both have special elections taking place, but New Hampshire is only having 1. The [Bass vs. Shaheen](http://elections.huffingtonpost.com/pollster/2014-new-hampshire-senate-bass-vs-shaheen) election is not actually happening, instead the election is [Brown vs. Shaheen](http://elections.huffingtonpost.com/pollster/2014-new-hampshire-senate-brown-vs-shaheen)."
     ]
    },
    {
     "cell_type": "markdown",
     "metadata": {},
     "source": [
      "#### Problem 1(c)\n",
      "\n",
      "Create a dictionary of pandas DataFrames called `polls` keyed by the name of the election (a string). Each value in the dictionary should contain the polls for one of the races."
     ]
    },
    {
     "cell_type": "code",
     "collapsed": false,
     "input": [
      "### Your code here ###\n",
      "polls = {}\n",
      "for i, election in poll_info[['slug', 'url']].iterrows():\n",
      "    polls[election['slug']] = pd.DataFrame(requests.get(u'{}.json'.format(election['url'])).json()['polls'])"
     ],
     "language": "python",
     "metadata": {},
     "outputs": [],
     "prompt_number": 4
    },
    {
     "cell_type": "markdown",
     "metadata": {},
     "source": [
      "#### Problem 1(d)\n",
      "\n",
      "Now creaate a master table information containing information about each race. Create a pandas DataFrame called `candidates` with rows containing information about each race. The `candidates` DataFrame should have the following columns: \n",
      "\n",
      "1. `State` = the state where the race is being held\n",
      "2. `R` = name of republican candidate\n",
      "3. `D` = name of non-republican candidate (Democrate or Independent) \n",
      "4. `incumbent` = R, D or NA\n",
      "\n",
      "**Hint**: You will need a considerable amount of data wrangling for this."
     ]
    },
    {
     "cell_type": "code",
     "collapsed": false,
     "input": [
      "### Your code here ###\n",
      "races = []\n",
      "for election in info:\n",
      "    obj = {}\n",
      "    incumbent = 'NA'\n",
      "    estimates = election['estimates']\n",
      "    estimates.sort(key=lambda x: x['value'], reverse=True)\n",
      "    republican_found = False\n",
      "    democrat_found = False\n",
      "    for estimate in estimates:\n",
      "        if estimate['party'] == 'Rep':\n",
      "            if not republican_found:\n",
      "                obj['R'] = u'{} {}'.format(estimate['first_name'], estimate['last_name'])\n",
      "                if estimate['incumbent'] == True:\n",
      "                    incumbent = 'R'\n",
      "                republican_found = True\n",
      "        else:\n",
      "            if not democrat_found:\n",
      "                obj['D'] = u'{} {}'.format(estimate['first_name'], estimate['last_name'])\n",
      "                if estimate['incumbent'] == True:\n",
      "                    incumbent = 'D'\n",
      "                democrat_found = True\n",
      "        \n",
      "    obj.update({\n",
      "        'State': election['state'],\n",
      "        'Incumbent': incumbent,\n",
      "        'Slug': election['slug']\n",
      "    })\n",
      "    races.append(obj)\n",
      "\n",
      "candidates = pd.DataFrame(races)\n",
      "candidates = candidates[['State', 'D', 'R', 'Incumbent', 'Slug']]\n",
      "candidates = candidates.set_index('Slug')\n",
      "candidates = candidates.drop('2014-new-hampshire-senate-bass-vs-shaheen')\n",
      "\n",
      "# TODO\n",
      "ri_slug = '2014-rhode-island-senate-zaccaria-vs-reed'\n",
      "candidates.loc[ri_slug, 'D'] = u'Jack Reed'\n",
      "candidates.loc[ri_slug, 'R'] = u'Mark Zaccaria'\n",
      "candidates.loc[ri_slug, 'Incumbent'] = u'D'"
     ],
     "language": "python",
     "metadata": {},
     "outputs": [],
     "prompt_number": 5
    },
    {
     "cell_type": "markdown",
     "metadata": {},
     "source": [
      "## Problem 2: Confidence Intervals\n",
      "\n",
      "Compute a 99% confidence interval for each state. "
     ]
    },
    {
     "cell_type": "markdown",
     "metadata": {},
     "source": [
      "#### Problem 2(a)\n",
      "\n",
      "Assume you have $M$ polls with sample sizes $n_1, \\dots, n_M$. If the polls are independent, what is the average of the variances of each poll if the true proportion is $p$?"
     ]
    },
    {
     "cell_type": "code",
     "collapsed": false,
     "input": [
      "print 'Average of variances:'\n",
      "Math(\"\\\\frac{1}{M}\\sum_{i=1}^{M} \\\\frac{1}{n_{i}}p(1-p)\")"
     ],
     "language": "python",
     "metadata": {},
     "outputs": [
      {
       "output_type": "stream",
       "stream": "stdout",
       "text": [
        "Average of variances:\n"
       ]
      },
      {
       "latex": [
        "$$\\frac{1}{M}\\sum_{i=1}^{M} \\frac{1}{n_{i}}p(1-p)$$"
       ],
       "metadata": {},
       "output_type": "pyout",
       "prompt_number": 6,
       "text": [
        "<IPython.core.display.Math at 0x1047045d0>"
       ]
      }
     ],
     "prompt_number": 6
    },
    {
     "cell_type": "markdown",
     "metadata": {},
     "source": [
      "#### Problem 2(b)\n",
      "\n",
      "Compute the square root of these values in Problem 2(b) for the republican candidates in each race. Then, compute the standard deviations of the observed poll results for each race. "
     ]
    },
    {
     "cell_type": "code",
     "collapsed": false,
     "input": [
      "### Your code here ###\n",
      "for slug in polls:\n",
      "    data = polls[slug]\n",
      "    republican = candidates.ix[slug, :]['R']\n",
      "    data['republican_percentage'] = data['choices'].apply(lambda x: float(x[republican.split(' ')[-1]]) / 100.0)\n",
      "\n",
      "theoretical_stds = {}\n",
      "observed_stds = {}\n",
      "expected_republican = {}\n",
      "for slug in polls:\n",
      "    data = polls[slug]\n",
      "    p = data['republican_percentage'].mean()\n",
      "    data['numobs'] = data['numobs'].astype(float)\n",
      "    data['var'] = (1 / data['numobs']) * p * (1 - p)\n",
      "    theoretical_stds[slug] = np.sqrt(data['var'].mean())\n",
      "    observed_stds[slug] = (data['republican_percentage']).std()\n",
      "    expected_republican[slug] = p\n",
      "        "
     ],
     "language": "python",
     "metadata": {},
     "outputs": [],
     "prompt_number": 20
    },
    {
     "cell_type": "markdown",
     "metadata": {},
     "source": [
      "#### Problem 2(c) \n",
      "\n",
      "Plot observed versus theoretical (average of the theoretical SDs) with the area of the point proportional to number of polls. How do these compare?"
     ]
    },
    {
     "cell_type": "code",
     "collapsed": false,
     "input": [
      "### Your code here ###\n",
      "\n",
      "# make sure we're comparing apples to apples\n",
      "observed = [i[1] for i in sorted(observed_stds.items(), key=lambda x: x[0])]\n",
      "theoretical = [i[1] for i in sorted(theoretical_stds.items(), key=lambda x: x[0])]\n",
      "num_polls = np.array([len(polls[i[0]]) for i in sorted(polls.items(), key=lambda x: x[0])])\n",
      "\n",
      "plt.scatter(x=theoretical, y=observed, s=num_polls * 2, c=\"darkblue\")\n",
      "plt.xlabel('Theoretical Standard Deviation')\n",
      "plt.ylabel('Observed Standard Deviation')\n",
      "plt.title('Observed vs. Theoretical Standard Deviations')\n",
      "plt.show()"
     ],
     "language": "python",
     "metadata": {},
     "outputs": [
      {
       "metadata": {},
       "output_type": "display_data",
       "png": "[encoded data removed]",
       "text": [
        "<matplotlib.figure.Figure at 0x1096fe410>"
       ]
      }
     ],
     "prompt_number": 8
    },
    {
     "cell_type": "markdown",
     "metadata": {},
     "source": [
      "** Your answer here: **"
     ]
    },
    {
     "cell_type": "markdown",
     "metadata": {},
     "source": [
      "#### Problem 2(d)\n",
      "\n",
      "Repeat Problem 2(c) but include only the most recent polls from the last two months. Do they match better or worse or the same? Can we just trust the theoretical values?"
     ]
    },
    {
     "cell_type": "code",
     "collapsed": false,
     "input": [
      "### Your code here ###\n",
      "two_months_ago = dt.datetime.now() - dt.timedelta(days=60)\n",
      "recent_polls = {}\n",
      "for slug in polls:\n",
      "    data = polls[slug]\n",
      "    data['enddate'] = pd.to_datetime(data['enddate'])\n",
      "    recent_polls[slug] = data[data['enddate'] > two_months_ago]\n",
      "\n",
      "theoretical_recent_stds = {}\n",
      "observed_recent_stds = {}\n",
      "for slug in recent_polls:\n",
      "    data = polls[slug]\n",
      "    p = data['republican_percentage'].mean()\n",
      "    data['numobs'] = data['numobs'].astype(float)\n",
      "    data['var'] = (1 / data['numobs']) * p * (1 - p)\n",
      "    theoretical_recent_stds[slug] = np.sqrt(data['var'].mean())\n",
      "    observed_recent_stds[slug] = (data['republican_percentage']).std()"
     ],
     "language": "python",
     "metadata": {},
     "outputs": [],
     "prompt_number": 9
    },
    {
     "cell_type": "code",
     "collapsed": false,
     "input": [
      "# make sure we're comparing apples to apples\n",
      "observed_recent = np.array([i[1] for i in sorted(observed_recent_stds.items(), key=lambda x: x[0])])\n",
      "theoretical_recent = np.array([i[1] for i in sorted(theoretical_recent_stds.items(), key=lambda x: x[0])])\n",
      "num_polls_recent = np.array([len(recent_polls[i[0]]) for i in sorted(recent_polls.items(), key=lambda x: x[0])])"
     ],
     "language": "python",
     "metadata": {},
     "outputs": [],
     "prompt_number": 10
    },
    {
     "cell_type": "code",
     "collapsed": false,
     "input": [
      "plt.scatter(x=theoretical_recent, y=observed_recent, s=num_polls_recent * 2, c=\"darkblue\")\n",
      "plt.xlabel('Theoretical Standard Deviation')\n",
      "plt.ylabel('Observed Standard Deviation')\n",
      "plt.title('Observed vs. Theoretical Standard Deviations (Recent Polls)')\n",
      "plt.show()"
     ],
     "language": "python",
     "metadata": {},
     "outputs": [
      {
       "metadata": {},
       "output_type": "display_data",
       "png": "[encoded data removed]",
       "text": [
        "<matplotlib.figure.Figure at 0x109758a50>"
       ]
      }
     ],
     "prompt_number": 11
    },
    {
     "cell_type": "markdown",
     "metadata": {},
     "source": [
      "** Your answer here: **\n",
      "\n",
      "# TODO"
     ]
    },
    {
     "cell_type": "markdown",
     "metadata": {},
     "source": [
      "#### Problem 2(e)\n",
      "\n",
      "Create a scatter plot with each point representing one state. Is there one or more races that are outlier in that it they have much larger variabilityes than expected ? Explore the original poll data and explain why the discrepancy?"
     ]
    },
    {
     "cell_type": "code",
     "collapsed": false,
     "input": [
      "### Your code here ###\n",
      "# make sure we're comparing apples to apples\n",
      "observed = [i[1] for i in sorted(observed_stds.items(), key=lambda x: x[0])]\n",
      "theoretical = [i[1] for i in sorted(theoretical_stds.items(), key=lambda x: x[0])]\n",
      "labels = [candidates.ix[i[0]]['State'] for i in sorted(theoretical_stds.items(), key=lambda x: x[0])]\n",
      "\n",
      "\n",
      "# label code adapted from http://stackoverflow.com/questions/5147112/matplotlib-how-to-put-individual-tags-for-a-scatter-plot\n",
      "plt.subplots_adjust(bottom = 0.1)\n",
      "plt.scatter(theoretical, observed, marker = 'o', c=\"darkblue\")\n",
      "for label, x, y in zip(labels, theoretical, observed):\n",
      "    plt.annotate(\n",
      "        label, \n",
      "        xy = (x, y), xytext = (-5, 5),\n",
      "        textcoords = 'offset points', ha = 'right', va = 'bottom',\n",
      "        bbox = dict(boxstyle = 'round,pad=0.5', fc = 'white', alpha = 0.1))\n",
      "\n",
      "plt.xlabel('Theoretical Standard Deviation')\n",
      "plt.ylabel('Observed Standard Deviation')\n",
      "plt.title('Observed vs. Theoretical Standard Deviations')\n",
      "plt.show()"
     ],
     "language": "python",
     "metadata": {},
     "outputs": [
      {
       "metadata": {},
       "output_type": "display_data",
       "png": "[encoded data removed]",
       "text": [
        "<matplotlib.figure.Figure at 0x1097402d0>"
       ]
      }
     ],
     "prompt_number": 15
    },
    {
     "cell_type": "markdown",
     "metadata": {},
     "source": [
      "** Your answer here: **\n",
      "# TODO"
     ]
    },
    {
     "cell_type": "markdown",
     "metadata": {},
     "source": [
      "#### Problem 2(f)\n",
      "\n",
      " Construct confidence intervals for the difference in each race. Use either theoretical or data driven estimates of the standard error depending on your answer to this question. Use the results in Problem 2(e), to justify your choice.\n"
     ]
    },
    {
     "cell_type": "code",
     "collapsed": false,
     "input": [
      "### Your code here ###\n",
      "# use observed stds\n",
      "stds = observed_stds\n",
      "\n",
      "# confidence interval of republican - democratic %s\n",
      "cis = {}\n",
      "for election in stds:\n",
      "    std = stds[election]\n",
      "    mean = expected_republican[election]\n",
      "    std_lincom = 2 * std\n",
      "    mean_lincom = 2 * mean - 1\n",
      "    cis[election] = (mean_lincom, (-1.96 * std_lincom, 1.96 * std_lincom))\n"
     ],
     "language": "python",
     "metadata": {},
     "outputs": [
      {
       "metadata": {},
       "output_type": "pyout",
       "prompt_number": 22,
       "text": [
        "{u'2014-alaska-senate-sullivan-vs-begich': (-0.14606060606060611,\n",
        "  (-0.1735139327215092, 0.1735139327215092)),\n",
        " u'2014-arkansas-senate-cotton-vs-pryor': (-0.11868852459016366,\n",
        "  (-0.14699892895784353, 0.14699892895784353)),\n",
        " u'2014-colorado-senate-gardner-vs-udall': (-0.10499999999999987,\n",
        "  (-0.099070234543726057, 0.099070234543726057)),\n",
        " u'2014-delaware-senate-wade-vs-coons': (-0.34000000000000008,\n",
        "  (-0.17748554870749322, 0.17748554870749322)),\n",
        " u'2014-georgia-senate-perdue-vs-nunn': (-0.092340425531914461,\n",
        "  (-0.10128650199143141, 0.10128650199143141)),\n",
        " u'2014-georgia-senate-runoff': (-0.089999999999999969,\n",
        "  (-0.12372266753322915, 0.12372266753322915)),\n",
        " u'2014-hawaii-senate-cavasso-vs-schatz': (-0.53500000000000003,\n",
        "  (-0.182365786264859, 0.182365786264859)),\n",
        " u'2014-idaho-senate-risch-vs-mitchell': (0.17666666666666653,\n",
        "  (-0.22913285811220541, 0.22913285811220541)),\n",
        " u'2014-illinois-senate-oberweis-vs-durbin': (-0.24857142857142844,\n",
        "  (-0.10281406668200506, 0.10281406668200506)),\n",
        " u'2014-iowa-senate-ernst-vs-braley': (-0.13018867924528321,\n",
        "  (-0.19699596011565548, 0.19699596011565548)),\n",
        " u'2014-kansas-senate-roberts-vs-orman-vs-taylor': (-0.17839999999999989,\n",
        "  (-0.15879629214814647, 0.15879629214814647)),\n",
        " u'2014-kentucky-senate-mcconnell-vs-grimes': (-0.088771929824560947,\n",
        "  (-0.12396516771664182, 0.12396516771664182)),\n",
        " u'2014-louisiana-senate-cassidy-vs-landrieu': (-0.085454545454545339,\n",
        "  (-0.15031830469796936, 0.15031830469796936)),\n",
        " u'2014-maine-senate-collins-vs-bellows': (0.21999999999999997,\n",
        "  (-0.20305953150082065, 0.20305953150082065)),\n",
        " u'2014-massachusetts-senate-herr-vs-markey': (-0.35999999999999999,\n",
        "  (-0.1012139647808858, 0.1012139647808858)),\n",
        " u'2014-michigan-senate-land-vs-peters': (-0.22360655737704904,\n",
        "  (-0.12951990778895836, 0.12951990778895836)),\n",
        " u'2014-minnesota-senate-mcfadden-vs-franken': (-0.22499999999999987,\n",
        "  (-0.12517860923706459, 0.12517860923706459)),\n",
        " u'2014-mississippi-senate-cochran-vs-childers': (-0.067500000000000004,\n",
        "  (-0.12385055510573956, 0.12385055510573956)),\n",
        " u'2014-montana-senate-daines-vs-curtis': (0.065714285714285836,\n",
        "  (-0.11697612291973367, 0.11697612291973367)),\n",
        " u'2014-nebraska-senate-sasse-vs-domina': (0.11333333333333351,\n",
        "  (-0.13274087037030488, 0.13274087037030488)),\n",
        " u'2014-new-hampshire-senate-brown-vs-shaheen': (-0.1551724137931032,\n",
        "  (-0.15719671532167745, 0.15719671532167745)),\n",
        " u'2014-new-jersey-senate-bell-vs-booker': (-0.28153846153846152,\n",
        "  (-0.20397912412039501, 0.20397912412039501)),\n",
        " u'2014-new-mexico-senate-weh-vs-udall': (-0.245,\n",
        "  (-0.16302419229282311, 0.16302419229282311)),\n",
        " u'2014-north-carolina-senate-tillis-vs-hagan': (-0.16901408450704214,\n",
        "  (-0.13413189220704558, 0.13413189220704558)),\n",
        " u'2014-oklahoma-senate-inhofe-vs-silverstein': (0.22333333333333338,\n",
        "  (-0.15565246758938434, 0.15565246758938434)),\n",
        " u'2014-oklahoma-senate-lankford-vs-johnson': (0.20999999999999996,\n",
        "  (-0.12082251445819235, 0.12082251445819235)),\n",
        " u'2014-oregon-senate-wehby-vs-merkley': (-0.28526315789473677,\n",
        "  (-0.15451967606876849, 0.15451967606876849)),\n",
        " u'2014-rhode-island-senate-zaccaria-vs-reed': (-0.5,\n",
        "  (-0.20742690278746412, 0.20742690278746412)),\n",
        " u'2014-south-carolina-senate-graham-vs-hutto': (-0.084999999999999964,\n",
        "  (-0.11806574439692148, 0.11806574439692148)),\n",
        " u'2014-south-carolina-senate-scott-vs-dickerson': (0.080000000000000071,\n",
        "  (-0.0655941460802731, 0.0655941460802731)),\n",
        " u'2014-south-dakota-senate-rounds-vs-weiland': (-0.14800000000000013,\n",
        "  (-0.24084883225791384, 0.24084883225791384)),\n",
        " u'2014-tennessee-senate-alexander-vs-ball': (0.0033333333333331883,\n",
        "  (-0.13216079095808941, 0.13216079095808941)),\n",
        " u'2014-texas-senate-cornyn-vs-alameel': (0.024444444444444491,\n",
        "  (-0.26498285059812926, 0.26498285059812926)),\n",
        " u'2014-virginia-senate-gillespie-vs-warner': (-0.31454545454545457,\n",
        "  (-0.2423048117932893, 0.2423048117932893)),\n",
        " u'2014-west-virginia-senate-capito-vs-tennant': (0.0128571428571429,\n",
        "  (-0.13974561504060673, 0.13974561504060673)),\n",
        " u'2014-wyoming-senate': (0.35600000000000009,\n",
        "  (-0.17398795360599084, 0.17398795360599084))}"
       ]
      }
     ],
     "prompt_number": 22
    },
    {
     "cell_type": "markdown",
     "metadata": {},
     "source": [
      "# Problem 3: Prediction and Posterior Probabilities\n",
      "\n",
      "Perform a Bayesian analysis to predict the probability of Republicans winning in each state then provide a posterior distribution of the number of republicans in the senate."
     ]
    },
    {
     "cell_type": "markdown",
     "metadata": {},
     "source": [
      "#### Problem 3(a)\n",
      "\n",
      "First, we define a Bayesian model for each race. The prior for the difference $\\theta$ between republicans and democtrats will be $N(\\mu,\\tau^2)$. Say before seeing poll data you have no idea who is going to win, what should $\\mu$ be? How about $\\tau$, should it be large or small? "
     ]
    },
    {
     "cell_type": "markdown",
     "metadata": {},
     "source": [
      "** Your answer here: **"
     ]
    },
    {
     "cell_type": "markdown",
     "metadata": {},
     "source": [
      "#### Problem 3(b)\n",
      "\n",
      "What is the distribution of $d$ conditioned on $\\theta$. What is the posterior distribution of $\\theta | d$?\n",
      "\n",
      "**Hint**: Use normal approximation. "
     ]
    },
    {
     "cell_type": "markdown",
     "metadata": {},
     "source": [
      "**Your answer here:**"
     ]
    },
    {
     "cell_type": "markdown",
     "metadata": {},
     "source": [
      "#### Problem 3(c)\n",
      "\n",
      "The prior represents what we think before hand. We do not know who is expected to win, so we assume $\\mu=0$. For this problem estimate $\\tau$ using the observed differences across states (Hint: $\\tau$ represents the standard deviation of a typical difference). Compute the posterior mean for each state and plot it against original average. Is there much change? Why or why not? "
     ]
    },
    {
     "cell_type": "code",
     "collapsed": false,
     "input": [
      "### Your code here ###"
     ],
     "language": "python",
     "metadata": {},
     "outputs": [],
     "prompt_number": 43
    },
    {
     "cell_type": "markdown",
     "metadata": {},
     "source": [
      "**Your answer here:**"
     ]
    },
    {
     "cell_type": "markdown",
     "metadata": {},
     "source": [
      "#### Problem 3(d)\n",
      "\n",
      "For each state, report a probabilty of Republicans winning. How does your answer here compare to the other aggregators?"
     ]
    },
    {
     "cell_type": "code",
     "collapsed": false,
     "input": [
      "### Your code here ###"
     ],
     "language": "python",
     "metadata": {},
     "outputs": [],
     "prompt_number": 44
    },
    {
     "cell_type": "markdown",
     "metadata": {},
     "source": [
      "**Your answer here:**"
     ]
    },
    {
     "cell_type": "markdown",
     "metadata": {},
     "source": [
      "#### Problem 3(e)\n",
      "\n",
      "Use the posterior distributions in a Monte Carlo simulation to generate election results. In each simulation compute the total number of seats the Republican control. Show a histogram of these results."
     ]
    },
    {
     "cell_type": "code",
     "collapsed": false,
     "input": [
      "### Your code here ###"
     ],
     "language": "python",
     "metadata": {},
     "outputs": [],
     "prompt_number": 45
    },
    {
     "cell_type": "markdown",
     "metadata": {},
     "source": [
      "## Problem 4\n",
      "\n",
      "Predict the results for the 2014 Midterm Elections. We will have a three competitions with the terms for scoring entries described above. For both questions below, **explain** or provide commentary on how you arrived at your predictions including code. \n",
      "\n",
      "**Hint**: Use election results from 2010, 2012 to build and test models."
     ]
    },
    {
     "cell_type": "markdown",
     "metadata": {},
     "source": [
      "#### Problem 4(a)\n",
      "\n",
      "Predict the number of Republican senators. You may provide an interval. Smallest interval that includes the election day result wins. \n",
      "\n",
      "**Note**: we want the total so add the numbers of those that are not up for election."
     ]
    },
    {
     "cell_type": "code",
     "collapsed": false,
     "input": [
      "### Your code here ###"
     ],
     "language": "python",
     "metadata": {},
     "outputs": [],
     "prompt_number": 46
    },
    {
     "cell_type": "markdown",
     "metadata": {},
     "source": [
      "**Provide an explanation of methodology here**:"
     ]
    },
    {
     "cell_type": "markdown",
     "metadata": {},
     "source": [
      "#### Problem 4(b)\n",
      "\n",
      "Predict the R-D difference in each state. The predictions that minimize the residual sum of squares between predicted and observed differences wins."
     ]
    },
    {
     "cell_type": "code",
     "collapsed": false,
     "input": [
      "### Your code here ###"
     ],
     "language": "python",
     "metadata": {},
     "outputs": [],
     "prompt_number": 47
    },
    {
     "cell_type": "markdown",
     "metadata": {},
     "source": [
      "**Provide an explanation of methodology here**:"
     ]
    },
    {
     "cell_type": "markdown",
     "metadata": {},
     "source": [
      "#### Problem 4(c)\n",
      "\n",
      "Report a confidence interval for the R-D difference in each state. If the election day result falls outside your confidence interval in more than two states you are eliminated. For those surviving this cutoff, we will add up the size of all confidence intervals and sum. The smallest total length of confidence interval wins. \n",
      "\n",
      "**Note**: you can use Bayesian credible intervals or whatever else you want. "
     ]
    },
    {
     "cell_type": "code",
     "collapsed": false,
     "input": [
      "### Your code here ###"
     ],
     "language": "python",
     "metadata": {},
     "outputs": [],
     "prompt_number": 48
    },
    {
     "cell_type": "markdown",
     "metadata": {},
     "source": [
      "**Provide an explanation of methodology here**:"
     ]
    },
    {
     "cell_type": "markdown",
     "metadata": {},
     "source": [
      "# Submission Instructions\n",
      "\n",
      "To submit your homework, create a folder named **lastname_firstinitial_hw#** and place your IPython notebooks, data files, and any other files in this folder. Your IPython Notebooks should be completely executed with the results visible in the notebook. We should not have to run any code.  Compress the folder (please use .zip compression) and submit to the CS109 dropbox in the appropriate folder. *If we cannot access your work because these directions are not followed correctly, we will not grade your work.*\n"
     ]
    }
   ],
   "metadata": {}
  }
 ]
}