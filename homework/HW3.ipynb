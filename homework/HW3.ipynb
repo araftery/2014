{
 "metadata": {
  "name": "",
  "signature": "sha256:8e7983eb6eeed28620846c3a17643d86fa069daaf46f59d10814082f820dfaa3"
 },
 "nbformat": 3,
 "nbformat_minor": 0,
 "worksheets": [
  {
   "cells": [
    {
     "cell_type": "markdown",
     "metadata": {},
     "source": [
      "# Homework 3: Prediction and Classification\n",
      "\n",
      "Due: Thursday, October 16, 2014 11:59 PM\n",
      "\n",
      "<a href=https://raw.githubusercontent.com/cs109/2014/master/homework/HW3.ipynb download=HW3.ipynb> Download this assignment</a>\n",
      "\n",
      "#### Submission Instructions\n",
      "To submit your homework, create a folder named lastname_firstinitial_hw# and place your IPython notebooks, data files, and any other files in this folder. Your IPython Notebooks should be completely executed with the results visible in the notebook. We should not have to run any code. Compress the folder (please use .zip compression) and submit to the CS109 dropbox in the appropriate folder. If we cannot access your work because these directions are not followed correctly, we will not grade your work.\n",
      "\n",
      "---\n"
     ]
    },
    {
     "cell_type": "markdown",
     "metadata": {},
     "source": [
      "# Introduction\n",
      "\n",
      "In this assignment you will be using regression and classification to explore different data sets.  \n",
      "\n",
      "**First**: You will use data from before 2002 in the [Sean Lahman's Baseball Database](http://seanlahman.com/baseball-archive/statistics) to create a metric for picking baseball players using linear regression. This is same database we used in Homework 1. This database contains the \"complete batting and pitching statistics from 1871 to 2013, plus fielding statistics, standings, team stats, managerial records, post-season data, and more\". [Documentation provided here](http://seanlahman.com/files/database/readme2012.txt).\n",
      "\n",
      "![\"Sabermetrics Science\"](http://saberseminar.com/wp-content/uploads/2012/01/saber-web.jpg)\n",
      "http://saberseminar.com/wp-content/uploads/2012/01/saber-web.jpg\n",
      "\n",
      "**Second**: You will use the famous [iris](http://en.wikipedia.org/wiki/Iris_flower_data_set) data set to perform a $k$-neareast neighbor classification using cross validation.  While it was introduced in 1936, it is still [one of the most popular](http://archive.ics.uci.edu/ml/) example data sets in the machine learning community. Wikipedia describes the data set as follows: \"The data set consists of 50 samples from each of three species of Iris (Iris setosa, Iris virginica and Iris versicolor). Four features were measured from each sample: the length and the width of the sepals and petals, in centimetres.\" Here is an illustration what the four features measure:\n",
      "\n",
      "![\"iris data features\"](http://sebastianraschka.com/Images/2014_python_lda/iris_petal_sepal.png)\n",
      "http://sebastianraschka.com/Images/2014_python_lda/iris_petal_sepal.png\n",
      "\n",
      "**Third**: You will investigate the influence of higher dimensional spaces on the classification using another standard data set in machine learning called the The [digits data set](http://scikit-learn.org/stable/modules/generated/sklearn.datasets.load_digits.html).  This data set is similar to the MNIST data set discussed in the lecture. The main difference is, that each digit is represented by an 8x8 pixel image patch, which is considerably smaller than the 28x28 pixels from MNIST. In addition, the gray values are restricted to 16 different values (4 bit), instead of 256 (8 bit) for MNIST. \n",
      "\n",
      "**Finally**: In preparation for Homework 4, we want you to read through the following articles related to predicting the 2014 Senate Midterm Elections. \n",
      "\n",
      "* [Nate Silver's Methodology at while at NYT](http://fivethirtyeight.blogs.nytimes.com/methodology/)\n",
      "* [How The FiveThirtyEight Senate Forecast Model Works](http://fivethirtyeight.com/features/how-the-fivethirtyeight-senate-forecast-model-works/)\n",
      "* [Pollster Ratings v4.0: Methodology](http://fivethirtyeight.com/features/pollster-ratings-v40-methodology/)\n",
      "* [Pollster Ratings v4.0: Results](http://fivethirtyeight.com/features/pollster-ratings-v40-results/)\n",
      "* [Nate Silver versus Sam Wang](http://www.washingtonpost.com/blogs/plum-line/wp/2014/09/17/nate-silver-versus-sam-wang/)\n",
      "* [More Nate Silver versus Sam Wang](http://www.dailykos.com/story/2014/09/09/1328288/-Get-Ready-To-Rumbllllle-Battle-Of-The-Nerds-Nate-Silver-VS-Sam-Wang)\n",
      "* [Nate Silver explains critisims of Sam Wang](http://politicalwire.com/archives/2014/10/02/nate_silver_rebuts_sam_wang.html)\n",
      "* [Background on the feud between Nate Silver and Sam Wang](http://talkingpointsmemo.com/dc/nate-silver-sam-wang-feud)\n",
      "* [Are there swing voters?]( http://www.stat.columbia.edu/~gelman/research/unpublished/swing_voters.pdf)\n",
      "\n",
      "\n",
      "\n",
      "---"
     ]
    },
    {
     "cell_type": "markdown",
     "metadata": {},
     "source": [
      "## Load Python modules"
     ]
    },
    {
     "cell_type": "code",
     "collapsed": false,
     "input": [
      "# special IPython command to prepare the notebook for matplotlib\n",
      "%matplotlib inline \n",
      "\n",
      "import requests \n",
      "import StringIO\n",
      "import zipfile\n",
      "import numpy as np\n",
      "import pandas as pd # pandas\n",
      "import matplotlib.pyplot as plt # module for plotting \n",
      "\n",
      "# If this module is not already installed, you may need to install it. \n",
      "# You can do this by typing 'pip install seaborn' in the command line\n",
      "import seaborn as sns \n",
      "\n",
      "import sklearn\n",
      "import sklearn.datasets\n",
      "import sklearn.cross_validation\n",
      "import sklearn.decomposition\n",
      "import sklearn.grid_search\n",
      "import sklearn.neighbors\n",
      "import sklearn.metrics"
     ],
     "language": "python",
     "metadata": {},
     "outputs": [],
     "prompt_number": 60
    },
    {
     "cell_type": "markdown",
     "metadata": {},
     "source": [
      "# Problem 1: Sabermetrics\n",
      "\n",
      "Using data preceding the 2002 season pick 10 offensive players keeping the payroll under $20 million (assign each player the median salary). Predict how many games this team would win in a 162 game season.  \n",
      "\n",
      "In this problem we will be returning to the [Sean Lahman's Baseball Database](http://seanlahman.com/baseball-archive/statistics) that we used in Homework 1.  From this database, we will be extract five data sets containing information such as yearly stats and standing, batting statistics, fielding statistics, player names, player salaries and biographical information. You will explore the data in this database from before 2002 and create a metric for picking players. "
     ]
    },
    {
     "cell_type": "markdown",
     "metadata": {},
     "source": [
      "#### Problem 1(a) \n",
      "\n",
      "Load in [these CSV files](http://seanlahman.com/files/database/lahman-csv_2014-02-14.zip) from the [Sean Lahman's Baseball Database](http://seanlahman.com/baseball-archive/statistics). For this assignment, we will use the 'Teams.csv', 'Batting.csv', 'Salaries.csv', 'Fielding.csv', 'Master.csv' tables. Read these tables into separate pandas DataFrames with the following names. \n",
      "\n",
      "CSV file name | Name of pandas DataFrame\n",
      ":---: | :---: \n",
      "Teams.csv | teams\n",
      "Batting.csv | players\n",
      "Salaries.csv | salaries\n",
      "Fielding.csv | fielding\n",
      "Master.csv | master"
     ]
    },
    {
     "cell_type": "code",
     "collapsed": false,
     "input": [
      "### Your code here ###\n",
      "filepath_root = 'hw3_files/problem1/'\n",
      "teams = pd.read_csv(filepath_root + 'Teams.csv')\n",
      "players = pd.read_csv(filepath_root + 'Batting.csv')\n",
      "salaries = pd.read_csv(filepath_root + 'Salaries.csv')\n",
      "fielding = pd.read_csv(filepath_root + 'Fielding.csv')\n",
      "master = pd.read_csv(filepath_root + 'Master.csv')"
     ],
     "language": "python",
     "metadata": {},
     "outputs": [],
     "prompt_number": 61
    },
    {
     "cell_type": "markdown",
     "metadata": {},
     "source": [
      "#### Problem 1(b)\n",
      "\n",
      "Calculate the median salary for each player and create a pandas DataFrame called `medianSalaries` with four columns: (1) the player ID, (2) the first name of the player, (3) the last name of the player and (4) the median salary of the player. Show the head of the `medianSalaries` DataFrame.   "
     ]
    },
    {
     "cell_type": "code",
     "collapsed": false,
     "input": [
      "### Your code here ###\n",
      "\n",
      "salary_medians = salaries.groupby('playerID').median()\n",
      "salary_plus_master = pd.merge(master.set_index('playerID'), salary_medians, left_index=True, right_index=True)\n",
      "medianSalaries = salary_plus_master[['nameFirst', 'nameLast', 'salary']].reset_index()\n",
      "medianSalaries.head()"
     ],
     "language": "python",
     "metadata": {},
     "outputs": [
      {
       "html": [
        "<div style=\"max-height:1000px;max-width:1500px;overflow:auto;\">\n",
        "<table border=\"1\" class=\"dataframe\">\n",
        "  <thead>\n",
        "    <tr style=\"text-align: right;\">\n",
        "      <th></th>\n",
        "      <th>playerID</th>\n",
        "      <th>nameFirst</th>\n",
        "      <th>nameLast</th>\n",
        "      <th>salary</th>\n",
        "    </tr>\n",
        "  </thead>\n",
        "  <tbody>\n",
        "    <tr>\n",
        "      <th>0</th>\n",
        "      <td> aardsda01</td>\n",
        "      <td>    David</td>\n",
        "      <td> Aardsma</td>\n",
        "      <td> 419000</td>\n",
        "    </tr>\n",
        "    <tr>\n",
        "      <th>1</th>\n",
        "      <td>  aasedo01</td>\n",
        "      <td>      Don</td>\n",
        "      <td>    Aase</td>\n",
        "      <td> 612500</td>\n",
        "    </tr>\n",
        "    <tr>\n",
        "      <th>2</th>\n",
        "      <td>  abadan01</td>\n",
        "      <td>     Andy</td>\n",
        "      <td>    Abad</td>\n",
        "      <td> 327000</td>\n",
        "    </tr>\n",
        "    <tr>\n",
        "      <th>3</th>\n",
        "      <td>  abadfe01</td>\n",
        "      <td> Fernando</td>\n",
        "      <td>    Abad</td>\n",
        "      <td> 451500</td>\n",
        "    </tr>\n",
        "    <tr>\n",
        "      <th>4</th>\n",
        "      <td> abbotje01</td>\n",
        "      <td>     Jeff</td>\n",
        "      <td>  Abbott</td>\n",
        "      <td> 255000</td>\n",
        "    </tr>\n",
        "  </tbody>\n",
        "</table>\n",
        "<p>5 rows \u00d7 4 columns</p>\n",
        "</div>"
       ],
       "metadata": {},
       "output_type": "pyout",
       "prompt_number": 62,
       "text": [
        "    playerID nameFirst nameLast  salary\n",
        "0  aardsda01     David  Aardsma  419000\n",
        "1   aasedo01       Don     Aase  612500\n",
        "2   abadan01      Andy     Abad  327000\n",
        "3   abadfe01  Fernando     Abad  451500\n",
        "4  abbotje01      Jeff   Abbott  255000\n",
        "\n",
        "[5 rows x 4 columns]"
       ]
      }
     ],
     "prompt_number": 62
    },
    {
     "cell_type": "markdown",
     "metadata": {},
     "source": [
      "#### Problem 1(c)\n",
      "\n",
      "Now, consider only team/season combinations in which the teams played 162 Games. Exclude all data from before 1947. Compute the per plate appearance rates for singles, doubles, triples, HR, and BB. Create a new pandas DataFrame called `stats` that has the teamID, yearID, wins and these rates.\n",
      "\n",
      "**Hint**: Singles are hits that are not doubles, triples, nor HR. Plate appearances are base on balls plus at bats."
     ]
    },
    {
     "cell_type": "code",
     "collapsed": false,
     "input": [
      "### Your code here ###\n",
      "teams = teams[(teams['yearID'] >= 1947) & (teams['G'] == 162)]\n",
      "stats = teams[['teamID', 'yearID', 'W', 'AB', 'H', 'BB', '2B', '3B', 'HR']]\n",
      "stats['PA'] = stats['AB'] + stats['BB']\n",
      "stats['1B'] = stats['H'] - (stats['2B'] + stats['3B'] + stats['HR'])\n",
      "\n",
      "# divide stats by plate appearances\n",
      "stats_percentages = stats[['BB', '1B', '2B', '3B', 'HR']].div(stats['PA'], axis='index')\n",
      "\n",
      "# merge back in other data\n",
      "stats = pd.merge(stats[['teamID', 'yearID', 'PA', 'W']], stats_percentages, left_index=True, right_index=True)\n",
      "\n",
      "stats.head()"
     ],
     "language": "python",
     "metadata": {},
     "outputs": [
      {
       "html": [
        "<div style=\"max-height:1000px;max-width:1500px;overflow:auto;\">\n",
        "<table border=\"1\" class=\"dataframe\">\n",
        "  <thead>\n",
        "    <tr style=\"text-align: right;\">\n",
        "      <th></th>\n",
        "      <th>teamID</th>\n",
        "      <th>yearID</th>\n",
        "      <th>PA</th>\n",
        "      <th>W</th>\n",
        "      <th>BB</th>\n",
        "      <th>1B</th>\n",
        "      <th>2B</th>\n",
        "      <th>3B</th>\n",
        "      <th>HR</th>\n",
        "    </tr>\n",
        "  </thead>\n",
        "  <tbody>\n",
        "    <tr>\n",
        "      <th>1366</th>\n",
        "      <td> LAA</td>\n",
        "      <td> 1961</td>\n",
        "      <td> 6105</td>\n",
        "      <td> 70</td>\n",
        "      <td> 0.111548</td>\n",
        "      <td> 0.147748</td>\n",
        "      <td> 0.035708</td>\n",
        "      <td> 0.003604</td>\n",
        "      <td> 0.030958</td>\n",
        "    </tr>\n",
        "    <tr>\n",
        "      <th>1367</th>\n",
        "      <td> KC1</td>\n",
        "      <td> 1961</td>\n",
        "      <td> 6003</td>\n",
        "      <td> 61</td>\n",
        "      <td> 0.096618</td>\n",
        "      <td> 0.164751</td>\n",
        "      <td> 0.035982</td>\n",
        "      <td> 0.007829</td>\n",
        "      <td> 0.014993</td>\n",
        "    </tr>\n",
        "    <tr>\n",
        "      <th>1377</th>\n",
        "      <td> NYA</td>\n",
        "      <td> 1962</td>\n",
        "      <td> 6228</td>\n",
        "      <td> 96</td>\n",
        "      <td> 0.093770</td>\n",
        "      <td> 0.167148</td>\n",
        "      <td> 0.038536</td>\n",
        "      <td> 0.004656</td>\n",
        "      <td> 0.031952</td>\n",
        "    </tr>\n",
        "    <tr>\n",
        "      <th>1379</th>\n",
        "      <td> LAA</td>\n",
        "      <td> 1962</td>\n",
        "      <td> 6101</td>\n",
        "      <td> 86</td>\n",
        "      <td> 0.098672</td>\n",
        "      <td> 0.159482</td>\n",
        "      <td> 0.038027</td>\n",
        "      <td> 0.005737</td>\n",
        "      <td> 0.022455</td>\n",
        "    </tr>\n",
        "    <tr>\n",
        "      <th>1381</th>\n",
        "      <td> CHA</td>\n",
        "      <td> 1962</td>\n",
        "      <td> 6134</td>\n",
        "      <td> 85</td>\n",
        "      <td> 0.101076</td>\n",
        "      <td> 0.165797</td>\n",
        "      <td> 0.040756</td>\n",
        "      <td> 0.009129</td>\n",
        "      <td> 0.014998</td>\n",
        "    </tr>\n",
        "  </tbody>\n",
        "</table>\n",
        "<p>5 rows \u00d7 9 columns</p>\n",
        "</div>"
       ],
       "metadata": {},
       "output_type": "pyout",
       "prompt_number": 63,
       "text": [
        "     teamID  yearID    PA   W        BB        1B        2B        3B  \\\n",
        "1366    LAA    1961  6105  70  0.111548  0.147748  0.035708  0.003604   \n",
        "1367    KC1    1961  6003  61  0.096618  0.164751  0.035982  0.007829   \n",
        "1377    NYA    1962  6228  96  0.093770  0.167148  0.038536  0.004656   \n",
        "1379    LAA    1962  6101  86  0.098672  0.159482  0.038027  0.005737   \n",
        "1381    CHA    1962  6134  85  0.101076  0.165797  0.040756  0.009129   \n",
        "\n",
        "            HR  \n",
        "1366  0.030958  \n",
        "1367  0.014993  \n",
        "1377  0.031952  \n",
        "1379  0.022455  \n",
        "1381  0.014998  \n",
        "\n",
        "[5 rows x 9 columns]"
       ]
      }
     ],
     "prompt_number": 63
    },
    {
     "cell_type": "markdown",
     "metadata": {},
     "source": [
      "#### Problem 1(d)\n",
      "\n",
      "Is there a noticeable time trend in the rates computed computed in Problem 1(c)? "
     ]
    },
    {
     "cell_type": "code",
     "collapsed": false,
     "input": [
      "### Your code here ###\n",
      "stats[['yearID', 'BB', '1B', '2B', '3B', 'HR']].groupby('yearID').median().plot()\n",
      "plt.title('Median Stats Over Time')\n",
      "plt.ylabel('% of Plate Appearances')\n",
      "plt.xlabel('Season')\n",
      "plt.show()"
     ],
     "language": "python",
     "metadata": {},
     "outputs": [
      {
       "metadata": {},
       "output_type": "display_data",
       "png": "[encoded data removed]",
       "text": [
        "<matplotlib.figure.Figure at 0x10a756950>"
       ]
      }
     ],
     "prompt_number": 64
    },
    {
     "cell_type": "markdown",
     "metadata": {},
     "source": [
      "Over time, the rate of doubles and home runs have risen slightly, while the rate of singles has fallen slightly. The rates of walks and triples have remained more or less stagnant."
     ]
    },
    {
     "cell_type": "markdown",
     "metadata": {},
     "source": [
      "#### Problem 1(e) \n",
      "\n",
      "Using the `stats` DataFrame from Problem 1(c), adjust the singles per PA rates so that the average across teams for each year is 0. Do the same for the doubles, triples, HR, and BB rates. "
     ]
    },
    {
     "cell_type": "code",
     "collapsed": false,
     "input": [
      "### Your code here ###\n",
      "from scipy.stats import zscore\n",
      "stats_subset = stats[['yearID', 'teamID', 'BB', '1B', '2B', '3B', 'HR']].set_index(['yearID', 'teamID'])\n",
      "\n",
      "means = stats_subset.reset_index().groupby('yearID').mean()\n",
      "normalized_stats_subset = stats_subset.subtract(means, level=0)\n",
      "\n",
      "normalized_stats = pd.merge(stats.set_index(['yearID', 'teamID'])[['PA', 'W']], normalized_stats_subset, left_index=True, right_index=True)\n",
      "normalized_stats.head()"
     ],
     "language": "python",
     "metadata": {},
     "outputs": [
      {
       "html": [
        "<div style=\"max-height:1000px;max-width:1500px;overflow:auto;\">\n",
        "<table border=\"1\" class=\"dataframe\">\n",
        "  <thead>\n",
        "    <tr style=\"text-align: right;\">\n",
        "      <th></th>\n",
        "      <th></th>\n",
        "      <th>PA</th>\n",
        "      <th>W</th>\n",
        "      <th>BB</th>\n",
        "      <th>1B</th>\n",
        "      <th>2B</th>\n",
        "      <th>3B</th>\n",
        "      <th>HR</th>\n",
        "    </tr>\n",
        "    <tr>\n",
        "      <th>yearID</th>\n",
        "      <th>teamID</th>\n",
        "      <th></th>\n",
        "      <th></th>\n",
        "      <th></th>\n",
        "      <th></th>\n",
        "      <th></th>\n",
        "      <th></th>\n",
        "      <th></th>\n",
        "    </tr>\n",
        "  </thead>\n",
        "  <tbody>\n",
        "    <tr>\n",
        "      <th rowspan=\"2\" valign=\"top\">1961</th>\n",
        "      <th>LAA</th>\n",
        "      <td> 6105</td>\n",
        "      <td> 70</td>\n",
        "      <td> 0.007465</td>\n",
        "      <td>-0.008502</td>\n",
        "      <td>-0.000137</td>\n",
        "      <td>-0.002113</td>\n",
        "      <td> 0.007983</td>\n",
        "    </tr>\n",
        "    <tr>\n",
        "      <th>KC1</th>\n",
        "      <td> 6003</td>\n",
        "      <td> 61</td>\n",
        "      <td>-0.007465</td>\n",
        "      <td> 0.008502</td>\n",
        "      <td> 0.000137</td>\n",
        "      <td> 0.002113</td>\n",
        "      <td>-0.007983</td>\n",
        "    </tr>\n",
        "    <tr>\n",
        "      <th rowspan=\"3\" valign=\"top\">1962</th>\n",
        "      <th>NYA</th>\n",
        "      <td> 6228</td>\n",
        "      <td> 96</td>\n",
        "      <td> 0.005180</td>\n",
        "      <td> 0.001516</td>\n",
        "      <td> 0.002683</td>\n",
        "      <td>-0.002121</td>\n",
        "      <td> 0.008141</td>\n",
        "    </tr>\n",
        "    <tr>\n",
        "      <th>LAA</th>\n",
        "      <td> 6101</td>\n",
        "      <td> 86</td>\n",
        "      <td> 0.010082</td>\n",
        "      <td>-0.006150</td>\n",
        "      <td> 0.002174</td>\n",
        "      <td>-0.001040</td>\n",
        "      <td>-0.001356</td>\n",
        "    </tr>\n",
        "    <tr>\n",
        "      <th>CHA</th>\n",
        "      <td> 6134</td>\n",
        "      <td> 85</td>\n",
        "      <td> 0.012486</td>\n",
        "      <td> 0.000165</td>\n",
        "      <td> 0.004904</td>\n",
        "      <td> 0.002352</td>\n",
        "      <td>-0.008813</td>\n",
        "    </tr>\n",
        "  </tbody>\n",
        "</table>\n",
        "<p>5 rows \u00d7 7 columns</p>\n",
        "</div>"
       ],
       "metadata": {},
       "output_type": "pyout",
       "prompt_number": 65,
       "text": [
        "                 PA   W        BB        1B        2B        3B        HR\n",
        "yearID teamID                                                            \n",
        "1961   LAA     6105  70  0.007465 -0.008502 -0.000137 -0.002113  0.007983\n",
        "       KC1     6003  61 -0.007465  0.008502  0.000137  0.002113 -0.007983\n",
        "1962   NYA     6228  96  0.005180  0.001516  0.002683 -0.002121  0.008141\n",
        "       LAA     6101  86  0.010082 -0.006150  0.002174 -0.001040 -0.001356\n",
        "       CHA     6134  85  0.012486  0.000165  0.004904  0.002352 -0.008813\n",
        "\n",
        "[5 rows x 7 columns]"
       ]
      }
     ],
     "prompt_number": 65
    },
    {
     "cell_type": "markdown",
     "metadata": {},
     "source": [
      "#### Problem 1(f)\n",
      "\n",
      "Build a simple linear regression model to predict the number of wins from the average adjusted singles, double, triples, HR, and BB rates. To decide which of these terms to include fit the model to data from 2002 and compute the average squared residuals from predictions to years past 2012. Use the fitted model to define a new sabermetric summary: offensive predicted wins (OPW). Hint: the new summary should be a linear combination of one to five of the five rates.\n"
     ]
    },
    {
     "cell_type": "code",
     "collapsed": false,
     "input": [
      "### Your code here ###\n",
      "import statsmodels.api as sm\n",
      "import itertools\n",
      "\n",
      "normalized_stats = normalized_stats.reset_index()\n",
      "stats1 = normalized_stats[normalized_stats['yearID'] < 2002]\n",
      "stats2 = normalized_stats[normalized_stats['yearID'] >= 2002]\n",
      "\n",
      "\n",
      "Y = stats1['W']\n",
      "regressors = ['BB', '1B', '2B', '3B', 'HR']\n",
      "combinations = list(itertools.chain(*[itertools.combinations(regressors, i) for i in range(1, len(regressors) + 1)]))\n",
      "models = []\n",
      "\n",
      "for regs in combinations:\n",
      "    X = stats1[list(regs)]\n",
      "    X = sm.add_constant(X)\n",
      "    model = sm.OLS(Y,X).fit()\n",
      "    models.append(model)\n",
      "\n",
      "best_model = 0\n",
      "mses = {}\n",
      "for i, model in enumerate(models):\n",
      "    regs = model.params.index[1:]\n",
      "    X = stats2[regs]\n",
      "    X = sm.add_constant(X)\n",
      "    predictions = model.predict(X)\n",
      "    errors = (predictions - stats2['W']) ** 2\n",
      "    mse = errors.mean()\n",
      "    if not mses or mse < np.min(mses.values()):\n",
      "        best_model = i\n",
      "    mses[i] = mse\n",
      "\n",
      "best_model = models[best_model]\n",
      "best_model.summary()"
     ],
     "language": "python",
     "metadata": {},
     "outputs": [
      {
       "html": [
        "<table class=\"simpletable\">\n",
        "<caption>OLS Regression Results</caption>\n",
        "<tr>\n",
        "  <th>Dep. Variable:</th>            <td>W</td>        <th>  R-squared:         </th> <td>   0.393</td>\n",
        "</tr>\n",
        "<tr>\n",
        "  <th>Model:</th>                   <td>OLS</td>       <th>  Adj. R-squared:    </th> <td>   0.389</td>\n",
        "</tr>\n",
        "<tr>\n",
        "  <th>Method:</th>             <td>Least Squares</td>  <th>  F-statistic:       </th> <td>   85.03</td>\n",
        "</tr>\n",
        "<tr>\n",
        "  <th>Date:</th>             <td>Thu, 09 Oct 2014</td> <th>  Prob (F-statistic):</th> <td>7.52e-69</td>\n",
        "</tr>\n",
        "<tr>\n",
        "  <th>Time:</th>                 <td>01:29:51</td>     <th>  Log-Likelihood:    </th> <td> -2375.3</td>\n",
        "</tr>\n",
        "<tr>\n",
        "  <th>No. Observations:</th>      <td>   662</td>      <th>  AIC:               </th> <td>   4763.</td>\n",
        "</tr>\n",
        "<tr>\n",
        "  <th>Df Residuals:</th>          <td>   656</td>      <th>  BIC:               </th> <td>   4790.</td>\n",
        "</tr>\n",
        "<tr>\n",
        "  <th>Df Model:</th>              <td>     5</td>      <th>                     </th>     <td> </td>   \n",
        "</tr>\n",
        "</table>\n",
        "<table class=\"simpletable\">\n",
        "<tr>\n",
        "    <td></td>       <th>coef</th>     <th>std err</th>      <th>t</th>      <th>P>|t|</th> <th>[95.0% Conf. Int.]</th> \n",
        "</tr>\n",
        "<tr>\n",
        "  <th>const</th> <td>   81.0634</td> <td>    0.342</td> <td>  237.265</td> <td> 0.000</td> <td>   80.393    81.734</td>\n",
        "</tr>\n",
        "<tr>\n",
        "  <th>BB</th>    <td>  511.4594</td> <td>   37.915</td> <td>   13.490</td> <td> 0.000</td> <td>  437.010   585.909</td>\n",
        "</tr>\n",
        "<tr>\n",
        "  <th>1B</th>    <td>  523.5112</td> <td>   46.448</td> <td>   11.271</td> <td> 0.000</td> <td>  432.306   614.716</td>\n",
        "</tr>\n",
        "<tr>\n",
        "  <th>2B</th>    <td>  479.7367</td> <td>   94.480</td> <td>    5.078</td> <td> 0.000</td> <td>  294.218   665.255</td>\n",
        "</tr>\n",
        "<tr>\n",
        "  <th>3B</th>    <td> 1138.4860</td> <td>  231.292</td> <td>    4.922</td> <td> 0.000</td> <td>  684.323  1592.649</td>\n",
        "</tr>\n",
        "<tr>\n",
        "  <th>HR</th>    <td>  851.6722</td> <td>   80.316</td> <td>   10.604</td> <td> 0.000</td> <td>  693.965  1009.379</td>\n",
        "</tr>\n",
        "</table>\n",
        "<table class=\"simpletable\">\n",
        "<tr>\n",
        "  <th>Omnibus:</th>       <td> 0.253</td> <th>  Durbin-Watson:     </th> <td>   1.787</td>\n",
        "</tr>\n",
        "<tr>\n",
        "  <th>Prob(Omnibus):</th> <td> 0.881</td> <th>  Jarque-Bera (JB):  </th> <td>   0.357</td>\n",
        "</tr>\n",
        "<tr>\n",
        "  <th>Skew:</th>          <td>-0.004</td> <th>  Prob(JB):          </th> <td>   0.836</td>\n",
        "</tr>\n",
        "<tr>\n",
        "  <th>Kurtosis:</th>      <td> 2.887</td> <th>  Cond. No.          </th> <td>    685.</td>\n",
        "</tr>\n",
        "</table>"
       ],
       "metadata": {},
       "output_type": "pyout",
       "prompt_number": 66,
       "text": [
        "<class 'statsmodels.iolib.summary.Summary'>\n",
        "\"\"\"\n",
        "                            OLS Regression Results                            \n",
        "==============================================================================\n",
        "Dep. Variable:                      W   R-squared:                       0.393\n",
        "Model:                            OLS   Adj. R-squared:                  0.389\n",
        "Method:                 Least Squares   F-statistic:                     85.03\n",
        "Date:                Thu, 09 Oct 2014   Prob (F-statistic):           7.52e-69\n",
        "Time:                        01:29:51   Log-Likelihood:                -2375.3\n",
        "No. Observations:                 662   AIC:                             4763.\n",
        "Df Residuals:                     656   BIC:                             4790.\n",
        "Df Model:                           5                                         \n",
        "==============================================================================\n",
        "                 coef    std err          t      P>|t|      [95.0% Conf. Int.]\n",
        "------------------------------------------------------------------------------\n",
        "const         81.0634      0.342    237.265      0.000        80.393    81.734\n",
        "BB           511.4594     37.915     13.490      0.000       437.010   585.909\n",
        "1B           523.5112     46.448     11.271      0.000       432.306   614.716\n",
        "2B           479.7367     94.480      5.078      0.000       294.218   665.255\n",
        "3B          1138.4860    231.292      4.922      0.000       684.323  1592.649\n",
        "HR           851.6722     80.316     10.604      0.000       693.965  1009.379\n",
        "==============================================================================\n",
        "Omnibus:                        0.253   Durbin-Watson:                   1.787\n",
        "Prob(Omnibus):                  0.881   Jarque-Bera (JB):                0.357\n",
        "Skew:                          -0.004   Prob(JB):                        0.836\n",
        "Kurtosis:                       2.887   Cond. No.                         685.\n",
        "==============================================================================\n",
        "\"\"\""
       ]
      }
     ],
     "prompt_number": 66
    },
    {
     "cell_type": "code",
     "collapsed": false,
     "input": [
      "def to_equation(model, yvar):\n",
      "    return '{} = '.format(yvar) + ' + '.join(['({} * {})'.format(*i) for i in zip(model.params[::-1][:-1], model.params.index[::-1][:-1])]) + ' + {}'.format(model.params[0])\n",
      "\n",
      "X = stats2[best_model.params.index[1:]]\n",
      "X = sm.add_constant(X)\n",
      "predictions = best_model.predict(X)\n",
      "actual = stats2['W']\n",
      "\n",
      "plt.scatter(predictions, actual)\n",
      "plt.title('Actual vs. Predicted Wins Using Best Model, 2002 - 2012 Data')\n",
      "plt.xlabel('Actual Wins')\n",
      "plt.ylabel('Predicted Wins')\n",
      "plt.xlim([55, 105])\n",
      "plt.ylim([55, 105])\n",
      "plt.show()"
     ],
     "language": "python",
     "metadata": {},
     "outputs": [
      {
       "metadata": {},
       "output_type": "display_data",
       "png": "[encoded data removed]",
       "text": [
        "<matplotlib.figure.Figure at 0x10a9e2fd0>"
       ]
      }
     ],
     "prompt_number": 67
    },
    {
     "cell_type": "code",
     "collapsed": false,
     "input": [
      "# calcualte \"OPW\" for all stats\n",
      "X = normalized_stats[best_model.params.index[1:]]\n",
      "X = sm.add_constant(X)\n",
      "predictions = best_model.predict(X)\n",
      "normalized_stats['OPW'] = predictions\n",
      "normalized_stats.head()"
     ],
     "language": "python",
     "metadata": {},
     "outputs": [
      {
       "html": [
        "<div style=\"max-height:1000px;max-width:1500px;overflow:auto;\">\n",
        "<table border=\"1\" class=\"dataframe\">\n",
        "  <thead>\n",
        "    <tr style=\"text-align: right;\">\n",
        "      <th></th>\n",
        "      <th>yearID</th>\n",
        "      <th>teamID</th>\n",
        "      <th>PA</th>\n",
        "      <th>W</th>\n",
        "      <th>BB</th>\n",
        "      <th>1B</th>\n",
        "      <th>2B</th>\n",
        "      <th>3B</th>\n",
        "      <th>HR</th>\n",
        "      <th>OPW</th>\n",
        "    </tr>\n",
        "  </thead>\n",
        "  <tbody>\n",
        "    <tr>\n",
        "      <th>0</th>\n",
        "      <td> 1961</td>\n",
        "      <td> LAA</td>\n",
        "      <td> 6105</td>\n",
        "      <td> 70</td>\n",
        "      <td> 0.007465</td>\n",
        "      <td>-0.008502</td>\n",
        "      <td>-0.000137</td>\n",
        "      <td>-0.002113</td>\n",
        "      <td> 0.007983</td>\n",
        "      <td> 84.758335</td>\n",
        "    </tr>\n",
        "    <tr>\n",
        "      <th>1</th>\n",
        "      <td> 1961</td>\n",
        "      <td> KC1</td>\n",
        "      <td> 6003</td>\n",
        "      <td> 61</td>\n",
        "      <td>-0.007465</td>\n",
        "      <td> 0.008502</td>\n",
        "      <td> 0.000137</td>\n",
        "      <td> 0.002113</td>\n",
        "      <td>-0.007983</td>\n",
        "      <td> 77.368554</td>\n",
        "    </tr>\n",
        "    <tr>\n",
        "      <th>2</th>\n",
        "      <td> 1962</td>\n",
        "      <td> NYA</td>\n",
        "      <td> 6228</td>\n",
        "      <td> 96</td>\n",
        "      <td> 0.005180</td>\n",
        "      <td> 0.001516</td>\n",
        "      <td> 0.002683</td>\n",
        "      <td>-0.002121</td>\n",
        "      <td> 0.008141</td>\n",
        "      <td> 90.312582</td>\n",
        "    </tr>\n",
        "    <tr>\n",
        "      <th>3</th>\n",
        "      <td> 1962</td>\n",
        "      <td> LAA</td>\n",
        "      <td> 6101</td>\n",
        "      <td> 86</td>\n",
        "      <td> 0.010082</td>\n",
        "      <td>-0.006150</td>\n",
        "      <td> 0.002174</td>\n",
        "      <td>-0.001040</td>\n",
        "      <td>-0.001356</td>\n",
        "      <td> 81.703811</td>\n",
        "    </tr>\n",
        "    <tr>\n",
        "      <th>4</th>\n",
        "      <td> 1962</td>\n",
        "      <td> CHA</td>\n",
        "      <td> 6134</td>\n",
        "      <td> 85</td>\n",
        "      <td> 0.012486</td>\n",
        "      <td> 0.000165</td>\n",
        "      <td> 0.004904</td>\n",
        "      <td> 0.002352</td>\n",
        "      <td>-0.008813</td>\n",
        "      <td> 85.060468</td>\n",
        "    </tr>\n",
        "  </tbody>\n",
        "</table>\n",
        "<p>5 rows \u00d7 10 columns</p>\n",
        "</div>"
       ],
       "metadata": {},
       "output_type": "pyout",
       "prompt_number": 68,
       "text": [
        "   yearID teamID    PA   W        BB        1B        2B        3B        HR  \\\n",
        "0    1961    LAA  6105  70  0.007465 -0.008502 -0.000137 -0.002113  0.007983   \n",
        "1    1961    KC1  6003  61 -0.007465  0.008502  0.000137  0.002113 -0.007983   \n",
        "2    1962    NYA  6228  96  0.005180  0.001516  0.002683 -0.002121  0.008141   \n",
        "3    1962    LAA  6101  86  0.010082 -0.006150  0.002174 -0.001040 -0.001356   \n",
        "4    1962    CHA  6134  85  0.012486  0.000165  0.004904  0.002352 -0.008813   \n",
        "\n",
        "         OPW  \n",
        "0  84.758335  \n",
        "1  77.368554  \n",
        "2  90.312582  \n",
        "3  81.703811  \n",
        "4  85.060468  \n",
        "\n",
        "[5 rows x 10 columns]"
       ]
      }
     ],
     "prompt_number": 68
    },
    {
     "cell_type": "markdown",
     "metadata": {},
     "source": [
      "** Your answer here: ** The most accurate model, when evaluated with the 2002 - 2012 data, used regressors: BB, H, 1B, and 2B. The model is:\n",
      "\n",
      "W = (851.672168734 x HR) + (1138.48602313 x 3B) + (479.736732949 x 2B) + (523.511214993 x 1B) + (511.459429776 x BB) + 81.0634441088"
     ]
    },
    {
     "cell_type": "markdown",
     "metadata": {},
     "source": [
      "#### Problem 1(g)\n",
      "\n",
      "Now we will create a similar database for individual players. Consider only player/year combinations in which the player had at least 500 plate appearances. Consider only the years we considered for the calculations above (after 1947 and seasons with 162 games). For each player/year compute singles, doubles, triples, HR, BB per plate appearance rates. Create a new pandas DataFrame called `playerstats` that has the playerID, yearID and the rates of these stats.  Remove the avareage for each year as for these rates as done in Problem 1(e). "
     ]
    },
    {
     "cell_type": "code",
     "collapsed": false,
     "input": [
      "### Your code here ###\n",
      "players['PA'] = players['BB'] + players['AB']\n",
      "df = players[(players['yearID'].isin(normalized_stats['yearID'].unique())) & (players['PA'] >= 500)]\n",
      "df = df[['playerID', 'yearID', '2B', '3B', 'HR', 'BB', 'PA', 'H']]\n",
      "df['1B'] = df['H'] - df['2B'] - df['3B'] - df['HR']\n",
      "df = df.set_index(['playerID', 'yearID'])\n",
      "\n",
      "# divide stats by plate appearances\n",
      "df_percentages = df[['BB', '1B', '2B', '3B', 'HR']].div(df['PA'], axis='index')\n",
      "\n",
      "means = df_percentages.reset_index().groupby('yearID').mean()\n",
      "df_percentages_normalized = df_percentages.subtract(means, level=1)\n",
      "\n",
      "playerstats = df_percentages_normalized.reset_index()"
     ],
     "language": "python",
     "metadata": {},
     "outputs": [],
     "prompt_number": 121
    },
    {
     "cell_type": "markdown",
     "metadata": {},
     "source": [
      "Show the head of the `playerstats` DataFrame. "
     ]
    },
    {
     "cell_type": "code",
     "collapsed": false,
     "input": [
      "### Your code here ###\n",
      "playerstats.head()"
     ],
     "language": "python",
     "metadata": {},
     "outputs": [
      {
       "html": [
        "<div style=\"max-height:1000px;max-width:1500px;overflow:auto;\">\n",
        "<table border=\"1\" class=\"dataframe\">\n",
        "  <thead>\n",
        "    <tr style=\"text-align: right;\">\n",
        "      <th></th>\n",
        "      <th>playerID</th>\n",
        "      <th>yearID</th>\n",
        "      <th>BB</th>\n",
        "      <th>1B</th>\n",
        "      <th>2B</th>\n",
        "      <th>3B</th>\n",
        "      <th>HR</th>\n",
        "    </tr>\n",
        "  </thead>\n",
        "  <tbody>\n",
        "    <tr>\n",
        "      <th>0</th>\n",
        "      <td> aaronha01</td>\n",
        "      <td> 1961</td>\n",
        "      <td>-0.015259</td>\n",
        "      <td> 0.000150</td>\n",
        "      <td> 0.018502</td>\n",
        "      <td> 0.006785</td>\n",
        "      <td> 0.019989</td>\n",
        "    </tr>\n",
        "    <tr>\n",
        "      <th>1</th>\n",
        "      <td> aaronha01</td>\n",
        "      <td> 1962</td>\n",
        "      <td> 0.011089</td>\n",
        "      <td>-0.007668</td>\n",
        "      <td> 0.002943</td>\n",
        "      <td> 0.001021</td>\n",
        "      <td> 0.039635</td>\n",
        "    </tr>\n",
        "    <tr>\n",
        "      <th>2</th>\n",
        "      <td> aaronha01</td>\n",
        "      <td> 1963</td>\n",
        "      <td> 0.026586</td>\n",
        "      <td> 0.001479</td>\n",
        "      <td> 0.002640</td>\n",
        "      <td>-0.002519</td>\n",
        "      <td> 0.036052</td>\n",
        "    </tr>\n",
        "    <tr>\n",
        "      <th>3</th>\n",
        "      <td> aaronha01</td>\n",
        "      <td> 1964</td>\n",
        "      <td> 0.010370</td>\n",
        "      <td> 0.032337</td>\n",
        "      <td> 0.008953</td>\n",
        "      <td>-0.004242</td>\n",
        "      <td> 0.009046</td>\n",
        "    </tr>\n",
        "    <tr>\n",
        "      <th>4</th>\n",
        "      <td> aaronha01</td>\n",
        "      <td> 1965</td>\n",
        "      <td> 0.008572</td>\n",
        "      <td>-0.000929</td>\n",
        "      <td> 0.024710</td>\n",
        "      <td>-0.006191</td>\n",
        "      <td> 0.023540</td>\n",
        "    </tr>\n",
        "  </tbody>\n",
        "</table>\n",
        "<p>5 rows \u00d7 7 columns</p>\n",
        "</div>"
       ],
       "metadata": {},
       "output_type": "pyout",
       "prompt_number": 122,
       "text": [
        "    playerID  yearID        BB        1B        2B        3B        HR\n",
        "0  aaronha01    1961 -0.015259  0.000150  0.018502  0.006785  0.019989\n",
        "1  aaronha01    1962  0.011089 -0.007668  0.002943  0.001021  0.039635\n",
        "2  aaronha01    1963  0.026586  0.001479  0.002640 -0.002519  0.036052\n",
        "3  aaronha01    1964  0.010370  0.032337  0.008953 -0.004242  0.009046\n",
        "4  aaronha01    1965  0.008572 -0.000929  0.024710 -0.006191  0.023540\n",
        "\n",
        "[5 rows x 7 columns]"
       ]
      }
     ],
     "prompt_number": 122
    },
    {
     "cell_type": "markdown",
     "metadata": {},
     "source": [
      "#### Problem 1(h)\n",
      "\n",
      "Using the `playerstats` DataFrame created in Problem 1(g), create a new DataFrame called `playerLS` containing the player's lifetime stats. This DataFrame should contain the playerID, the year the player's career started, the year the player's career ended and the player's lifetime average for each of the quantities (singles, doubles, triples, HR, BB). For simplicity we will simply compute the avaerage of the rates by year (a more correct way is to go back to the totals). "
     ]
    },
    {
     "cell_type": "code",
     "collapsed": false,
     "input": [
      "### Your code here ###\n",
      "first_year = playerstats.groupby('playerID').min()['yearID']\n",
      "last_year = playerstats.groupby('playerID').max()['yearID']\n",
      "avgs = playerstats.groupby('playerID').mean()[['BB', '1B', '2B', '3B', 'HR']]\n",
      "avgs['first_year'] = first_year\n",
      "avgs['last_year'] = last_year\n",
      "playerLS = avgs"
     ],
     "language": "python",
     "metadata": {},
     "outputs": [],
     "prompt_number": 226
    },
    {
     "cell_type": "markdown",
     "metadata": {},
     "source": [
      "Show the head of the `playerLS` DataFrame. "
     ]
    },
    {
     "cell_type": "code",
     "collapsed": false,
     "input": [
      "### Your code here ###\n",
      "playerLS.head()"
     ],
     "language": "python",
     "metadata": {},
     "outputs": [
      {
       "html": [
        "<div style=\"max-height:1000px;max-width:1500px;overflow:auto;\">\n",
        "<table border=\"1\" class=\"dataframe\">\n",
        "  <thead>\n",
        "    <tr style=\"text-align: right;\">\n",
        "      <th></th>\n",
        "      <th>BB</th>\n",
        "      <th>1B</th>\n",
        "      <th>2B</th>\n",
        "      <th>3B</th>\n",
        "      <th>HR</th>\n",
        "      <th>first_year</th>\n",
        "      <th>last_year</th>\n",
        "    </tr>\n",
        "    <tr>\n",
        "      <th>playerID</th>\n",
        "      <th></th>\n",
        "      <th></th>\n",
        "      <th></th>\n",
        "      <th></th>\n",
        "      <th></th>\n",
        "      <th></th>\n",
        "      <th></th>\n",
        "    </tr>\n",
        "  </thead>\n",
        "  <tbody>\n",
        "    <tr>\n",
        "      <th>aaronha01</th>\n",
        "      <td> 0.018412</td>\n",
        "      <td>-0.011823</td>\n",
        "      <td> 0.007177</td>\n",
        "      <td>-0.002224</td>\n",
        "      <td> 0.029520</td>\n",
        "      <td> 1961</td>\n",
        "      <td> 1975</td>\n",
        "    </tr>\n",
        "    <tr>\n",
        "      <th>abreubo01</th>\n",
        "      <td> 0.050532</td>\n",
        "      <td>-0.008230</td>\n",
        "      <td> 0.006438</td>\n",
        "      <td> 0.000983</td>\n",
        "      <td>-0.003154</td>\n",
        "      <td> 1998</td>\n",
        "      <td> 2011</td>\n",
        "    </tr>\n",
        "    <tr>\n",
        "      <th>ackledu01</th>\n",
        "      <td> 0.001574</td>\n",
        "      <td>-0.009186</td>\n",
        "      <td>-0.016607</td>\n",
        "      <td>-0.002044</td>\n",
        "      <td>-0.015187</td>\n",
        "      <td> 2012</td>\n",
        "      <td> 2012</td>\n",
        "    </tr>\n",
        "    <tr>\n",
        "      <th>adairje01</th>\n",
        "      <td>-0.037399</td>\n",
        "      <td> 0.012235</td>\n",
        "      <td> 0.003353</td>\n",
        "      <td>-0.002105</td>\n",
        "      <td>-0.013016</td>\n",
        "      <td> 1962</td>\n",
        "      <td> 1965</td>\n",
        "    </tr>\n",
        "    <tr>\n",
        "      <th>adamsru01</th>\n",
        "      <td> 0.002672</td>\n",
        "      <td>-0.007867</td>\n",
        "      <td>-0.001289</td>\n",
        "      <td> 0.004160</td>\n",
        "      <td>-0.017533</td>\n",
        "      <td> 2005</td>\n",
        "      <td> 2005</td>\n",
        "    </tr>\n",
        "  </tbody>\n",
        "</table>\n",
        "<p>5 rows \u00d7 7 columns</p>\n",
        "</div>"
       ],
       "metadata": {},
       "output_type": "pyout",
       "prompt_number": 204,
       "text": [
        "                 BB        1B        2B        3B        HR  first_year  \\\n",
        "playerID                                                                  \n",
        "aaronha01  0.018412 -0.011823  0.007177 -0.002224  0.029520        1961   \n",
        "abreubo01  0.050532 -0.008230  0.006438  0.000983 -0.003154        1998   \n",
        "ackledu01  0.001574 -0.009186 -0.016607 -0.002044 -0.015187        2012   \n",
        "adairje01 -0.037399  0.012235  0.003353 -0.002105 -0.013016        1962   \n",
        "adamsru01  0.002672 -0.007867 -0.001289  0.004160 -0.017533        2005   \n",
        "\n",
        "           last_year  \n",
        "playerID              \n",
        "aaronha01       1975  \n",
        "abreubo01       2011  \n",
        "ackledu01       2012  \n",
        "adairje01       1965  \n",
        "adamsru01       2005  \n",
        "\n",
        "[5 rows x 7 columns]"
       ]
      }
     ],
     "prompt_number": 204
    },
    {
     "cell_type": "markdown",
     "metadata": {},
     "source": [
      "#### Problem 1(i)\n",
      "\n",
      "Compute the OPW for each player based on the average rates in the playerLS DataFrame. You can interpret this summary statistic as the predicted wins for a team with 9 batters exactly like the player in question. Add this column to the playerLS DataFrame. Call this colum OPW."
     ]
    },
    {
     "cell_type": "code",
     "collapsed": false,
     "input": [
      "### Your code here ###\n",
      "X = playerLS[best_model.params.index[1:]]\n",
      "X = sm.add_constant(X)\n",
      "predictions = best_model.predict(X)\n",
      "playerLS['OPW'] = predictions\n",
      "playerLS.head()"
     ],
     "language": "python",
     "metadata": {},
     "outputs": [
      {
       "html": [
        "<div style=\"max-height:1000px;max-width:1500px;overflow:auto;\">\n",
        "<table border=\"1\" class=\"dataframe\">\n",
        "  <thead>\n",
        "    <tr style=\"text-align: right;\">\n",
        "      <th></th>\n",
        "      <th>BB</th>\n",
        "      <th>1B</th>\n",
        "      <th>2B</th>\n",
        "      <th>3B</th>\n",
        "      <th>HR</th>\n",
        "      <th>first_year</th>\n",
        "      <th>last_year</th>\n",
        "      <th>OPW</th>\n",
        "    </tr>\n",
        "    <tr>\n",
        "      <th>playerID</th>\n",
        "      <th></th>\n",
        "      <th></th>\n",
        "      <th></th>\n",
        "      <th></th>\n",
        "      <th></th>\n",
        "      <th></th>\n",
        "      <th></th>\n",
        "      <th></th>\n",
        "    </tr>\n",
        "  </thead>\n",
        "  <tbody>\n",
        "    <tr>\n",
        "      <th>aaronha01</th>\n",
        "      <td> 0.018412</td>\n",
        "      <td>-0.011823</td>\n",
        "      <td> 0.007177</td>\n",
        "      <td>-0.002224</td>\n",
        "      <td> 0.029520</td>\n",
        "      <td> 1961</td>\n",
        "      <td> 1975</td>\n",
        "      <td> 110.343044</td>\n",
        "    </tr>\n",
        "    <tr>\n",
        "      <th>abreubo01</th>\n",
        "      <td> 0.050532</td>\n",
        "      <td>-0.008230</td>\n",
        "      <td> 0.006438</td>\n",
        "      <td> 0.000983</td>\n",
        "      <td>-0.003154</td>\n",
        "      <td> 1998</td>\n",
        "      <td> 2011</td>\n",
        "      <td> 104.121778</td>\n",
        "    </tr>\n",
        "    <tr>\n",
        "      <th>ackledu01</th>\n",
        "      <td> 0.001574</td>\n",
        "      <td>-0.009186</td>\n",
        "      <td>-0.016607</td>\n",
        "      <td>-0.002044</td>\n",
        "      <td>-0.015187</td>\n",
        "      <td> 2012</td>\n",
        "      <td> 2012</td>\n",
        "      <td>  53.831767</td>\n",
        "    </tr>\n",
        "    <tr>\n",
        "      <th>adairje01</th>\n",
        "      <td>-0.037399</td>\n",
        "      <td> 0.012235</td>\n",
        "      <td> 0.003353</td>\n",
        "      <td>-0.002105</td>\n",
        "      <td>-0.013016</td>\n",
        "      <td> 1962</td>\n",
        "      <td> 1965</td>\n",
        "      <td>  56.467482</td>\n",
        "    </tr>\n",
        "    <tr>\n",
        "      <th>adamsru01</th>\n",
        "      <td> 0.002672</td>\n",
        "      <td>-0.007867</td>\n",
        "      <td>-0.001289</td>\n",
        "      <td> 0.004160</td>\n",
        "      <td>-0.017533</td>\n",
        "      <td> 2005</td>\n",
        "      <td> 2005</td>\n",
        "      <td>  67.496507</td>\n",
        "    </tr>\n",
        "  </tbody>\n",
        "</table>\n",
        "<p>5 rows \u00d7 8 columns</p>\n",
        "</div>"
       ],
       "metadata": {},
       "output_type": "pyout",
       "prompt_number": 227,
       "text": [
        "                 BB        1B        2B        3B        HR  first_year  \\\n",
        "playerID                                                                  \n",
        "aaronha01  0.018412 -0.011823  0.007177 -0.002224  0.029520        1961   \n",
        "abreubo01  0.050532 -0.008230  0.006438  0.000983 -0.003154        1998   \n",
        "ackledu01  0.001574 -0.009186 -0.016607 -0.002044 -0.015187        2012   \n",
        "adairje01 -0.037399  0.012235  0.003353 -0.002105 -0.013016        1962   \n",
        "adamsru01  0.002672 -0.007867 -0.001289  0.004160 -0.017533        2005   \n",
        "\n",
        "           last_year         OPW  \n",
        "playerID                          \n",
        "aaronha01       1975  110.343044  \n",
        "abreubo01       2011  104.121778  \n",
        "ackledu01       2012   53.831767  \n",
        "adairje01       1965   56.467482  \n",
        "adamsru01       2005   67.496507  \n",
        "\n",
        "[5 rows x 8 columns]"
       ]
      }
     ],
     "prompt_number": 227
    },
    {
     "cell_type": "markdown",
     "metadata": {},
     "source": [
      "#### Problem 1(j)\n",
      "\n",
      "Add four columns to the `playerLS` DataFrame that contains the player's position (C, 1B, 2B, 3B, SS, LF, CF, RF, or OF), first name, last name and median salary. "
     ]
    },
    {
     "cell_type": "code",
     "collapsed": false,
     "input": [
      "### Your code here ###\n",
      "from scipy.stats import mode\n",
      "positions = fielding[fielding['yearID'] > 1946].groupby('playerID')['POS'].apply(mode).apply(lambda x: x[0][0])\n",
      "pos_df = pd.DataFrame(positions)\n",
      "pos_df.columns = ['POS']\n",
      "playerLS = pd.merge(playerLS, medianSalaries.set_index('playerID'), left_index=True, right_index=True)\n",
      "playerLS = pd.merge(playerLS, pos_df, left_index=True, right_index=True)\n",
      "playerLS.head()"
     ],
     "language": "python",
     "metadata": {},
     "outputs": [
      {
       "html": [
        "<div style=\"max-height:1000px;max-width:1500px;overflow:auto;\">\n",
        "<table border=\"1\" class=\"dataframe\">\n",
        "  <thead>\n",
        "    <tr style=\"text-align: right;\">\n",
        "      <th></th>\n",
        "      <th>BB</th>\n",
        "      <th>1B</th>\n",
        "      <th>2B</th>\n",
        "      <th>3B</th>\n",
        "      <th>HR</th>\n",
        "      <th>first_year</th>\n",
        "      <th>last_year</th>\n",
        "      <th>OPW</th>\n",
        "      <th>nameFirst</th>\n",
        "      <th>nameLast</th>\n",
        "      <th>salary</th>\n",
        "      <th>POS</th>\n",
        "    </tr>\n",
        "    <tr>\n",
        "      <th>playerID</th>\n",
        "      <th></th>\n",
        "      <th></th>\n",
        "      <th></th>\n",
        "      <th></th>\n",
        "      <th></th>\n",
        "      <th></th>\n",
        "      <th></th>\n",
        "      <th></th>\n",
        "      <th></th>\n",
        "      <th></th>\n",
        "      <th></th>\n",
        "      <th></th>\n",
        "    </tr>\n",
        "  </thead>\n",
        "  <tbody>\n",
        "    <tr>\n",
        "      <th>abreubo01</th>\n",
        "      <td> 0.050532</td>\n",
        "      <td>-0.008230</td>\n",
        "      <td> 0.006438</td>\n",
        "      <td> 0.000983</td>\n",
        "      <td>-0.003154</td>\n",
        "      <td> 1998</td>\n",
        "      <td> 2011</td>\n",
        "      <td> 104.121778</td>\n",
        "      <td>   Bobby</td>\n",
        "      <td>   Abreu</td>\n",
        "      <td> 9000000</td>\n",
        "      <td> RF</td>\n",
        "    </tr>\n",
        "    <tr>\n",
        "      <th>ackledu01</th>\n",
        "      <td> 0.001574</td>\n",
        "      <td>-0.009186</td>\n",
        "      <td>-0.016607</td>\n",
        "      <td>-0.002044</td>\n",
        "      <td>-0.015187</td>\n",
        "      <td> 2012</td>\n",
        "      <td> 2012</td>\n",
        "      <td>  53.831767</td>\n",
        "      <td>  Dustin</td>\n",
        "      <td>  Ackley</td>\n",
        "      <td> 2400000</td>\n",
        "      <td> 1B</td>\n",
        "    </tr>\n",
        "    <tr>\n",
        "      <th>adamsru01</th>\n",
        "      <td> 0.002672</td>\n",
        "      <td>-0.007867</td>\n",
        "      <td>-0.001289</td>\n",
        "      <td> 0.004160</td>\n",
        "      <td>-0.017533</td>\n",
        "      <td> 2005</td>\n",
        "      <td> 2005</td>\n",
        "      <td>  67.496507</td>\n",
        "      <td>    Russ</td>\n",
        "      <td>   Adams</td>\n",
        "      <td>  329500</td>\n",
        "      <td> SS</td>\n",
        "    </tr>\n",
        "    <tr>\n",
        "      <th>alfoned01</th>\n",
        "      <td> 0.010738</td>\n",
        "      <td> 0.013541</td>\n",
        "      <td>-0.002185</td>\n",
        "      <td>-0.003255</td>\n",
        "      <td>-0.006373</td>\n",
        "      <td> 1997</td>\n",
        "      <td> 2004</td>\n",
        "      <td>  83.462334</td>\n",
        "      <td> Edgardo</td>\n",
        "      <td> Alfonzo</td>\n",
        "      <td> 4112500</td>\n",
        "      <td> 2B</td>\n",
        "    </tr>\n",
        "    <tr>\n",
        "      <th>alicelu01</th>\n",
        "      <td>-0.006580</td>\n",
        "      <td> 0.035625</td>\n",
        "      <td>-0.009597</td>\n",
        "      <td> 0.007988</td>\n",
        "      <td>-0.026156</td>\n",
        "      <td> 2000</td>\n",
        "      <td> 2000</td>\n",
        "      <td>  78.561778</td>\n",
        "      <td>    Luis</td>\n",
        "      <td>  Alicea</td>\n",
        "      <td>  750000</td>\n",
        "      <td> 2B</td>\n",
        "    </tr>\n",
        "  </tbody>\n",
        "</table>\n",
        "<p>5 rows \u00d7 12 columns</p>\n",
        "</div>"
       ],
       "metadata": {},
       "output_type": "pyout",
       "prompt_number": 228,
       "text": [
        "                 BB        1B        2B        3B        HR  first_year  \\\n",
        "playerID                                                                  \n",
        "abreubo01  0.050532 -0.008230  0.006438  0.000983 -0.003154        1998   \n",
        "ackledu01  0.001574 -0.009186 -0.016607 -0.002044 -0.015187        2012   \n",
        "adamsru01  0.002672 -0.007867 -0.001289  0.004160 -0.017533        2005   \n",
        "alfoned01  0.010738  0.013541 -0.002185 -0.003255 -0.006373        1997   \n",
        "alicelu01 -0.006580  0.035625 -0.009597  0.007988 -0.026156        2000   \n",
        "\n",
        "           last_year         OPW nameFirst nameLast   salary POS  \n",
        "playerID                                                          \n",
        "abreubo01       2011  104.121778     Bobby    Abreu  9000000  RF  \n",
        "ackledu01       2012   53.831767    Dustin   Ackley  2400000  1B  \n",
        "adamsru01       2005   67.496507      Russ    Adams   329500  SS  \n",
        "alfoned01       2004   83.462334   Edgardo  Alfonzo  4112500  2B  \n",
        "alicelu01       2000   78.561778      Luis   Alicea   750000  2B  \n",
        "\n",
        "[5 rows x 12 columns]"
       ]
      }
     ],
     "prompt_number": 228
    },
    {
     "cell_type": "markdown",
     "metadata": {},
     "source": [
      "Show the head of the `playerLS` DataFrame. "
     ]
    },
    {
     "cell_type": "code",
     "collapsed": false,
     "input": [
      "### Your code here ###\n",
      "new_column_order = ['nameFirst', 'nameLast', 'POS', 'salary', 'OPW', 'BB', '1B', '2B', '3B', 'HR', 'first_year', 'last_year',]\n",
      "playerLS = playerLS[new_column_order]\n",
      "playerLS.head()"
     ],
     "language": "python",
     "metadata": {},
     "outputs": [
      {
       "html": [
        "<div style=\"max-height:1000px;max-width:1500px;overflow:auto;\">\n",
        "<table border=\"1\" class=\"dataframe\">\n",
        "  <thead>\n",
        "    <tr style=\"text-align: right;\">\n",
        "      <th></th>\n",
        "      <th>nameFirst</th>\n",
        "      <th>nameLast</th>\n",
        "      <th>POS</th>\n",
        "      <th>salary</th>\n",
        "      <th>OPW</th>\n",
        "      <th>BB</th>\n",
        "      <th>1B</th>\n",
        "      <th>2B</th>\n",
        "      <th>3B</th>\n",
        "      <th>HR</th>\n",
        "      <th>first_year</th>\n",
        "      <th>last_year</th>\n",
        "    </tr>\n",
        "    <tr>\n",
        "      <th>playerID</th>\n",
        "      <th></th>\n",
        "      <th></th>\n",
        "      <th></th>\n",
        "      <th></th>\n",
        "      <th></th>\n",
        "      <th></th>\n",
        "      <th></th>\n",
        "      <th></th>\n",
        "      <th></th>\n",
        "      <th></th>\n",
        "      <th></th>\n",
        "      <th></th>\n",
        "    </tr>\n",
        "  </thead>\n",
        "  <tbody>\n",
        "    <tr>\n",
        "      <th>abreubo01</th>\n",
        "      <td>   Bobby</td>\n",
        "      <td>   Abreu</td>\n",
        "      <td> RF</td>\n",
        "      <td> 9000000</td>\n",
        "      <td> 104.121778</td>\n",
        "      <td> 0.050532</td>\n",
        "      <td>-0.008230</td>\n",
        "      <td> 0.006438</td>\n",
        "      <td> 0.000983</td>\n",
        "      <td>-0.003154</td>\n",
        "      <td> 1998</td>\n",
        "      <td> 2011</td>\n",
        "    </tr>\n",
        "    <tr>\n",
        "      <th>ackledu01</th>\n",
        "      <td>  Dustin</td>\n",
        "      <td>  Ackley</td>\n",
        "      <td> 1B</td>\n",
        "      <td> 2400000</td>\n",
        "      <td>  53.831767</td>\n",
        "      <td> 0.001574</td>\n",
        "      <td>-0.009186</td>\n",
        "      <td>-0.016607</td>\n",
        "      <td>-0.002044</td>\n",
        "      <td>-0.015187</td>\n",
        "      <td> 2012</td>\n",
        "      <td> 2012</td>\n",
        "    </tr>\n",
        "    <tr>\n",
        "      <th>adamsru01</th>\n",
        "      <td>    Russ</td>\n",
        "      <td>   Adams</td>\n",
        "      <td> SS</td>\n",
        "      <td>  329500</td>\n",
        "      <td>  67.496507</td>\n",
        "      <td> 0.002672</td>\n",
        "      <td>-0.007867</td>\n",
        "      <td>-0.001289</td>\n",
        "      <td> 0.004160</td>\n",
        "      <td>-0.017533</td>\n",
        "      <td> 2005</td>\n",
        "      <td> 2005</td>\n",
        "    </tr>\n",
        "    <tr>\n",
        "      <th>alfoned01</th>\n",
        "      <td> Edgardo</td>\n",
        "      <td> Alfonzo</td>\n",
        "      <td> 2B</td>\n",
        "      <td> 4112500</td>\n",
        "      <td>  83.462334</td>\n",
        "      <td> 0.010738</td>\n",
        "      <td> 0.013541</td>\n",
        "      <td>-0.002185</td>\n",
        "      <td>-0.003255</td>\n",
        "      <td>-0.006373</td>\n",
        "      <td> 1997</td>\n",
        "      <td> 2004</td>\n",
        "    </tr>\n",
        "    <tr>\n",
        "      <th>alicelu01</th>\n",
        "      <td>    Luis</td>\n",
        "      <td>  Alicea</td>\n",
        "      <td> 2B</td>\n",
        "      <td>  750000</td>\n",
        "      <td>  78.561778</td>\n",
        "      <td>-0.006580</td>\n",
        "      <td> 0.035625</td>\n",
        "      <td>-0.009597</td>\n",
        "      <td> 0.007988</td>\n",
        "      <td>-0.026156</td>\n",
        "      <td> 2000</td>\n",
        "      <td> 2000</td>\n",
        "    </tr>\n",
        "  </tbody>\n",
        "</table>\n",
        "<p>5 rows \u00d7 12 columns</p>\n",
        "</div>"
       ],
       "metadata": {},
       "output_type": "pyout",
       "prompt_number": 229,
       "text": [
        "          nameFirst nameLast POS   salary         OPW        BB        1B  \\\n",
        "playerID                                                                    \n",
        "abreubo01     Bobby    Abreu  RF  9000000  104.121778  0.050532 -0.008230   \n",
        "ackledu01    Dustin   Ackley  1B  2400000   53.831767  0.001574 -0.009186   \n",
        "adamsru01      Russ    Adams  SS   329500   67.496507  0.002672 -0.007867   \n",
        "alfoned01   Edgardo  Alfonzo  2B  4112500   83.462334  0.010738  0.013541   \n",
        "alicelu01      Luis   Alicea  2B   750000   78.561778 -0.006580  0.035625   \n",
        "\n",
        "                 2B        3B        HR  first_year  last_year  \n",
        "playerID                                                        \n",
        "abreubo01  0.006438  0.000983 -0.003154        1998       2011  \n",
        "ackledu01 -0.016607 -0.002044 -0.015187        2012       2012  \n",
        "adamsru01 -0.001289  0.004160 -0.017533        2005       2005  \n",
        "alfoned01 -0.002185 -0.003255 -0.006373        1997       2004  \n",
        "alicelu01 -0.009597  0.007988 -0.026156        2000       2000  \n",
        "\n",
        "[5 rows x 12 columns]"
       ]
      }
     ],
     "prompt_number": 229
    },
    {
     "cell_type": "markdown",
     "metadata": {},
     "source": [
      "#### Problem 1(k)\n",
      "\n",
      "Subset the `playerLS` DataFrame for players active in 2002 and 2003 and played at least three years. Plot and describe the relationship bewteen the median salary (in millions) and the predicted number of wins. "
     ]
    },
    {
     "cell_type": "code",
     "collapsed": false,
     "input": [
      "### Your code here ###\n",
      "playerLS[(playerLS['first_year'] <= 2000) & (playerLS['last_year'] >= 2003)].plot(x='salary', y='OPW', kind='scatter')"
     ],
     "language": "python",
     "metadata": {},
     "outputs": [
      {
       "metadata": {},
       "output_type": "pyout",
       "prompt_number": 232,
       "text": [
        "<matplotlib.axes.AxesSubplot at 0x10a759d90>"
       ]
      },
      {
       "metadata": {},
       "output_type": "display_data",
       "png": "[encoded data removed]",
       "text": [
        "<matplotlib.figure.Figure at 0x10a9b8990>"
       ]
      }
     ],
     "prompt_number": 232
    },
    {
     "cell_type": "markdown",
     "metadata": {},
     "source": [
      "#### Problem 1(l)\n",
      "Pick one players from one of each of these 10 position C, 1B, 2B, 3B, SS, LF, CF, RF, or OF keeping the total median salary of all 10 players below 20 million. Report their averaged predicted wins and total salary."
     ]
    },
    {
     "cell_type": "code",
     "collapsed": false,
     "input": [
      "### Your code here ###"
     ],
     "language": "python",
     "metadata": {},
     "outputs": [],
     "prompt_number": 77
    },
    {
     "cell_type": "markdown",
     "metadata": {},
     "source": [
      "#### Problem 1(m)\n",
      "What do these players outperform in? Singles, doubles, triples HR or BB?"
     ]
    },
    {
     "cell_type": "code",
     "collapsed": false,
     "input": [
      "### Your code here ###"
     ],
     "language": "python",
     "metadata": {},
     "outputs": [],
     "prompt_number": 78
    },
    {
     "cell_type": "markdown",
     "metadata": {},
     "source": [
      "** Your answer here: **"
     ]
    },
    {
     "cell_type": "markdown",
     "metadata": {},
     "source": [
      "## Discussion for Problem 1\n",
      "\n",
      "*Write a brief discussion of your conclusions to the questions and tasks above in 100 words or less.*\n",
      "\n",
      "---"
     ]
    },
    {
     "cell_type": "markdown",
     "metadata": {},
     "source": [
      "# Problem 2:  $k$-Nearest Neighbors and Cross Validation \n",
      "\n",
      "What is the optimal $k$ for predicting species using $k$-nearest neighbor classification \n",
      "on the four features provided by the iris dataset.\n",
      "\n",
      "In this problem you will get to know the famous iris data set, and use cross validation to select the optimal $k$ for a $k$-nearest neighbor classification. This problem set makes heavy use of the [sklearn](http://scikit-learn.org/stable/) library. In addition to Pandas, it is one of the most useful libraries for data scientists! After completing this homework assignment you will know all the basics to get started with your own machine learning projects in sklearn. \n",
      "\n",
      "Future lectures will give further background information on different classifiers and their specific strengths and weaknesses, but when you have the basics for sklearn down, changing the classifier will boil down to exchanging one to two lines of code.\n",
      "\n",
      "The data set is so popular, that sklearn provides an extra function to load it:"
     ]
    },
    {
     "cell_type": "code",
     "collapsed": false,
     "input": [
      "#load the iris data set\n",
      "iris = sklearn.datasets.load_iris()\n",
      "\n",
      "X = iris.data  \n",
      "Y = iris.target\n",
      "\n",
      "print X.shape, Y.shape"
     ],
     "language": "python",
     "metadata": {},
     "outputs": [
      {
       "output_type": "stream",
       "stream": "stdout",
       "text": [
        "(150, 4) (150,)\n"
       ]
      }
     ],
     "prompt_number": 79
    },
    {
     "cell_type": "markdown",
     "metadata": {},
     "source": [
      "#### Problem 2(a) \n",
      "Split the data into a train and a test set. Use a random selection of 33% of the samples as test data. Sklearn provides the [`train_test_split`](http://scikit-learn.org/stable/modules/generated/sklearn.cross_validation.train_test_split.html) function for this purpose. Print the dimensions of all the train and test data sets you have created. "
     ]
    },
    {
     "cell_type": "code",
     "collapsed": false,
     "input": [
      "### Your code here ###"
     ],
     "language": "python",
     "metadata": {},
     "outputs": [],
     "prompt_number": 80
    },
    {
     "cell_type": "markdown",
     "metadata": {},
     "source": [
      "#### Problem 2(b)\n",
      "\n",
      "Examine the data further by looking at the projections to the first two principal components of the data. Use the [`TruncatedSVD`](http://scikit-learn.org/stable/modules/generated/sklearn.decomposition.TruncatedSVD.html) function for this purpose, and create a scatter plot. Use the colors on the scatter plot to represent the different classes in the target data. "
     ]
    },
    {
     "cell_type": "code",
     "collapsed": false,
     "input": [
      "### Your code here ###"
     ],
     "language": "python",
     "metadata": {},
     "outputs": [],
     "prompt_number": 81
    },
    {
     "cell_type": "markdown",
     "metadata": {},
     "source": [
      "#### Problem 2(c) \n",
      "\n",
      "In the lecture we discussed how to use cross validation to estimate the optimal value for $k$ (the number of nearest neighbors to base the classification on). Use ***ten fold cross validation*** to estimate the optimal value for $k$ for the iris data set. \n",
      "\n",
      "**Note**: For your convenience sklearn does not only include the [KNN classifier](http://scikit-learn.org/stable/modules/generated/sklearn.neighbors.KNeighborsClassifier.html), but also a [grid search function](http://scikit-learn.org/stable/modules/generated/sklearn.grid_search.GridSearchCV.html#sklearn.grid_search.GridSearchCV). The function is called grid search, because if you have to optimize more than one parameter, it is common practice to define a range of possible values for each parameter. An exhaustive search then runs over the complete grid defined by all the possible parameter combinations. This can get very computation heavy, but luckily our KNN classifier only requires tuning of a single parameter for this problem set. "
     ]
    },
    {
     "cell_type": "code",
     "collapsed": false,
     "input": [
      "### Your code here ###"
     ],
     "language": "python",
     "metadata": {},
     "outputs": [],
     "prompt_number": 82
    },
    {
     "cell_type": "markdown",
     "metadata": {},
     "source": [
      "#### Problem 2(d)\n",
      "\n",
      "Visualize the result by plotting the score results verus values for $k$. "
     ]
    },
    {
     "cell_type": "code",
     "collapsed": false,
     "input": [
      "### Your code here ###"
     ],
     "language": "python",
     "metadata": {},
     "outputs": [],
     "prompt_number": 83
    },
    {
     "cell_type": "markdown",
     "metadata": {},
     "source": [
      "Verify that the grid search has indeed chosen the right parameter value for $k$."
     ]
    },
    {
     "cell_type": "code",
     "collapsed": false,
     "input": [
      "### Your code here ###"
     ],
     "language": "python",
     "metadata": {},
     "outputs": [],
     "prompt_number": 84
    },
    {
     "cell_type": "markdown",
     "metadata": {},
     "source": [
      "#### Problem 2(e)\n",
      "\n",
      "Test the performance of our tuned KNN classifier on the test set."
     ]
    },
    {
     "cell_type": "code",
     "collapsed": false,
     "input": [
      "### Your code here ###"
     ],
     "language": "python",
     "metadata": {},
     "outputs": [],
     "prompt_number": 85
    },
    {
     "cell_type": "markdown",
     "metadata": {},
     "source": [
      "## Discussion for Problem 2\n",
      "\n",
      "*Write a brief discussion of your conclusions to the questions and tasks above in 100 words or less.*\n",
      "\n",
      "---"
     ]
    },
    {
     "cell_type": "markdown",
     "metadata": {},
     "source": [
      "# Problem 3: The Curse and Blessing of Higher Dimensions\n",
      "\n",
      "In this problem we will investigate the influence of higher dimensional spaces on the classification. The data set is again one of the standard data sets from sklearn. The [digits data set](http://scikit-learn.org/stable/modules/generated/sklearn.datasets.load_digits.html) is similar to the MNIST data set discussed in the lecture. The main difference is, that each digit is represented by an 8x8 pixel image patch, which is considerably smaller than the 28x28 pixels from MNIST. In addition, the gray values are restricted to 16 different values (4 bit), instead of 256 (8 bit) for MNIST. \n",
      "\n",
      "First we again load our data set."
     ]
    },
    {
     "cell_type": "code",
     "collapsed": false,
     "input": [
      "digits = sklearn.datasets.load_digits()\n",
      "\n",
      "X = digits.data  \n",
      "Y = digits.target\n",
      "\n",
      "print X.shape, Y.shape"
     ],
     "language": "python",
     "metadata": {},
     "outputs": [
      {
       "output_type": "stream",
       "stream": "stdout",
       "text": [
        "(1797, 64) (1797,)\n"
       ]
      }
     ],
     "prompt_number": 86
    },
    {
     "cell_type": "markdown",
     "metadata": {},
     "source": [
      "#### Problem 3(a) \n",
      "\n",
      "Start with the same steps as in Problem 2. Split the data into train and test set. Use 33% of the samples as test data. Print the dimensions of all the train and test data sets you created. "
     ]
    },
    {
     "cell_type": "code",
     "collapsed": false,
     "input": [
      "### Your code here ###"
     ],
     "language": "python",
     "metadata": {},
     "outputs": [],
     "prompt_number": 87
    },
    {
     "cell_type": "markdown",
     "metadata": {},
     "source": [
      "#### Problem 3(b) \n",
      "\n",
      "Similar to Problem 2(b), create a scatter plot of the projections to the first two PCs.  Use the colors on the scatter plot to represent the different classes in the target data. How well can we separate the classes?\n",
      "\n",
      "**Hint**: Use a `Colormap` in matplotlib to represent the diferent classes in the target data. "
     ]
    },
    {
     "cell_type": "code",
     "collapsed": false,
     "input": [
      "### Your code here ###"
     ],
     "language": "python",
     "metadata": {},
     "outputs": [],
     "prompt_number": 88
    },
    {
     "cell_type": "markdown",
     "metadata": {},
     "source": [
      "Create individual scatter plots using only two classes at a time to explore which classes are most difficult to distinguish in terms of class separability.  You do not need to create scatter plots for all pairwise comparisons, but at least show one. "
     ]
    },
    {
     "cell_type": "code",
     "collapsed": false,
     "input": [
      "### Your code here ###"
     ],
     "language": "python",
     "metadata": {},
     "outputs": [],
     "prompt_number": 89
    },
    {
     "cell_type": "markdown",
     "metadata": {},
     "source": [
      "Give a brief interpretation of the scatter plot. Which classes look like hard to distinguish? Do both feature dimensions contribute to the class separability? "
     ]
    },
    {
     "cell_type": "markdown",
     "metadata": {},
     "source": [
      "** Your answer here: **"
     ]
    },
    {
     "cell_type": "markdown",
     "metadata": {},
     "source": [
      "#### Problem 3(c) \n",
      "\n",
      "Write a **ten-fold cross validation** to estimate the optimal value for $k$ for the digits data set. *However*, this time we are interested in the influence of the number of dimensions we project the data down as well. \n",
      "\n",
      "Extend the cross validation as done for the iris data set, to optimize $k$ for different dimensional projections of the data. Create a boxplot showing test scores for the optimal $k$ for each $d$-dimensional subspace with $d$ ranging from one to ten. The plot should have the scores on the y-axis and the different dimensions $d$ on the x-axis. You can use your favorite plot function for the boxplots. [Seaborn](http://web.stanford.edu/~mwaskom/software/seaborn/index.html) is worth having a look at though. It is a great library for statistical visualization and of course also comes with a [`boxplot`](http://web.stanford.edu/~mwaskom/software/seaborn/generated/seaborn.boxplot.html) function that has simple means for changing the labels on the x-axis."
     ]
    },
    {
     "cell_type": "code",
     "collapsed": false,
     "input": [
      "### Your cross validation and evaluation code here ###"
     ],
     "language": "python",
     "metadata": {},
     "outputs": [],
     "prompt_number": 90
    },
    {
     "cell_type": "code",
     "collapsed": false,
     "input": [
      "### Your boxplot code here ### "
     ],
     "language": "python",
     "metadata": {},
     "outputs": [],
     "prompt_number": 91
    },
    {
     "cell_type": "markdown",
     "metadata": {},
     "source": [
      "Write a short interpretation of the generated plot, answering the following questions:\n",
      "\n",
      "* What trend do you see in the plot for increasing dimensions?\n",
      "\n",
      "* Why do you think this is happening?"
     ]
    },
    {
     "cell_type": "markdown",
     "metadata": {},
     "source": [
      "** Your answer here: **"
     ]
    },
    {
     "cell_type": "markdown",
     "metadata": {},
     "source": [
      "#### Problem 3(d) \n",
      "\n",
      "**For AC209 Students**: Change the boxplot we generated above to also show the optimal value for $k$ chosen by the cross validation grid search. "
     ]
    },
    {
     "cell_type": "code",
     "collapsed": false,
     "input": [
      "### Your code here ### "
     ],
     "language": "python",
     "metadata": {},
     "outputs": [],
     "prompt_number": 92
    },
    {
     "cell_type": "markdown",
     "metadata": {},
     "source": [
      "Write a short interpretation answering the following questions:\n",
      "\n",
      "* Which trend do you observe for the optimal value of $k$?\n",
      "\n",
      "* Why do you think this is happening?"
     ]
    },
    {
     "cell_type": "markdown",
     "metadata": {},
     "source": [
      "** Your answer here: **"
     ]
    },
    {
     "cell_type": "markdown",
     "metadata": {},
     "source": [
      "## Discussion for Problem 3\n",
      "\n",
      "*Write a brief discussion of your conclusions to the questions and tasks above in 100 words or less.*\n",
      "\n",
      "---"
     ]
    },
    {
     "cell_type": "markdown",
     "metadata": {},
     "source": [
      "# Submission Instructions\n",
      "\n",
      "To submit your homework, create a folder named **lastname_firstinitial_hw#** and place your IPython notebooks, data files, and any other files in this folder. Your IPython Notebooks should be completely executed with the results visible in the notebook. We should not have to run any code.  Compress the folder (please use .zip compression) and submit to the CS109 dropbox in the appropriate folder. *If we cannot access your work because these directions are not followed correctly, we will not grade your work.*\n"
     ]
    },
    {
     "cell_type": "code",
     "collapsed": false,
     "input": [],
     "language": "python",
     "metadata": {},
     "outputs": [],
     "prompt_number": 92
    }
   ],
   "metadata": {}
  }
 ]
}