{
 "metadata": {
  "name": "",
  "signature": "sha256:2d46b7ee6de8b5c1e7234e11416a4b41452f93f55c1546e9627531662ecbe41e"
 },
 "nbformat": 3,
 "nbformat_minor": 0,
 "worksheets": [
  {
   "cells": [
    {
     "cell_type": "markdown",
     "metadata": {},
     "source": [
      "# Homework 3: Prediction and Classification\n",
      "\n",
      "Due: Thursday, October 16, 2014 11:59 PM\n",
      "\n",
      "<a href=https://raw.githubusercontent.com/cs109/2014/master/homework/HW3.ipynb download=HW3.ipynb> Download this assignment</a>\n",
      "\n",
      "#### Submission Instructions\n",
      "To submit your homework, create a folder named lastname_firstinitial_hw# and place your IPython notebooks, data files, and any other files in this folder. Your IPython Notebooks should be completely executed with the results visible in the notebook. We should not have to run any code. Compress the folder (please use .zip compression) and submit to the CS109 dropbox in the appropriate folder. If we cannot access your work because these directions are not followed correctly, we will not grade your work.\n",
      "\n",
      "---\n"
     ]
    },
    {
     "cell_type": "markdown",
     "metadata": {},
     "source": [
      "# Introduction\n",
      "\n",
      "In this assignment you will be using regression and classification to explore different data sets.  \n",
      "\n",
      "**First**: You will use data from before 2002 in the [Sean Lahman's Baseball Database](http://seanlahman.com/baseball-archive/statistics) to create a metric for picking baseball players using linear regression. This is same database we used in Homework 1. This database contains the \"complete batting and pitching statistics from 1871 to 2013, plus fielding statistics, standings, team stats, managerial records, post-season data, and more\". [Documentation provided here](http://seanlahman.com/files/database/readme2012.txt).\n",
      "\n",
      "![\"Sabermetrics Science\"](http://saberseminar.com/wp-content/uploads/2012/01/saber-web.jpg)\n",
      "http://saberseminar.com/wp-content/uploads/2012/01/saber-web.jpg\n",
      "\n",
      "**Second**: You will use the famous [iris](http://en.wikipedia.org/wiki/Iris_flower_data_set) data set to perform a $k$-neareast neighbor classification using cross validation.  While it was introduced in 1936, it is still [one of the most popular](http://archive.ics.uci.edu/ml/) example data sets in the machine learning community. Wikipedia describes the data set as follows: \"The data set consists of 50 samples from each of three species of Iris (Iris setosa, Iris virginica and Iris versicolor). Four features were measured from each sample: the length and the width of the sepals and petals, in centimetres.\" Here is an illustration what the four features measure:\n",
      "\n",
      "![\"iris data features\"](http://sebastianraschka.com/Images/2014_python_lda/iris_petal_sepal.png)\n",
      "http://sebastianraschka.com/Images/2014_python_lda/iris_petal_sepal.png\n",
      "\n",
      "**Third**: You will investigate the influence of higher dimensional spaces on the classification using another standard data set in machine learning called the The [digits data set](http://scikit-learn.org/stable/modules/generated/sklearn.datasets.load_digits.html).  This data set is similar to the MNIST data set discussed in the lecture. The main difference is, that each digit is represented by an 8x8 pixel image patch, which is considerably smaller than the 28x28 pixels from MNIST. In addition, the gray values are restricted to 16 different values (4 bit), instead of 256 (8 bit) for MNIST. \n",
      "\n",
      "**Finally**: In preparation for Homework 4, we want you to read through the following articles related to predicting the 2014 Senate Midterm Elections. \n",
      "\n",
      "* [Nate Silver's Methodology at while at NYT](http://fivethirtyeight.blogs.nytimes.com/methodology/)\n",
      "* [How The FiveThirtyEight Senate Forecast Model Works](http://fivethirtyeight.com/features/how-the-fivethirtyeight-senate-forecast-model-works/)\n",
      "* [Pollster Ratings v4.0: Methodology](http://fivethirtyeight.com/features/pollster-ratings-v40-methodology/)\n",
      "* [Pollster Ratings v4.0: Results](http://fivethirtyeight.com/features/pollster-ratings-v40-results/)\n",
      "* [Nate Silver versus Sam Wang](http://www.washingtonpost.com/blogs/plum-line/wp/2014/09/17/nate-silver-versus-sam-wang/)\n",
      "* [More Nate Silver versus Sam Wang](http://www.dailykos.com/story/2014/09/09/1328288/-Get-Ready-To-Rumbllllle-Battle-Of-The-Nerds-Nate-Silver-VS-Sam-Wang)\n",
      "* [Nate Silver explains critisims of Sam Wang](http://politicalwire.com/archives/2014/10/02/nate_silver_rebuts_sam_wang.html)\n",
      "* [Background on the feud between Nate Silver and Sam Wang](http://talkingpointsmemo.com/dc/nate-silver-sam-wang-feud)\n",
      "* [Are there swing voters?]( http://www.stat.columbia.edu/~gelman/research/unpublished/swing_voters.pdf)\n",
      "\n",
      "\n",
      "\n",
      "---"
     ]
    },
    {
     "cell_type": "markdown",
     "metadata": {},
     "source": [
      "## Load Python modules"
     ]
    },
    {
     "cell_type": "code",
     "collapsed": false,
     "input": [
      "# special IPython command to prepare the notebook for matplotlib\n",
      "%matplotlib inline \n",
      "\n",
      "import requests \n",
      "import StringIO\n",
      "import zipfile\n",
      "import numpy as np\n",
      "import pandas as pd # pandas\n",
      "import matplotlib.pyplot as plt # module for plotting \n",
      "\n",
      "# If this module is not already installed, you may need to install it. \n",
      "# You can do this by typing 'pip install seaborn' in the command line\n",
      "import seaborn as sns \n",
      "\n",
      "import sklearn\n",
      "import sklearn.datasets\n",
      "import sklearn.cross_validation\n",
      "import sklearn.decomposition\n",
      "import sklearn.grid_search\n",
      "import sklearn.neighbors\n",
      "import sklearn.metrics"
     ],
     "language": "python",
     "metadata": {},
     "outputs": [],
     "prompt_number": 185
    },
    {
     "cell_type": "markdown",
     "metadata": {},
     "source": [
      "# Problem 1: Sabermetrics\n",
      "\n",
      "Using data preceding the 2002 season pick 10 offensive players keeping the payroll under $20 million (assign each player the median salary). Predict how many games this team would win in a 162 game season.  \n",
      "\n",
      "In this problem we will be returning to the [Sean Lahman's Baseball Database](http://seanlahman.com/baseball-archive/statistics) that we used in Homework 1.  From this database, we will be extract five data sets containing information such as yearly stats and standing, batting statistics, fielding statistics, player names, player salaries and biographical information. You will explore the data in this database from before 2002 and create a metric for picking players. "
     ]
    },
    {
     "cell_type": "markdown",
     "metadata": {},
     "source": [
      "#### Problem 1(a) \n",
      "\n",
      "Load in [these CSV files](http://seanlahman.com/files/database/lahman-csv_2014-02-14.zip) from the [Sean Lahman's Baseball Database](http://seanlahman.com/baseball-archive/statistics). For this assignment, we will use the 'Teams.csv', 'Batting.csv', 'Salaries.csv', 'Fielding.csv', 'Master.csv' tables. Read these tables into separate pandas DataFrames with the following names. \n",
      "\n",
      "CSV file name | Name of pandas DataFrame\n",
      ":---: | :---: \n",
      "Teams.csv | teams\n",
      "Batting.csv | players\n",
      "Salaries.csv | salaries\n",
      "Fielding.csv | fielding\n",
      "Master.csv | master"
     ]
    },
    {
     "cell_type": "code",
     "collapsed": false,
     "input": [
      "### Your code here ###\n",
      "filepath_root = 'hw3_files/problem1/'\n",
      "teams = pd.read_csv(filepath_root + 'Teams.csv')\n",
      "players = pd.read_csv(filepath_root + 'Batting.csv')\n",
      "salaries = pd.read_csv(filepath_root + 'Salaries.csv')\n",
      "fielding = pd.read_csv(filepath_root + 'Fielding.csv')\n",
      "master = pd.read_csv(filepath_root + 'Master.csv')"
     ],
     "language": "python",
     "metadata": {},
     "outputs": [],
     "prompt_number": 186
    },
    {
     "cell_type": "markdown",
     "metadata": {},
     "source": [
      "#### Problem 1(b)\n",
      "\n",
      "Calculate the median salary for each player and create a pandas DataFrame called `medianSalaries` with four columns: (1) the player ID, (2) the first name of the player, (3) the last name of the player and (4) the median salary of the player. Show the head of the `medianSalaries` DataFrame.   "
     ]
    },
    {
     "cell_type": "code",
     "collapsed": false,
     "input": [
      "### Your code here ###\n",
      "\n",
      "salary_medians = salaries.groupby('playerID').median()\n",
      "salary_plus_master = pd.merge(master.set_index('playerID'), salary_medians, left_index=True, right_index=True)\n",
      "medianSalaries = salary_plus_master[['nameFirst', 'nameLast', 'salary']].reset_index()\n",
      "medianSalaries.head()"
     ],
     "language": "python",
     "metadata": {},
     "outputs": [
      {
       "html": [
        "<div style=\"max-height:1000px;max-width:1500px;overflow:auto;\">\n",
        "<table border=\"1\" class=\"dataframe\">\n",
        "  <thead>\n",
        "    <tr style=\"text-align: right;\">\n",
        "      <th></th>\n",
        "      <th>playerID</th>\n",
        "      <th>nameFirst</th>\n",
        "      <th>nameLast</th>\n",
        "      <th>salary</th>\n",
        "    </tr>\n",
        "  </thead>\n",
        "  <tbody>\n",
        "    <tr>\n",
        "      <th>0</th>\n",
        "      <td> aardsda01</td>\n",
        "      <td>    David</td>\n",
        "      <td> Aardsma</td>\n",
        "      <td> 419000</td>\n",
        "    </tr>\n",
        "    <tr>\n",
        "      <th>1</th>\n",
        "      <td>  aasedo01</td>\n",
        "      <td>      Don</td>\n",
        "      <td>    Aase</td>\n",
        "      <td> 612500</td>\n",
        "    </tr>\n",
        "    <tr>\n",
        "      <th>2</th>\n",
        "      <td>  abadan01</td>\n",
        "      <td>     Andy</td>\n",
        "      <td>    Abad</td>\n",
        "      <td> 327000</td>\n",
        "    </tr>\n",
        "    <tr>\n",
        "      <th>3</th>\n",
        "      <td>  abadfe01</td>\n",
        "      <td> Fernando</td>\n",
        "      <td>    Abad</td>\n",
        "      <td> 451500</td>\n",
        "    </tr>\n",
        "    <tr>\n",
        "      <th>4</th>\n",
        "      <td> abbotje01</td>\n",
        "      <td>     Jeff</td>\n",
        "      <td>  Abbott</td>\n",
        "      <td> 255000</td>\n",
        "    </tr>\n",
        "  </tbody>\n",
        "</table>\n",
        "<p>5 rows \u00d7 4 columns</p>\n",
        "</div>"
       ],
       "metadata": {},
       "output_type": "pyout",
       "prompt_number": 187,
       "text": [
        "    playerID nameFirst nameLast  salary\n",
        "0  aardsda01     David  Aardsma  419000\n",
        "1   aasedo01       Don     Aase  612500\n",
        "2   abadan01      Andy     Abad  327000\n",
        "3   abadfe01  Fernando     Abad  451500\n",
        "4  abbotje01      Jeff   Abbott  255000\n",
        "\n",
        "[5 rows x 4 columns]"
       ]
      }
     ],
     "prompt_number": 187
    },
    {
     "cell_type": "markdown",
     "metadata": {},
     "source": [
      "#### Problem 1(c)\n",
      "\n",
      "Now, consider only team/season combinations in which the teams played 162 Games. Exclude all data from before 1947. Compute the per plate appearance rates for singles, doubles, triples, HR, and BB. Create a new pandas DataFrame called `stats` that has the teamID, yearID, wins and these rates.\n",
      "\n",
      "**Hint**: Singles are hits that are not doubles, triples, nor HR. Plate appearances are base on balls plus at bats."
     ]
    },
    {
     "cell_type": "code",
     "collapsed": false,
     "input": [
      "### Your code here ###\n",
      "teams = teams[(teams['yearID'] >= 1947) & (teams['G'] == 162)]\n",
      "stats = teams[['teamID', 'yearID', 'W', 'AB', 'BB', 'H', '2B', '3B', 'HR']]\n",
      "stats['PA'] = stats['AB'] + stats['BB']\n",
      "stats['1B'] = stats['H'] - (stats['2B'] + stats['3B'] + stats['HR'])\n",
      "\n",
      "# divide stats by plate appearances\n",
      "stats_percentages = stats[['BB', 'H', '1B', '2B', '3B', 'HR']].div(stats['PA'], axis='index')\n",
      "\n",
      "# merge back in other data\n",
      "stats = pd.merge(stats[['teamID', 'yearID', 'PA', 'W']], stats_percentages, left_index=True, right_index=True)\n",
      "\n",
      "stats.head()"
     ],
     "language": "python",
     "metadata": {},
     "outputs": [
      {
       "html": [
        "<div style=\"max-height:1000px;max-width:1500px;overflow:auto;\">\n",
        "<table border=\"1\" class=\"dataframe\">\n",
        "  <thead>\n",
        "    <tr style=\"text-align: right;\">\n",
        "      <th></th>\n",
        "      <th>teamID</th>\n",
        "      <th>yearID</th>\n",
        "      <th>PA</th>\n",
        "      <th>W</th>\n",
        "      <th>BB</th>\n",
        "      <th>H</th>\n",
        "      <th>1B</th>\n",
        "      <th>2B</th>\n",
        "      <th>3B</th>\n",
        "      <th>HR</th>\n",
        "    </tr>\n",
        "  </thead>\n",
        "  <tbody>\n",
        "    <tr>\n",
        "      <th>1366</th>\n",
        "      <td> LAA</td>\n",
        "      <td> 1961</td>\n",
        "      <td> 6105</td>\n",
        "      <td> 70</td>\n",
        "      <td> 0.111548</td>\n",
        "      <td> 0.218018</td>\n",
        "      <td> 0.147748</td>\n",
        "      <td> 0.035708</td>\n",
        "      <td> 0.003604</td>\n",
        "      <td> 0.030958</td>\n",
        "    </tr>\n",
        "    <tr>\n",
        "      <th>1367</th>\n",
        "      <td> KC1</td>\n",
        "      <td> 1961</td>\n",
        "      <td> 6003</td>\n",
        "      <td> 61</td>\n",
        "      <td> 0.096618</td>\n",
        "      <td> 0.223555</td>\n",
        "      <td> 0.164751</td>\n",
        "      <td> 0.035982</td>\n",
        "      <td> 0.007829</td>\n",
        "      <td> 0.014993</td>\n",
        "    </tr>\n",
        "    <tr>\n",
        "      <th>1377</th>\n",
        "      <td> NYA</td>\n",
        "      <td> 1962</td>\n",
        "      <td> 6228</td>\n",
        "      <td> 96</td>\n",
        "      <td> 0.093770</td>\n",
        "      <td> 0.242293</td>\n",
        "      <td> 0.167148</td>\n",
        "      <td> 0.038536</td>\n",
        "      <td> 0.004656</td>\n",
        "      <td> 0.031952</td>\n",
        "    </tr>\n",
        "    <tr>\n",
        "      <th>1379</th>\n",
        "      <td> LAA</td>\n",
        "      <td> 1962</td>\n",
        "      <td> 6101</td>\n",
        "      <td> 86</td>\n",
        "      <td> 0.098672</td>\n",
        "      <td> 0.225701</td>\n",
        "      <td> 0.159482</td>\n",
        "      <td> 0.038027</td>\n",
        "      <td> 0.005737</td>\n",
        "      <td> 0.022455</td>\n",
        "    </tr>\n",
        "    <tr>\n",
        "      <th>1381</th>\n",
        "      <td> CHA</td>\n",
        "      <td> 1962</td>\n",
        "      <td> 6134</td>\n",
        "      <td> 85</td>\n",
        "      <td> 0.101076</td>\n",
        "      <td> 0.230681</td>\n",
        "      <td> 0.165797</td>\n",
        "      <td> 0.040756</td>\n",
        "      <td> 0.009129</td>\n",
        "      <td> 0.014998</td>\n",
        "    </tr>\n",
        "  </tbody>\n",
        "</table>\n",
        "<p>5 rows \u00d7 10 columns</p>\n",
        "</div>"
       ],
       "metadata": {},
       "output_type": "pyout",
       "prompt_number": 188,
       "text": [
        "     teamID  yearID    PA   W        BB         H        1B        2B  \\\n",
        "1366    LAA    1961  6105  70  0.111548  0.218018  0.147748  0.035708   \n",
        "1367    KC1    1961  6003  61  0.096618  0.223555  0.164751  0.035982   \n",
        "1377    NYA    1962  6228  96  0.093770  0.242293  0.167148  0.038536   \n",
        "1379    LAA    1962  6101  86  0.098672  0.225701  0.159482  0.038027   \n",
        "1381    CHA    1962  6134  85  0.101076  0.230681  0.165797  0.040756   \n",
        "\n",
        "            3B        HR  \n",
        "1366  0.003604  0.030958  \n",
        "1367  0.007829  0.014993  \n",
        "1377  0.004656  0.031952  \n",
        "1379  0.005737  0.022455  \n",
        "1381  0.009129  0.014998  \n",
        "\n",
        "[5 rows x 10 columns]"
       ]
      }
     ],
     "prompt_number": 188
    },
    {
     "cell_type": "markdown",
     "metadata": {},
     "source": [
      "#### Problem 1(d)\n",
      "\n",
      "Is there a noticeable time trend in the rates computed computed in Problem 1(c)? "
     ]
    },
    {
     "cell_type": "code",
     "collapsed": false,
     "input": [
      "### Your code here ###\n",
      "stats[['yearID', 'BB', 'H', '1B', '2B', '3B', 'HR']].groupby('yearID').median().plot()\n",
      "plt.title('Median Stats Over Time')\n",
      "plt.ylabel('% of Plate Appearances')\n",
      "plt.xlabel('Season')\n",
      "plt.show()"
     ],
     "language": "python",
     "metadata": {},
     "outputs": [
      {
       "metadata": {},
       "output_type": "display_data",
       "png": "[encoded data removed]",
       "text": [
        "<matplotlib.figure.Figure at 0x104597510>"
       ]
      }
     ],
     "prompt_number": 189
    },
    {
     "cell_type": "markdown",
     "metadata": {},
     "source": [
      "Over time, the rate of doubles and home runs have risen slightly, while the rate of singles has fallen slightly. The rates of walks, hits, and triples have remained more or less stagnant."
     ]
    },
    {
     "cell_type": "markdown",
     "metadata": {},
     "source": [
      "#### Problem 1(e) \n",
      "\n",
      "Using the `stats` DataFrame from Problem 1(c), adjust the singles per PA rates so that the average across teams for each year is 0. Do the same for the doubles, triples, HR, and BB rates. "
     ]
    },
    {
     "cell_type": "code",
     "collapsed": false,
     "input": [
      "### Your code here ###\n",
      "from scipy.stats import zscore\n",
      "stats_subset = stats[['yearID', 'teamID', 'BB', 'H', '1B', '2B', '3B', 'HR']].set_index(['yearID', 'teamID'])\n",
      "\n",
      "means = stats_subset.reset_index().groupby('yearID').mean()\n",
      "means.head()\n",
      "\n",
      "normalized_stats_subset = stats_subset.subtract(means, level=0)\n",
      "\n",
      "normalized_stats = pd.merge(stats.set_index(['yearID', 'teamID'])[['PA', 'W']], normalized_stats_subset, left_index=True, right_index=True)\n",
      "normalized_stats.head()"
     ],
     "language": "python",
     "metadata": {},
     "outputs": [
      {
       "html": [
        "<div style=\"max-height:1000px;max-width:1500px;overflow:auto;\">\n",
        "<table border=\"1\" class=\"dataframe\">\n",
        "  <thead>\n",
        "    <tr style=\"text-align: right;\">\n",
        "      <th></th>\n",
        "      <th></th>\n",
        "      <th>PA</th>\n",
        "      <th>W</th>\n",
        "      <th>BB</th>\n",
        "      <th>H</th>\n",
        "      <th>1B</th>\n",
        "      <th>2B</th>\n",
        "      <th>3B</th>\n",
        "      <th>HR</th>\n",
        "    </tr>\n",
        "    <tr>\n",
        "      <th>yearID</th>\n",
        "      <th>teamID</th>\n",
        "      <th></th>\n",
        "      <th></th>\n",
        "      <th></th>\n",
        "      <th></th>\n",
        "      <th></th>\n",
        "      <th></th>\n",
        "      <th></th>\n",
        "      <th></th>\n",
        "    </tr>\n",
        "  </thead>\n",
        "  <tbody>\n",
        "    <tr>\n",
        "      <th rowspan=\"2\" valign=\"top\">1961</th>\n",
        "      <th>LAA</th>\n",
        "      <td> 6105</td>\n",
        "      <td> 70</td>\n",
        "      <td> 0.007465</td>\n",
        "      <td>-0.002768</td>\n",
        "      <td>-0.008502</td>\n",
        "      <td>-0.000137</td>\n",
        "      <td>-0.002113</td>\n",
        "      <td> 0.007983</td>\n",
        "    </tr>\n",
        "    <tr>\n",
        "      <th>KC1</th>\n",
        "      <td> 6003</td>\n",
        "      <td> 61</td>\n",
        "      <td>-0.007465</td>\n",
        "      <td> 0.002768</td>\n",
        "      <td> 0.008502</td>\n",
        "      <td> 0.000137</td>\n",
        "      <td> 0.002113</td>\n",
        "      <td>-0.007983</td>\n",
        "    </tr>\n",
        "    <tr>\n",
        "      <th rowspan=\"3\" valign=\"top\">1962</th>\n",
        "      <th>NYA</th>\n",
        "      <td> 6228</td>\n",
        "      <td> 96</td>\n",
        "      <td> 0.005180</td>\n",
        "      <td> 0.010219</td>\n",
        "      <td> 0.001516</td>\n",
        "      <td> 0.002683</td>\n",
        "      <td>-0.002121</td>\n",
        "      <td> 0.008141</td>\n",
        "    </tr>\n",
        "    <tr>\n",
        "      <th>LAA</th>\n",
        "      <td> 6101</td>\n",
        "      <td> 86</td>\n",
        "      <td> 0.010082</td>\n",
        "      <td>-0.006373</td>\n",
        "      <td>-0.006150</td>\n",
        "      <td> 0.002174</td>\n",
        "      <td>-0.001040</td>\n",
        "      <td>-0.001356</td>\n",
        "    </tr>\n",
        "    <tr>\n",
        "      <th>CHA</th>\n",
        "      <td> 6134</td>\n",
        "      <td> 85</td>\n",
        "      <td> 0.012486</td>\n",
        "      <td>-0.001392</td>\n",
        "      <td> 0.000165</td>\n",
        "      <td> 0.004904</td>\n",
        "      <td> 0.002352</td>\n",
        "      <td>-0.008813</td>\n",
        "    </tr>\n",
        "  </tbody>\n",
        "</table>\n",
        "<p>5 rows \u00d7 8 columns</p>\n",
        "</div>"
       ],
       "metadata": {},
       "output_type": "pyout",
       "prompt_number": 190,
       "text": [
        "                 PA   W        BB         H        1B        2B        3B  \\\n",
        "yearID teamID                                                               \n",
        "1961   LAA     6105  70  0.007465 -0.002768 -0.008502 -0.000137 -0.002113   \n",
        "       KC1     6003  61 -0.007465  0.002768  0.008502  0.000137  0.002113   \n",
        "1962   NYA     6228  96  0.005180  0.010219  0.001516  0.002683 -0.002121   \n",
        "       LAA     6101  86  0.010082 -0.006373 -0.006150  0.002174 -0.001040   \n",
        "       CHA     6134  85  0.012486 -0.001392  0.000165  0.004904  0.002352   \n",
        "\n",
        "                     HR  \n",
        "yearID teamID            \n",
        "1961   LAA     0.007983  \n",
        "       KC1    -0.007983  \n",
        "1962   NYA     0.008141  \n",
        "       LAA    -0.001356  \n",
        "       CHA    -0.008813  \n",
        "\n",
        "[5 rows x 8 columns]"
       ]
      }
     ],
     "prompt_number": 190
    },
    {
     "cell_type": "markdown",
     "metadata": {},
     "source": [
      "#### Problem 1(f)\n",
      "\n",
      "Build a simple linear regression model to predict the number of wins from the average adjusted singles, double, triples, HR, and BB rates. To decide which of these terms to include fit the model to data from 2002 and compute the average squared residuals from predictions to years past 2012. Use the fitted model to define a new sabermetric summary: offensive predicted wins (OPW). Hint: the new summary should be a linear combination of one to five of the five rates.\n"
     ]
    },
    {
     "cell_type": "code",
     "collapsed": false,
     "input": [
      "### Your code here ###\n",
      "import statsmodels.api as sm\n",
      "import itertools\n",
      "\n",
      "normalized_stats = normalized_stats.reset_index()\n",
      "stats1 = normalized_stats[normalized_stats['yearID'] < 2002]\n",
      "stats2 = normalized_stats[normalized_stats['yearID'] >= 2002]\n",
      "\n",
      "\n",
      "Y = stats1['W']\n",
      "regressors = ['BB', 'H', '1B', '2B', '3B', 'HR']\n",
      "combinations = list(itertools.chain(*[itertools.combinations(regressors, i) for i in range(1, len(regressors) + 1)]))\n",
      "models = []\n",
      "\n",
      "for regs in combinations:\n",
      "    X = stats1[list(regs)]\n",
      "    X = sm.add_constant(X)\n",
      "    model = sm.OLS(Y,X).fit()\n",
      "    models.append(model)\n",
      "\n",
      "best_model = 0\n",
      "mses = {}\n",
      "for i, model in enumerate(models):\n",
      "    regs = model.params.index[1:]\n",
      "    X = stats2[regs]\n",
      "    X = sm.add_constant(X)\n",
      "    predictions = model.predict(X)\n",
      "    errors = (predictions - stats2['W']) ** 2\n",
      "    mse = errors.mean()\n",
      "    if not mses or mse < np.min(mses.values()):\n",
      "        best_model = i\n",
      "    mses[i] = mse\n",
      "\n",
      "best_model = models[best_model]\n",
      "best_model.summary()"
     ],
     "language": "python",
     "metadata": {},
     "outputs": [
      {
       "html": [
        "<table class=\"simpletable\">\n",
        "<caption>OLS Regression Results</caption>\n",
        "<tr>\n",
        "  <th>Dep. Variable:</th>            <td>W</td>        <th>  R-squared:         </th> <td>   0.392</td>\n",
        "</tr>\n",
        "<tr>\n",
        "  <th>Model:</th>                   <td>OLS</td>       <th>  Adj. R-squared:    </th> <td>   0.388</td>\n",
        "</tr>\n",
        "<tr>\n",
        "  <th>Method:</th>             <td>Least Squares</td>  <th>  F-statistic:       </th> <td>   105.8</td>\n",
        "</tr>\n",
        "<tr>\n",
        "  <th>Date:</th>             <td>Thu, 09 Oct 2014</td> <th>  Prob (F-statistic):</th> <td>1.50e-69</td>\n",
        "</tr>\n",
        "<tr>\n",
        "  <th>Time:</th>                 <td>00:24:17</td>     <th>  Log-Likelihood:    </th> <td> -2376.1</td>\n",
        "</tr>\n",
        "<tr>\n",
        "  <th>No. Observations:</th>      <td>   662</td>      <th>  AIC:               </th> <td>   4762.</td>\n",
        "</tr>\n",
        "<tr>\n",
        "  <th>Df Residuals:</th>          <td>   657</td>      <th>  BIC:               </th> <td>   4785.</td>\n",
        "</tr>\n",
        "<tr>\n",
        "  <th>Df Model:</th>              <td>     4</td>      <th>                     </th>     <td> </td>   \n",
        "</tr>\n",
        "</table>\n",
        "<table class=\"simpletable\">\n",
        "<tr>\n",
        "    <td></td>       <th>coef</th>     <th>std err</th>      <th>t</th>      <th>P>|t|</th> <th>[95.0% Conf. Int.]</th> \n",
        "</tr>\n",
        "<tr>\n",
        "  <th>const</th> <td>   81.0634</td> <td>    0.342</td> <td>  237.159</td> <td> 0.000</td> <td>   80.392    81.735</td>\n",
        "</tr>\n",
        "<tr>\n",
        "  <th>BB</th>    <td>  504.2688</td> <td>   37.499</td> <td>   13.448</td> <td> 0.000</td> <td>  430.637   577.901</td>\n",
        "</tr>\n",
        "<tr>\n",
        "  <th>H</th>     <td>  865.1416</td> <td>   79.635</td> <td>   10.864</td> <td> 0.000</td> <td>  708.772  1021.512</td>\n",
        "</tr>\n",
        "<tr>\n",
        "  <th>1B</th>    <td> -330.6563</td> <td>   82.877</td> <td>   -3.990</td> <td> 0.000</td> <td> -493.391  -167.921</td>\n",
        "</tr>\n",
        "<tr>\n",
        "  <th>2B</th>    <td> -359.5874</td> <td>  135.648</td> <td>   -2.651</td> <td> 0.008</td> <td> -625.943   -93.231</td>\n",
        "</tr>\n",
        "</table>\n",
        "<table class=\"simpletable\">\n",
        "<tr>\n",
        "  <th>Omnibus:</th>       <td> 0.385</td> <th>  Durbin-Watson:     </th> <td>   1.776</td>\n",
        "</tr>\n",
        "<tr>\n",
        "  <th>Prob(Omnibus):</th> <td> 0.825</td> <th>  Jarque-Bera (JB):  </th> <td>   0.490</td>\n",
        "</tr>\n",
        "<tr>\n",
        "  <th>Skew:</th>          <td>-0.004</td> <th>  Prob(JB):          </th> <td>   0.783</td>\n",
        "</tr>\n",
        "<tr>\n",
        "  <th>Kurtosis:</th>      <td> 2.867</td> <th>  Cond. No.          </th> <td>    476.</td>\n",
        "</tr>\n",
        "</table>"
       ],
       "metadata": {},
       "output_type": "pyout",
       "prompt_number": 191,
       "text": [
        "<class 'statsmodels.iolib.summary.Summary'>\n",
        "\"\"\"\n",
        "                            OLS Regression Results                            \n",
        "==============================================================================\n",
        "Dep. Variable:                      W   R-squared:                       0.392\n",
        "Model:                            OLS   Adj. R-squared:                  0.388\n",
        "Method:                 Least Squares   F-statistic:                     105.8\n",
        "Date:                Thu, 09 Oct 2014   Prob (F-statistic):           1.50e-69\n",
        "Time:                        00:24:17   Log-Likelihood:                -2376.1\n",
        "No. Observations:                 662   AIC:                             4762.\n",
        "Df Residuals:                     657   BIC:                             4785.\n",
        "Df Model:                           4                                         \n",
        "==============================================================================\n",
        "                 coef    std err          t      P>|t|      [95.0% Conf. Int.]\n",
        "------------------------------------------------------------------------------\n",
        "const         81.0634      0.342    237.159      0.000        80.392    81.735\n",
        "BB           504.2688     37.499     13.448      0.000       430.637   577.901\n",
        "H            865.1416     79.635     10.864      0.000       708.772  1021.512\n",
        "1B          -330.6563     82.877     -3.990      0.000      -493.391  -167.921\n",
        "2B          -359.5874    135.648     -2.651      0.008      -625.943   -93.231\n",
        "==============================================================================\n",
        "Omnibus:                        0.385   Durbin-Watson:                   1.776\n",
        "Prob(Omnibus):                  0.825   Jarque-Bera (JB):                0.490\n",
        "Skew:                          -0.004   Prob(JB):                        0.783\n",
        "Kurtosis:                       2.867   Cond. No.                         476.\n",
        "==============================================================================\n",
        "\"\"\""
       ]
      }
     ],
     "prompt_number": 191
    },
    {
     "cell_type": "code",
     "collapsed": false,
     "input": [
      "def to_equation(model, yvar):\n",
      "    return '{} = '.format(yvar) + ' + '.join(['({} * {})'.format(*i) for i in zip(model.params[::-1][:-1], model.params.index[::-1][:-1])]) + ' + {}'.format(model.params[0])\n",
      "\n",
      "X = stats2[best_model.params.index[1:]]\n",
      "X = sm.add_constant(X)\n",
      "predictions = best_model.predict(X)\n",
      "actual = stats2['W']\n",
      "\n",
      "plt.scatter(predictions, actual)\n",
      "plt.title('Actual vs. Predicted Wins Using Best Model, 2002 - 2012 Data')\n",
      "plt.xlabel('Actual Wins')\n",
      "plt.ylabel('Predicted Wins')\n",
      "plt.xlim([55, 105])\n",
      "plt.ylim([55, 105])\n",
      "plt.show()"
     ],
     "language": "python",
     "metadata": {},
     "outputs": [
      {
       "metadata": {},
       "output_type": "display_data",
       "png": "[encoded data removed]",
       "text": [
        "<matplotlib.figure.Figure at 0x10bf2dad0>"
       ]
      }
     ],
     "prompt_number": 208
    },
    {
     "cell_type": "code",
     "collapsed": false,
     "input": [
      "# calcualte \"OPW\" for all stats\n",
      "X = normalized_stats[best_model.params.index[1:]]\n",
      "X = sm.add_constant(X)\n",
      "predictions = best_model.predict(X)\n",
      "normalized_stats['OPW'] = predictions\n",
      "normalized_stats.head()"
     ],
     "language": "python",
     "metadata": {},
     "outputs": [
      {
       "html": [
        "<div style=\"max-height:1000px;max-width:1500px;overflow:auto;\">\n",
        "<table border=\"1\" class=\"dataframe\">\n",
        "  <thead>\n",
        "    <tr style=\"text-align: right;\">\n",
        "      <th></th>\n",
        "      <th>yearID</th>\n",
        "      <th>teamID</th>\n",
        "      <th>PA</th>\n",
        "      <th>W</th>\n",
        "      <th>BB</th>\n",
        "      <th>H</th>\n",
        "      <th>1B</th>\n",
        "      <th>2B</th>\n",
        "      <th>3B</th>\n",
        "      <th>HR</th>\n",
        "      <th>OPW</th>\n",
        "    </tr>\n",
        "  </thead>\n",
        "  <tbody>\n",
        "    <tr>\n",
        "      <th>0</th>\n",
        "      <td> 1961</td>\n",
        "      <td> LAA</td>\n",
        "      <td> 6105</td>\n",
        "      <td> 70</td>\n",
        "      <td> 0.007465</td>\n",
        "      <td>-0.002768</td>\n",
        "      <td>-0.008502</td>\n",
        "      <td>-0.000137</td>\n",
        "      <td>-0.002113</td>\n",
        "      <td> 0.007983</td>\n",
        "      <td> 85.292906</td>\n",
        "    </tr>\n",
        "    <tr>\n",
        "      <th>1</th>\n",
        "      <td> 1961</td>\n",
        "      <td> KC1</td>\n",
        "      <td> 6003</td>\n",
        "      <td> 61</td>\n",
        "      <td>-0.007465</td>\n",
        "      <td> 0.002768</td>\n",
        "      <td> 0.008502</td>\n",
        "      <td> 0.000137</td>\n",
        "      <td> 0.002113</td>\n",
        "      <td>-0.007983</td>\n",
        "      <td> 76.833983</td>\n",
        "    </tr>\n",
        "    <tr>\n",
        "      <th>2</th>\n",
        "      <td> 1962</td>\n",
        "      <td> NYA</td>\n",
        "      <td> 6228</td>\n",
        "      <td> 96</td>\n",
        "      <td> 0.005180</td>\n",
        "      <td> 0.010219</td>\n",
        "      <td> 0.001516</td>\n",
        "      <td> 0.002683</td>\n",
        "      <td>-0.002121</td>\n",
        "      <td> 0.008141</td>\n",
        "      <td> 91.050602</td>\n",
        "    </tr>\n",
        "    <tr>\n",
        "      <th>3</th>\n",
        "      <td> 1962</td>\n",
        "      <td> LAA</td>\n",
        "      <td> 6101</td>\n",
        "      <td> 86</td>\n",
        "      <td> 0.010082</td>\n",
        "      <td>-0.006373</td>\n",
        "      <td>-0.006150</td>\n",
        "      <td> 0.002174</td>\n",
        "      <td>-0.001040</td>\n",
        "      <td>-0.001356</td>\n",
        "      <td> 81.886072</td>\n",
        "    </tr>\n",
        "    <tr>\n",
        "      <th>4</th>\n",
        "      <td> 1962</td>\n",
        "      <td> CHA</td>\n",
        "      <td> 6134</td>\n",
        "      <td> 85</td>\n",
        "      <td> 0.012486</td>\n",
        "      <td>-0.001392</td>\n",
        "      <td> 0.000165</td>\n",
        "      <td> 0.004904</td>\n",
        "      <td> 0.002352</td>\n",
        "      <td>-0.008813</td>\n",
        "      <td> 84.337416</td>\n",
        "    </tr>\n",
        "  </tbody>\n",
        "</table>\n",
        "<p>5 rows \u00d7 11 columns</p>\n",
        "</div>"
       ],
       "metadata": {},
       "output_type": "pyout",
       "prompt_number": 209,
       "text": [
        "   yearID teamID    PA   W        BB         H        1B        2B        3B  \\\n",
        "0    1961    LAA  6105  70  0.007465 -0.002768 -0.008502 -0.000137 -0.002113   \n",
        "1    1961    KC1  6003  61 -0.007465  0.002768  0.008502  0.000137  0.002113   \n",
        "2    1962    NYA  6228  96  0.005180  0.010219  0.001516  0.002683 -0.002121   \n",
        "3    1962    LAA  6101  86  0.010082 -0.006373 -0.006150  0.002174 -0.001040   \n",
        "4    1962    CHA  6134  85  0.012486 -0.001392  0.000165  0.004904  0.002352   \n",
        "\n",
        "         HR        OPW  \n",
        "0  0.007983  85.292906  \n",
        "1 -0.007983  76.833983  \n",
        "2  0.008141  91.050602  \n",
        "3 -0.001356  81.886072  \n",
        "4 -0.008813  84.337416  \n",
        "\n",
        "[5 rows x 11 columns]"
       ]
      }
     ],
     "prompt_number": 209
    },
    {
     "cell_type": "markdown",
     "metadata": {},
     "source": [
      "** Your answer here: ** The most accurate model, when evaluated with the 2002 - 2012 data, used regressors: BB, H, 1B, and 2B. The model is:\n",
      "\n",
      "*W* = (-359.587407593 x *2B*) + (-330.656346583 x *1B*) + (865.141563193 x *H*) + (504.268759532 x *BB*) + 81.0634441088"
     ]
    },
    {
     "cell_type": "markdown",
     "metadata": {},
     "source": [
      "#### Problem 1(g)\n",
      "\n",
      "Now we will create a similar database for individual players. Consider only player/year combinations in which the player had at least 500 plate appearances. Consider only the years we considered for the calculations above (after 1947 and seasons with 162 games). For each player/year compute singles, doubles, triples, HR, BB per plate appearance rates. Create a new pandas DataFrame called `playerstats` that has the playerID, yearID and the rates of these stats.  Remove the avareage for each year as for these rates as done in Problem 1(e). "
     ]
    },
    {
     "cell_type": "code",
     "collapsed": false,
     "input": [
      "### Your code here ###"
     ],
     "language": "python",
     "metadata": {},
     "outputs": [],
     "prompt_number": 8
    },
    {
     "cell_type": "markdown",
     "metadata": {},
     "source": [
      "Show the head of the `playerstats` DataFrame. "
     ]
    },
    {
     "cell_type": "code",
     "collapsed": false,
     "input": [
      "### Your code here ###"
     ],
     "language": "python",
     "metadata": {},
     "outputs": [],
     "prompt_number": 9
    },
    {
     "cell_type": "markdown",
     "metadata": {},
     "source": [
      "#### Problem 1(h)\n",
      "\n",
      "Using the `playerstats` DataFrame created in Problem 1(g), create a new DataFrame called `playerLS` containing the player's lifetime stats. This DataFrame should contain the playerID, the year the player's career started, the year the player's career ended and the player's lifetime average for each of the quantities (singles, doubles, triples, HR, BB). For simplicity we will simply compute the avaerage of the rates by year (a more correct way is to go back to the totals). "
     ]
    },
    {
     "cell_type": "code",
     "collapsed": false,
     "input": [
      "### Your code here ###"
     ],
     "language": "python",
     "metadata": {},
     "outputs": [],
     "prompt_number": 10
    },
    {
     "cell_type": "markdown",
     "metadata": {},
     "source": [
      "Show the head of the `playerLS` DataFrame. "
     ]
    },
    {
     "cell_type": "code",
     "collapsed": false,
     "input": [
      "### Your code here ###"
     ],
     "language": "python",
     "metadata": {},
     "outputs": [],
     "prompt_number": 11
    },
    {
     "cell_type": "markdown",
     "metadata": {},
     "source": [
      "#### Problem 1(i)\n",
      "\n",
      "Compute the OPW for each player based on the average rates in the playerLS DataFrame. You can interpret this summary statistic as the predicted wins for a team with 9 batters exactly like the player in question. Add this column to the playerLS DataFrame. Call this colum OPW."
     ]
    },
    {
     "cell_type": "code",
     "collapsed": false,
     "input": [
      "### Your code here ###"
     ],
     "language": "python",
     "metadata": {},
     "outputs": [],
     "prompt_number": 12
    },
    {
     "cell_type": "markdown",
     "metadata": {},
     "source": [
      "#### Problem 1(j)\n",
      "\n",
      "Add four columns to the `playerLS` DataFrame that contains the player's position (C, 1B, 2B, 3B, SS, LF, CF, RF, or OF), first name, last name and median salary. "
     ]
    },
    {
     "cell_type": "code",
     "collapsed": false,
     "input": [
      "### Your code here ###"
     ],
     "language": "python",
     "metadata": {},
     "outputs": [],
     "prompt_number": 13
    },
    {
     "cell_type": "markdown",
     "metadata": {},
     "source": [
      "Show the head of the `playerLS` DataFrame. "
     ]
    },
    {
     "cell_type": "code",
     "collapsed": false,
     "input": [
      "### Your code here ###"
     ],
     "language": "python",
     "metadata": {},
     "outputs": [],
     "prompt_number": 14
    },
    {
     "cell_type": "markdown",
     "metadata": {},
     "source": [
      "#### Problem 1(k)\n",
      "\n",
      "Subset the `playerLS` DataFrame for players active in 2002 and 2003 and played at least three years. Plot and describe the relationship bewteen the median salary (in millions) and the predicted number of wins. "
     ]
    },
    {
     "cell_type": "code",
     "collapsed": false,
     "input": [
      "### Your code here ###"
     ],
     "language": "python",
     "metadata": {},
     "outputs": [],
     "prompt_number": 15
    },
    {
     "cell_type": "markdown",
     "metadata": {},
     "source": [
      "#### Problem 1(l)\n",
      "Pick one players from one of each of these 10 position C, 1B, 2B, 3B, SS, LF, CF, RF, or OF keeping the total median salary of all 10 players below 20 million. Report their averaged predicted wins and total salary."
     ]
    },
    {
     "cell_type": "code",
     "collapsed": false,
     "input": [
      "### Your code here ###"
     ],
     "language": "python",
     "metadata": {},
     "outputs": [],
     "prompt_number": 16
    },
    {
     "cell_type": "markdown",
     "metadata": {},
     "source": [
      "#### Problem 1(m)\n",
      "What do these players outperform in? Singles, doubles, triples HR or BB?"
     ]
    },
    {
     "cell_type": "code",
     "collapsed": false,
     "input": [
      "### Your code here ###"
     ],
     "language": "python",
     "metadata": {},
     "outputs": [],
     "prompt_number": 17
    },
    {
     "cell_type": "markdown",
     "metadata": {},
     "source": [
      "** Your answer here: **"
     ]
    },
    {
     "cell_type": "markdown",
     "metadata": {},
     "source": [
      "## Discussion for Problem 1\n",
      "\n",
      "*Write a brief discussion of your conclusions to the questions and tasks above in 100 words or less.*\n",
      "\n",
      "---"
     ]
    },
    {
     "cell_type": "markdown",
     "metadata": {},
     "source": [
      "# Problem 2:  $k$-Nearest Neighbors and Cross Validation \n",
      "\n",
      "What is the optimal $k$ for predicting species using $k$-nearest neighbor classification \n",
      "on the four features provided by the iris dataset.\n",
      "\n",
      "In this problem you will get to know the famous iris data set, and use cross validation to select the optimal $k$ for a $k$-nearest neighbor classification. This problem set makes heavy use of the [sklearn](http://scikit-learn.org/stable/) library. In addition to Pandas, it is one of the most useful libraries for data scientists! After completing this homework assignment you will know all the basics to get started with your own machine learning projects in sklearn. \n",
      "\n",
      "Future lectures will give further background information on different classifiers and their specific strengths and weaknesses, but when you have the basics for sklearn down, changing the classifier will boil down to exchanging one to two lines of code.\n",
      "\n",
      "The data set is so popular, that sklearn provides an extra function to load it:"
     ]
    },
    {
     "cell_type": "code",
     "collapsed": false,
     "input": [
      "#load the iris data set\n",
      "iris = sklearn.datasets.load_iris()\n",
      "\n",
      "X = iris.data  \n",
      "Y = iris.target\n",
      "\n",
      "print X.shape, Y.shape"
     ],
     "language": "python",
     "metadata": {},
     "outputs": [
      {
       "output_type": "stream",
       "stream": "stdout",
       "text": [
        "(150, 4) (150,)\n"
       ]
      }
     ],
     "prompt_number": 18
    },
    {
     "cell_type": "markdown",
     "metadata": {},
     "source": [
      "#### Problem 2(a) \n",
      "Split the data into a train and a test set. Use a random selection of 33% of the samples as test data. Sklearn provides the [`train_test_split`](http://scikit-learn.org/stable/modules/generated/sklearn.cross_validation.train_test_split.html) function for this purpose. Print the dimensions of all the train and test data sets you have created. "
     ]
    },
    {
     "cell_type": "code",
     "collapsed": false,
     "input": [
      "### Your code here ###"
     ],
     "language": "python",
     "metadata": {},
     "outputs": [],
     "prompt_number": 19
    },
    {
     "cell_type": "markdown",
     "metadata": {},
     "source": [
      "#### Problem 2(b)\n",
      "\n",
      "Examine the data further by looking at the projections to the first two principal components of the data. Use the [`TruncatedSVD`](http://scikit-learn.org/stable/modules/generated/sklearn.decomposition.TruncatedSVD.html) function for this purpose, and create a scatter plot. Use the colors on the scatter plot to represent the different classes in the target data. "
     ]
    },
    {
     "cell_type": "code",
     "collapsed": false,
     "input": [
      "### Your code here ###"
     ],
     "language": "python",
     "metadata": {},
     "outputs": [],
     "prompt_number": 20
    },
    {
     "cell_type": "markdown",
     "metadata": {},
     "source": [
      "#### Problem 2(c) \n",
      "\n",
      "In the lecture we discussed how to use cross validation to estimate the optimal value for $k$ (the number of nearest neighbors to base the classification on). Use ***ten fold cross validation*** to estimate the optimal value for $k$ for the iris data set. \n",
      "\n",
      "**Note**: For your convenience sklearn does not only include the [KNN classifier](http://scikit-learn.org/stable/modules/generated/sklearn.neighbors.KNeighborsClassifier.html), but also a [grid search function](http://scikit-learn.org/stable/modules/generated/sklearn.grid_search.GridSearchCV.html#sklearn.grid_search.GridSearchCV). The function is called grid search, because if you have to optimize more than one parameter, it is common practice to define a range of possible values for each parameter. An exhaustive search then runs over the complete grid defined by all the possible parameter combinations. This can get very computation heavy, but luckily our KNN classifier only requires tuning of a single parameter for this problem set. "
     ]
    },
    {
     "cell_type": "code",
     "collapsed": false,
     "input": [
      "### Your code here ###"
     ],
     "language": "python",
     "metadata": {},
     "outputs": [],
     "prompt_number": 21
    },
    {
     "cell_type": "markdown",
     "metadata": {},
     "source": [
      "#### Problem 2(d)\n",
      "\n",
      "Visualize the result by plotting the score results verus values for $k$. "
     ]
    },
    {
     "cell_type": "code",
     "collapsed": false,
     "input": [
      "### Your code here ###"
     ],
     "language": "python",
     "metadata": {},
     "outputs": [],
     "prompt_number": 22
    },
    {
     "cell_type": "markdown",
     "metadata": {},
     "source": [
      "Verify that the grid search has indeed chosen the right parameter value for $k$."
     ]
    },
    {
     "cell_type": "code",
     "collapsed": false,
     "input": [
      "### Your code here ###"
     ],
     "language": "python",
     "metadata": {},
     "outputs": [],
     "prompt_number": 23
    },
    {
     "cell_type": "markdown",
     "metadata": {},
     "source": [
      "#### Problem 2(e)\n",
      "\n",
      "Test the performance of our tuned KNN classifier on the test set."
     ]
    },
    {
     "cell_type": "code",
     "collapsed": false,
     "input": [
      "### Your code here ###"
     ],
     "language": "python",
     "metadata": {},
     "outputs": [],
     "prompt_number": 24
    },
    {
     "cell_type": "markdown",
     "metadata": {},
     "source": [
      "## Discussion for Problem 2\n",
      "\n",
      "*Write a brief discussion of your conclusions to the questions and tasks above in 100 words or less.*\n",
      "\n",
      "---"
     ]
    },
    {
     "cell_type": "markdown",
     "metadata": {},
     "source": [
      "# Problem 3: The Curse and Blessing of Higher Dimensions\n",
      "\n",
      "In this problem we will investigate the influence of higher dimensional spaces on the classification. The data set is again one of the standard data sets from sklearn. The [digits data set](http://scikit-learn.org/stable/modules/generated/sklearn.datasets.load_digits.html) is similar to the MNIST data set discussed in the lecture. The main difference is, that each digit is represented by an 8x8 pixel image patch, which is considerably smaller than the 28x28 pixels from MNIST. In addition, the gray values are restricted to 16 different values (4 bit), instead of 256 (8 bit) for MNIST. \n",
      "\n",
      "First we again load our data set."
     ]
    },
    {
     "cell_type": "code",
     "collapsed": false,
     "input": [
      "digits = sklearn.datasets.load_digits()\n",
      "\n",
      "X = digits.data  \n",
      "Y = digits.target\n",
      "\n",
      "print X.shape, Y.shape"
     ],
     "language": "python",
     "metadata": {},
     "outputs": [
      {
       "output_type": "stream",
       "stream": "stdout",
       "text": [
        "(1797, 64) (1797,)\n"
       ]
      }
     ],
     "prompt_number": 25
    },
    {
     "cell_type": "markdown",
     "metadata": {},
     "source": [
      "#### Problem 3(a) \n",
      "\n",
      "Start with the same steps as in Problem 2. Split the data into train and test set. Use 33% of the samples as test data. Print the dimensions of all the train and test data sets you created. "
     ]
    },
    {
     "cell_type": "code",
     "collapsed": false,
     "input": [
      "### Your code here ###"
     ],
     "language": "python",
     "metadata": {},
     "outputs": [],
     "prompt_number": 26
    },
    {
     "cell_type": "markdown",
     "metadata": {},
     "source": [
      "#### Problem 3(b) \n",
      "\n",
      "Similar to Problem 2(b), create a scatter plot of the projections to the first two PCs.  Use the colors on the scatter plot to represent the different classes in the target data. How well can we separate the classes?\n",
      "\n",
      "**Hint**: Use a `Colormap` in matplotlib to represent the diferent classes in the target data. "
     ]
    },
    {
     "cell_type": "code",
     "collapsed": false,
     "input": [
      "### Your code here ###"
     ],
     "language": "python",
     "metadata": {},
     "outputs": [],
     "prompt_number": 27
    },
    {
     "cell_type": "markdown",
     "metadata": {},
     "source": [
      "Create individual scatter plots using only two classes at a time to explore which classes are most difficult to distinguish in terms of class separability.  You do not need to create scatter plots for all pairwise comparisons, but at least show one. "
     ]
    },
    {
     "cell_type": "code",
     "collapsed": false,
     "input": [
      "### Your code here ###"
     ],
     "language": "python",
     "metadata": {},
     "outputs": [],
     "prompt_number": 28
    },
    {
     "cell_type": "markdown",
     "metadata": {},
     "source": [
      "Give a brief interpretation of the scatter plot. Which classes look like hard to distinguish? Do both feature dimensions contribute to the class separability? "
     ]
    },
    {
     "cell_type": "markdown",
     "metadata": {},
     "source": [
      "** Your answer here: **"
     ]
    },
    {
     "cell_type": "markdown",
     "metadata": {},
     "source": [
      "#### Problem 3(c) \n",
      "\n",
      "Write a **ten-fold cross validation** to estimate the optimal value for $k$ for the digits data set. *However*, this time we are interested in the influence of the number of dimensions we project the data down as well. \n",
      "\n",
      "Extend the cross validation as done for the iris data set, to optimize $k$ for different dimensional projections of the data. Create a boxplot showing test scores for the optimal $k$ for each $d$-dimensional subspace with $d$ ranging from one to ten. The plot should have the scores on the y-axis and the different dimensions $d$ on the x-axis. You can use your favorite plot function for the boxplots. [Seaborn](http://web.stanford.edu/~mwaskom/software/seaborn/index.html) is worth having a look at though. It is a great library for statistical visualization and of course also comes with a [`boxplot`](http://web.stanford.edu/~mwaskom/software/seaborn/generated/seaborn.boxplot.html) function that has simple means for changing the labels on the x-axis."
     ]
    },
    {
     "cell_type": "code",
     "collapsed": false,
     "input": [
      "### Your cross validation and evaluation code here ###"
     ],
     "language": "python",
     "metadata": {},
     "outputs": [],
     "prompt_number": 29
    },
    {
     "cell_type": "code",
     "collapsed": false,
     "input": [
      "### Your boxplot code here ### "
     ],
     "language": "python",
     "metadata": {},
     "outputs": [],
     "prompt_number": 30
    },
    {
     "cell_type": "markdown",
     "metadata": {},
     "source": [
      "Write a short interpretation of the generated plot, answering the following questions:\n",
      "\n",
      "* What trend do you see in the plot for increasing dimensions?\n",
      "\n",
      "* Why do you think this is happening?"
     ]
    },
    {
     "cell_type": "markdown",
     "metadata": {},
     "source": [
      "** Your answer here: **"
     ]
    },
    {
     "cell_type": "markdown",
     "metadata": {},
     "source": [
      "#### Problem 3(d) \n",
      "\n",
      "**For AC209 Students**: Change the boxplot we generated above to also show the optimal value for $k$ chosen by the cross validation grid search. "
     ]
    },
    {
     "cell_type": "code",
     "collapsed": false,
     "input": [
      "### Your code here ### "
     ],
     "language": "python",
     "metadata": {},
     "outputs": [],
     "prompt_number": 31
    },
    {
     "cell_type": "markdown",
     "metadata": {},
     "source": [
      "Write a short interpretation answering the following questions:\n",
      "\n",
      "* Which trend do you observe for the optimal value of $k$?\n",
      "\n",
      "* Why do you think this is happening?"
     ]
    },
    {
     "cell_type": "markdown",
     "metadata": {},
     "source": [
      "** Your answer here: **"
     ]
    },
    {
     "cell_type": "markdown",
     "metadata": {},
     "source": [
      "## Discussion for Problem 3\n",
      "\n",
      "*Write a brief discussion of your conclusions to the questions and tasks above in 100 words or less.*\n",
      "\n",
      "---"
     ]
    },
    {
     "cell_type": "markdown",
     "metadata": {},
     "source": [
      "# Submission Instructions\n",
      "\n",
      "To submit your homework, create a folder named **lastname_firstinitial_hw#** and place your IPython notebooks, data files, and any other files in this folder. Your IPython Notebooks should be completely executed with the results visible in the notebook. We should not have to run any code.  Compress the folder (please use .zip compression) and submit to the CS109 dropbox in the appropriate folder. *If we cannot access your work because these directions are not followed correctly, we will not grade your work.*\n"
     ]
    },
    {
     "cell_type": "code",
     "collapsed": false,
     "input": [],
     "language": "python",
     "metadata": {},
     "outputs": [],
     "prompt_number": 31
    }
   ],
   "metadata": {}
  }
 ]
}