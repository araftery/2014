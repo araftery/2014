{
 "metadata": {
  "name": "",
  "signature": "sha256:24f3f88aabd15b8a672b3ea805f8c4543d4bb5d39f150647f07900fff7bb60d4"
 },
 "nbformat": 3,
 "nbformat_minor": 0,
 "worksheets": [
  {
   "cells": [
    {
     "cell_type": "markdown",
     "metadata": {},
     "source": [
      "# Homework 2: More Exploratory Data Analysis\n",
      "## Gene Expression Data and Election Polls \n",
      "\n",
      "Due: Thursday, October 2, 2014 11:59 PM\n",
      "\n",
      "<a href=https://raw.githubusercontent.com/cs109/2014/master/homework/HW2.ipynb download=HW2.ipynb> Download this assignment</a>\n",
      "\n",
      "#### Submission Instructions\n",
      "To submit your homework, create a folder named lastname_firstinitial_hw# and place your IPython notebooks, data files, and any other files in this folder. Your IPython Notebooks should be completely executed with the results visible in the notebook. We should not have to run any code. Compress the folder (please use .zip compression) and submit to the CS109 dropbox in the appropriate folder. If we cannot access your work because these directions are not followed correctly, we will not grade your work.\n",
      "\n",
      "\n",
      "---"
     ]
    },
    {
     "cell_type": "markdown",
     "metadata": {},
     "source": [
      "## Introduction\n",
      "\n",
      "John Tukey wrote in [Exploratory Data Analysis, 1977](http://www.amazon.com/Exploratory-Data-Analysis-Wilder-Tukey/dp/0201076160/ref=pd_bbs_sr_2/103-4466654-5303007?ie=UTF8&s=books&qid=1189739816&sr=8-2): \"The greatest value of a picture is when it forces us to notice what we never expected to see.\" In this assignment we will continue using our exploratory data analysis tools, but apply it to new sets of data: [gene expression](http://en.wikipedia.org/wiki/Gene_expression) and polls from the [2012 Presidental Election](http://en.wikipedia.org/wiki/United_States_presidential_election,_2012) and from the [2014 Senate Midterm Elections](http://en.wikipedia.org/wiki/United_States_Senate_elections,_2014).   \n",
      "\n",
      "**First**: You will use exploratory data analysis and apply the [singular value decomposition](http://en.wikipedia.org/wiki/Singular_value_decomposition) (SVD) to a gene expression data matrix to determine if the the date that the gene expression samples are processed has large effect on the variability seen in the data.  \n",
      "\n",
      "**Second**: You will use the polls from the 2012 Presidential Elections to determine (1) Is there a pollster bias in presidential election polls? and (2) Is the average of polls better than just one poll?\n",
      "\n",
      "**Finally**: You will use the [HuffPost Pollster API](http://elections.huffingtonpost.com/pollster/api) to extract the polls for the current 2014 Senate Midterm Elections and provide a preliminary prediction of the result of each state.\n",
      "\n",
      "#### Data\n",
      "\n",
      "We will use the following data sets: \n",
      "\n",
      "1. A gene expression data set called `exprs_GSE5859.csv` and sample annotation table called `sampleinfo_GSE5859.csv` which are both available on Github in the 2014_data repository: [expression data set](https://github.com/cs109/2014_data/blob/master/exprs_GSE5859.csv) and [sample annotation table](https://github.com/cs109/2014_data/blob/master/sampleinfo_GSE5859.csv).  \n",
      "\n",
      "2. Polls from the [2012 Presidential Election: Barack Obama vs Mitt Romney](http://elections.huffingtonpost.com/pollster/2012-general-election-romney-vs-obama). The polls we will use are from the [Huffington Post Pollster](http://elections.huffingtonpost.com/pollster).  \n",
      "\n",
      "3. Polls from the [2014 Senate Midterm Elections](http://elections.huffingtonpost.com/pollster) from the [HuffPost Pollster API](http://elections.huffingtonpost.com/pollster/api). \n",
      "\n",
      "---"
     ]
    },
    {
     "cell_type": "markdown",
     "metadata": {},
     "source": [
      "## Load Python modules"
     ]
    },
    {
     "cell_type": "code",
     "collapsed": false,
     "input": [
      "# special IPython command to prepare the notebook for matplotlib\n",
      "%matplotlib inline \n",
      "\n",
      "import requests \n",
      "from StringIO import StringIO\n",
      "import numpy as np\n",
      "import pandas as pd # pandas\n",
      "import matplotlib.pyplot as plt # module for plotting \n",
      "import datetime as dt # module for manipulating dates and times\n",
      "import numpy.linalg as lin # module for performing linear algebra operations\n",
      "\n",
      "\n",
      "#nice defaults for matplotlib\n",
      "from matplotlib import rcParams\n",
      "\n",
      "dark2_colors = [(0.10588235294117647, 0.6196078431372549, 0.4666666666666667),\n",
      "                (0.8509803921568627, 0.37254901960784315, 0.00784313725490196),\n",
      "                (0.4588235294117647, 0.4392156862745098, 0.7019607843137254),\n",
      "                (0.9058823529411765, 0.1607843137254902, 0.5411764705882353),\n",
      "                (0.4, 0.6509803921568628, 0.11764705882352941),\n",
      "                (0.9019607843137255, 0.6705882352941176, 0.00784313725490196),\n",
      "                (0.6509803921568628, 0.4627450980392157, 0.11372549019607843),\n",
      "                (0.4, 0.4, 0.4)]\n",
      "\n",
      "rcParams['figure.figsize'] = (10, 6)\n",
      "rcParams['figure.dpi'] = 150\n",
      "rcParams['axes.color_cycle'] = dark2_colors\n",
      "rcParams['lines.linewidth'] = 2\n",
      "rcParams['axes.grid'] = True\n",
      "rcParams['axes.facecolor'] = '#eeeeee'\n",
      "rcParams['font.size'] = 14\n",
      "rcParams['patch.edgecolor'] = 'none'"
     ],
     "language": "python",
     "metadata": {},
     "outputs": [],
     "prompt_number": 271
    },
    {
     "cell_type": "markdown",
     "metadata": {},
     "source": [
      "## Problem 1\n",
      "\n",
      "In this problem we will be using a [gene expression](http://en.wikipedia.org/wiki/Gene_expression) data set obtained from a [microarray](http://en.wikipedia.org/wiki/DNA_microarray) experiement [Read more about the specific experiment here](http://www.ncbi.nlm.nih.gov/geo/query/acc.cgi?acc=GSE5859).  There are two data sets we will use:  \n",
      "\n",
      "1. The gene expression intensities where the rows represent the features on the microarray (e.g. genes) and the columsns represent the different microarray samples.  \n",
      "\n",
      "2. A table that contains the information about each of the samples (columns in the gene expression data set) such as the sex, the age, the treatment status, the date the samples were processed.  Each row represents one sample. "
     ]
    },
    {
     "cell_type": "markdown",
     "metadata": {},
     "source": [
      "#### Problem 1(a) \n",
      "Read in the two files from Github: [exprs_GSE5859.csv](https://github.com/cs109/2014_data/blob/master/exprs_GSE5859.csv) and [sampleinfo_GSE5859.csv](https://github.com/cs109/2014_data/blob/master/sampleinfo_GSE5859.csv) as pandas DataFrames called `exprs` and `sampleinfo`. Use the gene names as the index of the `exprs` DataFrame."
     ]
    },
    {
     "cell_type": "code",
     "collapsed": false,
     "input": [
      "sampleinfo = pd.read_csv(\"https://raw.githubusercontent.com/cs109/2014_data/master/sampleinfo_GSE5859.csv\")\n",
      "exprs = pd.read_csv(\"https://raw.githubusercontent.com/cs109/2014_data/master/exprs_GSE5859.csv\")\n",
      "\n",
      "new_columns = exprs.columns.tolist()\n",
      "new_columns[0] = 'Gene'\n",
      "exprs.columns = new_columns\n",
      "exprs = exprs.set_index('Gene')"
     ],
     "language": "python",
     "metadata": {},
     "outputs": [],
     "prompt_number": 120
    },
    {
     "cell_type": "markdown",
     "metadata": {},
     "source": [
      "Make sure the order of the columns in the gene expression DataFrame match the order of file names in the sample annotation DataFrame. If the order of the columns the `exprs` DataFrame do not match the order of the file names in the `sampleinfo` DataFrame, reorder the columns in the `exprs` DataFrame. \n",
      "\n",
      "**Note**: The column names of the gene expression DataFrame are the filenames of the orignal files from which these data were obtained.  \n",
      "\n",
      "**Hint**: The method `list.index(x)` [[read here](https://docs.python.org/2/tutorial/datastructures.html)] can be used to return the index in the list of the first item whose value is x. It is an error if there is no such item. To check if the order of the columns in `exprs` matches the order of the rows in `sampleinfo`, you can check using the method `.all()` on a Boolean or list of Booleans: \n",
      "\n",
      "Example code: `(exprs.columns == sampleinfo.filename).all()`"
     ]
    },
    {
     "cell_type": "code",
     "collapsed": false,
     "input": [
      "# reorder the exprs columns to match sampleinfo.filename\n",
      "exprs.columns = sampleinfo.filename.tolist()"
     ],
     "language": "python",
     "metadata": {},
     "outputs": [],
     "prompt_number": 121
    },
    {
     "cell_type": "markdown",
     "metadata": {},
     "source": [
      "Show the head of the two tables: `exprs` and `sampleinfo`. "
     ]
    },
    {
     "cell_type": "code",
     "collapsed": false,
     "input": [
      "exprs.head()"
     ],
     "language": "python",
     "metadata": {},
     "outputs": [
      {
       "html": [
        "<div style=\"max-height:1000px;max-width:1500px;overflow:auto;\">\n",
        "<table border=\"1\" class=\"dataframe\">\n",
        "  <thead>\n",
        "    <tr style=\"text-align: right;\">\n",
        "      <th></th>\n",
        "      <th>GSM25349.CEL.gz</th>\n",
        "      <th>GSM25350.CEL.gz</th>\n",
        "      <th>GSM25356.CEL.gz</th>\n",
        "      <th>GSM25357.CEL.gz</th>\n",
        "      <th>GSM25358.CEL.gz</th>\n",
        "      <th>GSM25359.CEL.gz</th>\n",
        "      <th>GSM25360.CEL.gz</th>\n",
        "      <th>GSM25361.CEL.gz</th>\n",
        "      <th>GSM25377.CEL.gz</th>\n",
        "      <th>GSM25378.CEL.gz</th>\n",
        "      <th>GSM25385.CEL.gz</th>\n",
        "      <th>GSM25386.CEL.gz</th>\n",
        "      <th>GSM25399.CEL.gz</th>\n",
        "      <th>GSM25400.CEL.gz</th>\n",
        "      <th>GSM25401.CEL.gz</th>\n",
        "      <th>GSM25402.CEL.gz</th>\n",
        "      <th>GSM25409.CEL.gz</th>\n",
        "      <th>GSM25410.CEL.gz</th>\n",
        "      <th>GSM25426.CEL.gz</th>\n",
        "      <th>GSM25427.CEL.gz</th>\n",
        "      <th></th>\n",
        "    </tr>\n",
        "    <tr>\n",
        "      <th>Gene</th>\n",
        "      <th></th>\n",
        "      <th></th>\n",
        "      <th></th>\n",
        "      <th></th>\n",
        "      <th></th>\n",
        "      <th></th>\n",
        "      <th></th>\n",
        "      <th></th>\n",
        "      <th></th>\n",
        "      <th></th>\n",
        "      <th></th>\n",
        "      <th></th>\n",
        "      <th></th>\n",
        "      <th></th>\n",
        "      <th></th>\n",
        "      <th></th>\n",
        "      <th></th>\n",
        "      <th></th>\n",
        "      <th></th>\n",
        "      <th></th>\n",
        "    </tr>\n",
        "  </thead>\n",
        "  <tbody>\n",
        "    <tr>\n",
        "      <th>1007_s_at</th>\n",
        "      <td> 6.333951</td>\n",
        "      <td> 5.736190</td>\n",
        "      <td> 6.156754</td>\n",
        "      <td> 6.513010</td>\n",
        "      <td> 6.061013</td>\n",
        "      <td> 6.506493</td>\n",
        "      <td> 6.863426</td>\n",
        "      <td> 6.369645</td>\n",
        "      <td> 6.646321</td>\n",
        "      <td> 5.810930</td>\n",
        "      <td> 6.364868</td>\n",
        "      <td> 6.486811</td>\n",
        "      <td> 6.398854</td>\n",
        "      <td> 6.518133</td>\n",
        "      <td> 6.639091</td>\n",
        "      <td> 5.981000</td>\n",
        "      <td> 6.782794</td>\n",
        "      <td> 6.452495</td>\n",
        "      <td> 6.028523</td>\n",
        "      <td> 6.403664</td>\n",
        "      <td>...</td>\n",
        "    </tr>\n",
        "    <tr>\n",
        "      <th>1053_at</th>\n",
        "      <td> 7.255622</td>\n",
        "      <td> 7.399993</td>\n",
        "      <td> 7.491967</td>\n",
        "      <td> 7.006123</td>\n",
        "      <td> 7.250995</td>\n",
        "      <td> 7.082581</td>\n",
        "      <td> 6.842236</td>\n",
        "      <td> 7.048487</td>\n",
        "      <td> 7.042361</td>\n",
        "      <td> 6.666625</td>\n",
        "      <td> 7.462191</td>\n",
        "      <td> 6.371948</td>\n",
        "      <td> 7.490546</td>\n",
        "      <td> 7.260461</td>\n",
        "      <td> 7.028731</td>\n",
        "      <td> 7.120923</td>\n",
        "      <td> 6.853129</td>\n",
        "      <td> 7.211626</td>\n",
        "      <td> 7.513955</td>\n",
        "      <td> 6.969475</td>\n",
        "      <td>...</td>\n",
        "    </tr>\n",
        "    <tr>\n",
        "      <th>117_at</th>\n",
        "      <td> 5.760106</td>\n",
        "      <td> 4.825169</td>\n",
        "      <td> 5.039387</td>\n",
        "      <td> 5.414160</td>\n",
        "      <td> 5.205697</td>\n",
        "      <td> 5.300078</td>\n",
        "      <td> 5.099337</td>\n",
        "      <td> 5.156459</td>\n",
        "      <td> 5.736109</td>\n",
        "      <td> 5.807496</td>\n",
        "      <td> 5.147773</td>\n",
        "      <td> 5.829625</td>\n",
        "      <td> 5.158053</td>\n",
        "      <td> 5.336988</td>\n",
        "      <td> 5.361298</td>\n",
        "      <td> 5.275577</td>\n",
        "      <td> 5.252160</td>\n",
        "      <td> 5.092673</td>\n",
        "      <td> 5.592048</td>\n",
        "      <td> 5.641260</td>\n",
        "      <td>...</td>\n",
        "    </tr>\n",
        "    <tr>\n",
        "      <th>121_at</th>\n",
        "      <td> 6.935451</td>\n",
        "      <td> 7.025210</td>\n",
        "      <td> 7.543667</td>\n",
        "      <td> 7.959781</td>\n",
        "      <td> 7.223323</td>\n",
        "      <td> 8.006816</td>\n",
        "      <td> 8.102504</td>\n",
        "      <td> 7.434617</td>\n",
        "      <td> 7.532321</td>\n",
        "      <td> 7.711461</td>\n",
        "      <td> 7.384572</td>\n",
        "      <td> 7.420333</td>\n",
        "      <td> 7.479774</td>\n",
        "      <td> 7.734789</td>\n",
        "      <td> 7.798197</td>\n",
        "      <td> 8.001434</td>\n",
        "      <td> 7.602829</td>\n",
        "      <td> 7.949683</td>\n",
        "      <td> 6.823513</td>\n",
        "      <td> 7.733133</td>\n",
        "      <td>...</td>\n",
        "    </tr>\n",
        "    <tr>\n",
        "      <th>1255_g_at</th>\n",
        "      <td> 3.597872</td>\n",
        "      <td> 3.108801</td>\n",
        "      <td> 3.128269</td>\n",
        "      <td> 3.364947</td>\n",
        "      <td> 3.125909</td>\n",
        "      <td> 3.186834</td>\n",
        "      <td> 3.311022</td>\n",
        "      <td> 3.092042</td>\n",
        "      <td> 3.167737</td>\n",
        "      <td> 2.969579</td>\n",
        "      <td> 3.195315</td>\n",
        "      <td> 3.133047</td>\n",
        "      <td> 3.213749</td>\n",
        "      <td> 3.087389</td>\n",
        "      <td> 3.174794</td>\n",
        "      <td> 3.149710</td>\n",
        "      <td> 3.293123</td>\n",
        "      <td> 3.195980</td>\n",
        "      <td> 2.963134</td>\n",
        "      <td> 3.435481</td>\n",
        "      <td>...</td>\n",
        "    </tr>\n",
        "  </tbody>\n",
        "</table>\n",
        "<p>5 rows \u00d7 208 columns</p>\n",
        "</div>"
       ],
       "metadata": {},
       "output_type": "pyout",
       "prompt_number": 122,
       "text": [
        "           GSM25349.CEL.gz  GSM25350.CEL.gz  GSM25356.CEL.gz  GSM25357.CEL.gz  \\\n",
        "Gene                                                                            \n",
        "1007_s_at         6.333951         5.736190         6.156754         6.513010   \n",
        "1053_at           7.255622         7.399993         7.491967         7.006123   \n",
        "117_at            5.760106         4.825169         5.039387         5.414160   \n",
        "121_at            6.935451         7.025210         7.543667         7.959781   \n",
        "1255_g_at         3.597872         3.108801         3.128269         3.364947   \n",
        "\n",
        "           GSM25358.CEL.gz  GSM25359.CEL.gz  GSM25360.CEL.gz  GSM25361.CEL.gz  \\\n",
        "Gene                                                                            \n",
        "1007_s_at         6.061013         6.506493         6.863426         6.369645   \n",
        "1053_at           7.250995         7.082581         6.842236         7.048487   \n",
        "117_at            5.205697         5.300078         5.099337         5.156459   \n",
        "121_at            7.223323         8.006816         8.102504         7.434617   \n",
        "1255_g_at         3.125909         3.186834         3.311022         3.092042   \n",
        "\n",
        "           GSM25377.CEL.gz  GSM25378.CEL.gz  GSM25385.CEL.gz  GSM25386.CEL.gz  \\\n",
        "Gene                                                                            \n",
        "1007_s_at         6.646321         5.810930         6.364868         6.486811   \n",
        "1053_at           7.042361         6.666625         7.462191         6.371948   \n",
        "117_at            5.736109         5.807496         5.147773         5.829625   \n",
        "121_at            7.532321         7.711461         7.384572         7.420333   \n",
        "1255_g_at         3.167737         2.969579         3.195315         3.133047   \n",
        "\n",
        "           GSM25399.CEL.gz  GSM25400.CEL.gz  GSM25401.CEL.gz  GSM25402.CEL.gz  \\\n",
        "Gene                                                                            \n",
        "1007_s_at         6.398854         6.518133         6.639091         5.981000   \n",
        "1053_at           7.490546         7.260461         7.028731         7.120923   \n",
        "117_at            5.158053         5.336988         5.361298         5.275577   \n",
        "121_at            7.479774         7.734789         7.798197         8.001434   \n",
        "1255_g_at         3.213749         3.087389         3.174794         3.149710   \n",
        "\n",
        "           GSM25409.CEL.gz  GSM25410.CEL.gz  GSM25426.CEL.gz  GSM25427.CEL.gz  \\\n",
        "Gene                                                                            \n",
        "1007_s_at         6.782794         6.452495         6.028523         6.403664   \n",
        "1053_at           6.853129         7.211626         7.513955         6.969475   \n",
        "117_at            5.252160         5.092673         5.592048         5.641260   \n",
        "121_at            7.602829         7.949683         6.823513         7.733133   \n",
        "1255_g_at         3.293123         3.195980         2.963134         3.435481   \n",
        "\n",
        "               \n",
        "Gene           \n",
        "1007_s_at ...  \n",
        "1053_at   ...  \n",
        "117_at    ...  \n",
        "121_at    ...  \n",
        "1255_g_at ...  \n",
        "\n",
        "[5 rows x 208 columns]"
       ]
      }
     ],
     "prompt_number": 122
    },
    {
     "cell_type": "code",
     "collapsed": false,
     "input": [
      "sampleinfo.head()"
     ],
     "language": "python",
     "metadata": {},
     "outputs": [
      {
       "html": [
        "<div style=\"max-height:1000px;max-width:1500px;overflow:auto;\">\n",
        "<table border=\"1\" class=\"dataframe\">\n",
        "  <thead>\n",
        "    <tr style=\"text-align: right;\">\n",
        "      <th></th>\n",
        "      <th>ethnicity</th>\n",
        "      <th>date</th>\n",
        "      <th>filename</th>\n",
        "      <th>sex</th>\n",
        "    </tr>\n",
        "  </thead>\n",
        "  <tbody>\n",
        "    <tr>\n",
        "      <th>0</th>\n",
        "      <td> CEU</td>\n",
        "      <td> 2003-02-04</td>\n",
        "      <td> GSM25349.CEL.gz</td>\n",
        "      <td> M</td>\n",
        "    </tr>\n",
        "    <tr>\n",
        "      <th>1</th>\n",
        "      <td> CEU</td>\n",
        "      <td> 2003-02-04</td>\n",
        "      <td> GSM25350.CEL.gz</td>\n",
        "      <td> M</td>\n",
        "    </tr>\n",
        "    <tr>\n",
        "      <th>2</th>\n",
        "      <td> CEU</td>\n",
        "      <td> 2002-12-17</td>\n",
        "      <td> GSM25356.CEL.gz</td>\n",
        "      <td> M</td>\n",
        "    </tr>\n",
        "    <tr>\n",
        "      <th>3</th>\n",
        "      <td> CEU</td>\n",
        "      <td> 2003-01-30</td>\n",
        "      <td> GSM25357.CEL.gz</td>\n",
        "      <td> M</td>\n",
        "    </tr>\n",
        "    <tr>\n",
        "      <th>4</th>\n",
        "      <td> CEU</td>\n",
        "      <td> 2003-01-03</td>\n",
        "      <td> GSM25358.CEL.gz</td>\n",
        "      <td> M</td>\n",
        "    </tr>\n",
        "  </tbody>\n",
        "</table>\n",
        "<p>5 rows \u00d7 4 columns</p>\n",
        "</div>"
       ],
       "metadata": {},
       "output_type": "pyout",
       "prompt_number": 123,
       "text": [
        "  ethnicity        date         filename sex\n",
        "0       CEU  2003-02-04  GSM25349.CEL.gz   M\n",
        "1       CEU  2003-02-04  GSM25350.CEL.gz   M\n",
        "2       CEU  2002-12-17  GSM25356.CEL.gz   M\n",
        "3       CEU  2003-01-30  GSM25357.CEL.gz   M\n",
        "4       CEU  2003-01-03  GSM25358.CEL.gz   M\n",
        "\n",
        "[5 rows x 4 columns]"
       ]
      }
     ],
     "prompt_number": 123
    },
    {
     "cell_type": "markdown",
     "metadata": {},
     "source": [
      "#### Problem 1(b)\n",
      "\n",
      "Extract the year and month as integers from the `sampleinfo` table. \n",
      "\n",
      "**Hint**: To convert a Series or a column of a pandas DataFrame that contains a date-like object, you can use the `to_datetime` function [[read here](http://pandas.pydata.org/pandas-docs/stable/timeseries.html)].  This will create a `DatetimeIndex` which can be used to extract the month and year for each row in the DataFrame. "
     ]
    },
    {
     "cell_type": "code",
     "collapsed": false,
     "input": [
      "datetimes = pd.to_datetime(sampleinfo.date)\n",
      "sampleinfo['year'] = pd.Series([i.year for i in datetimes], index=sampleinfo.index)\n",
      "sampleinfo['month'] = pd.Series([i.month for i in datetimes], index=sampleinfo.index)"
     ],
     "language": "python",
     "metadata": {},
     "outputs": [],
     "prompt_number": 124
    },
    {
     "cell_type": "markdown",
     "metadata": {},
     "source": [
      "#### Problem 1(c)\n",
      "\n",
      "Convert the dates in the `date` column from the `sampleinfo` table into days since October 31, 2002. Add a column to the `sampleinfo` DataFrame titled `elapsedInDays` containing the days since October 31, 2002.  Show the head of the `sampleinfo` DataFrame which includes the new column.  \n",
      "\n",
      "**Hint**: Use the `datetime` module to create a new `datetime` object for the specific date October 31, 2002. Then, subtract the October 31, 2002 date from each date from the `date` column in the `sampleinfo` DataFrame. "
     ]
    },
    {
     "cell_type": "code",
     "collapsed": false,
     "input": [
      "october31 = dt.datetime(2002, 10, 31)\n",
      "sampleinfo['elapsedInDays'] = pd.Series([(i - october31).days for i in datetimes], index=sampleinfo.index)\n",
      "sampleinfo.head()"
     ],
     "language": "python",
     "metadata": {},
     "outputs": [
      {
       "html": [
        "<div style=\"max-height:1000px;max-width:1500px;overflow:auto;\">\n",
        "<table border=\"1\" class=\"dataframe\">\n",
        "  <thead>\n",
        "    <tr style=\"text-align: right;\">\n",
        "      <th></th>\n",
        "      <th>ethnicity</th>\n",
        "      <th>date</th>\n",
        "      <th>filename</th>\n",
        "      <th>sex</th>\n",
        "      <th>year</th>\n",
        "      <th>month</th>\n",
        "      <th>elapsedInDays</th>\n",
        "    </tr>\n",
        "  </thead>\n",
        "  <tbody>\n",
        "    <tr>\n",
        "      <th>0</th>\n",
        "      <td> CEU</td>\n",
        "      <td> 2003-02-04</td>\n",
        "      <td> GSM25349.CEL.gz</td>\n",
        "      <td> M</td>\n",
        "      <td> 2003</td>\n",
        "      <td>  2</td>\n",
        "      <td> 96</td>\n",
        "    </tr>\n",
        "    <tr>\n",
        "      <th>1</th>\n",
        "      <td> CEU</td>\n",
        "      <td> 2003-02-04</td>\n",
        "      <td> GSM25350.CEL.gz</td>\n",
        "      <td> M</td>\n",
        "      <td> 2003</td>\n",
        "      <td>  2</td>\n",
        "      <td> 96</td>\n",
        "    </tr>\n",
        "    <tr>\n",
        "      <th>2</th>\n",
        "      <td> CEU</td>\n",
        "      <td> 2002-12-17</td>\n",
        "      <td> GSM25356.CEL.gz</td>\n",
        "      <td> M</td>\n",
        "      <td> 2002</td>\n",
        "      <td> 12</td>\n",
        "      <td> 47</td>\n",
        "    </tr>\n",
        "    <tr>\n",
        "      <th>3</th>\n",
        "      <td> CEU</td>\n",
        "      <td> 2003-01-30</td>\n",
        "      <td> GSM25357.CEL.gz</td>\n",
        "      <td> M</td>\n",
        "      <td> 2003</td>\n",
        "      <td>  1</td>\n",
        "      <td> 91</td>\n",
        "    </tr>\n",
        "    <tr>\n",
        "      <th>4</th>\n",
        "      <td> CEU</td>\n",
        "      <td> 2003-01-03</td>\n",
        "      <td> GSM25358.CEL.gz</td>\n",
        "      <td> M</td>\n",
        "      <td> 2003</td>\n",
        "      <td>  1</td>\n",
        "      <td> 64</td>\n",
        "    </tr>\n",
        "  </tbody>\n",
        "</table>\n",
        "<p>5 rows \u00d7 7 columns</p>\n",
        "</div>"
       ],
       "metadata": {},
       "output_type": "pyout",
       "prompt_number": 125,
       "text": [
        "  ethnicity        date         filename sex  year  month  elapsedInDays\n",
        "0       CEU  2003-02-04  GSM25349.CEL.gz   M  2003      2             96\n",
        "1       CEU  2003-02-04  GSM25350.CEL.gz   M  2003      2             96\n",
        "2       CEU  2002-12-17  GSM25356.CEL.gz   M  2002     12             47\n",
        "3       CEU  2003-01-30  GSM25357.CEL.gz   M  2003      1             91\n",
        "4       CEU  2003-01-03  GSM25358.CEL.gz   M  2003      1             64\n",
        "\n",
        "[5 rows x 7 columns]"
       ]
      }
     ],
     "prompt_number": 125
    },
    {
     "cell_type": "markdown",
     "metadata": {},
     "source": [
      "#### Problem 1(d)\n",
      "\n",
      "Use exploratory analysis and the singular value decomposition (SVD) of the gene expression data matrix to determine if the date the samples were processed has large effect on the variability seen in the data or if it is just ethnicity (which is confounded with date). \n",
      "\n",
      "**Hint**: See the end of the [lecture from 9/23/2014 for help with SVD](http://nbviewer.ipython.org/github/cs109/2014/blob/master/lectures/lecture07/data_scraping_transcript.ipynb). \n",
      "\n",
      "First subset the the `sampleinfo` DataFrame to include only the CEU ethnicity.  Call this new subsetted DataFrame `sampleinfoCEU`.  Show the head of `sampleinfoCEU` DataFrame. "
     ]
    },
    {
     "cell_type": "code",
     "collapsed": false,
     "input": [
      "#your code here\n",
      "sampleinfoCEU = sampleinfo[sampleinfo['ethnicity'] == 'CEU']"
     ],
     "language": "python",
     "metadata": {},
     "outputs": [],
     "prompt_number": 126
    },
    {
     "cell_type": "markdown",
     "metadata": {},
     "source": [
      "Next, subset the `exprs` DataFrame to only include the samples with the CEU ethnicity. Name this new subsetted DataFrame `exprsCEU`. Show the head of the `exprsCEU` DataFrame. "
     ]
    },
    {
     "cell_type": "code",
     "collapsed": false,
     "input": [
      "#your code here\n",
      "exprsCEU = exprs.loc[:, sampleinfoCEU.filename.tolist()]\n",
      "exprsCEU.head()"
     ],
     "language": "python",
     "metadata": {},
     "outputs": [
      {
       "html": [
        "<div style=\"max-height:1000px;max-width:1500px;overflow:auto;\">\n",
        "<table border=\"1\" class=\"dataframe\">\n",
        "  <thead>\n",
        "    <tr style=\"text-align: right;\">\n",
        "      <th></th>\n",
        "      <th>GSM25349.CEL.gz</th>\n",
        "      <th>GSM25350.CEL.gz</th>\n",
        "      <th>GSM25356.CEL.gz</th>\n",
        "      <th>GSM25357.CEL.gz</th>\n",
        "      <th>GSM25358.CEL.gz</th>\n",
        "      <th>GSM25359.CEL.gz</th>\n",
        "      <th>GSM25360.CEL.gz</th>\n",
        "      <th>GSM25361.CEL.gz</th>\n",
        "      <th>GSM25377.CEL.gz</th>\n",
        "      <th>GSM25378.CEL.gz</th>\n",
        "      <th>GSM25385.CEL.gz</th>\n",
        "      <th>GSM25386.CEL.gz</th>\n",
        "      <th>GSM25399.CEL.gz</th>\n",
        "      <th>GSM25400.CEL.gz</th>\n",
        "      <th>GSM25401.CEL.gz</th>\n",
        "      <th>GSM25402.CEL.gz</th>\n",
        "      <th>GSM25409.CEL.gz</th>\n",
        "      <th>GSM25410.CEL.gz</th>\n",
        "      <th>GSM25426.CEL.gz</th>\n",
        "      <th>GSM25427.CEL.gz</th>\n",
        "      <th></th>\n",
        "    </tr>\n",
        "    <tr>\n",
        "      <th>Gene</th>\n",
        "      <th></th>\n",
        "      <th></th>\n",
        "      <th></th>\n",
        "      <th></th>\n",
        "      <th></th>\n",
        "      <th></th>\n",
        "      <th></th>\n",
        "      <th></th>\n",
        "      <th></th>\n",
        "      <th></th>\n",
        "      <th></th>\n",
        "      <th></th>\n",
        "      <th></th>\n",
        "      <th></th>\n",
        "      <th></th>\n",
        "      <th></th>\n",
        "      <th></th>\n",
        "      <th></th>\n",
        "      <th></th>\n",
        "      <th></th>\n",
        "    </tr>\n",
        "  </thead>\n",
        "  <tbody>\n",
        "    <tr>\n",
        "      <th>1007_s_at</th>\n",
        "      <td> 6.333951</td>\n",
        "      <td> 5.736190</td>\n",
        "      <td> 6.156754</td>\n",
        "      <td> 6.513010</td>\n",
        "      <td> 6.061013</td>\n",
        "      <td> 6.506493</td>\n",
        "      <td> 6.863426</td>\n",
        "      <td> 6.369645</td>\n",
        "      <td> 6.646321</td>\n",
        "      <td> 5.810930</td>\n",
        "      <td> 6.364868</td>\n",
        "      <td> 6.486811</td>\n",
        "      <td> 6.398854</td>\n",
        "      <td> 6.518133</td>\n",
        "      <td> 6.639091</td>\n",
        "      <td> 5.981000</td>\n",
        "      <td> 6.782794</td>\n",
        "      <td> 6.452495</td>\n",
        "      <td> 6.028523</td>\n",
        "      <td> 6.403664</td>\n",
        "      <td>...</td>\n",
        "    </tr>\n",
        "    <tr>\n",
        "      <th>1053_at</th>\n",
        "      <td> 7.255622</td>\n",
        "      <td> 7.399993</td>\n",
        "      <td> 7.491967</td>\n",
        "      <td> 7.006123</td>\n",
        "      <td> 7.250995</td>\n",
        "      <td> 7.082581</td>\n",
        "      <td> 6.842236</td>\n",
        "      <td> 7.048487</td>\n",
        "      <td> 7.042361</td>\n",
        "      <td> 6.666625</td>\n",
        "      <td> 7.462191</td>\n",
        "      <td> 6.371948</td>\n",
        "      <td> 7.490546</td>\n",
        "      <td> 7.260461</td>\n",
        "      <td> 7.028731</td>\n",
        "      <td> 7.120923</td>\n",
        "      <td> 6.853129</td>\n",
        "      <td> 7.211626</td>\n",
        "      <td> 7.513955</td>\n",
        "      <td> 6.969475</td>\n",
        "      <td>...</td>\n",
        "    </tr>\n",
        "    <tr>\n",
        "      <th>117_at</th>\n",
        "      <td> 5.760106</td>\n",
        "      <td> 4.825169</td>\n",
        "      <td> 5.039387</td>\n",
        "      <td> 5.414160</td>\n",
        "      <td> 5.205697</td>\n",
        "      <td> 5.300078</td>\n",
        "      <td> 5.099337</td>\n",
        "      <td> 5.156459</td>\n",
        "      <td> 5.736109</td>\n",
        "      <td> 5.807496</td>\n",
        "      <td> 5.147773</td>\n",
        "      <td> 5.829625</td>\n",
        "      <td> 5.158053</td>\n",
        "      <td> 5.336988</td>\n",
        "      <td> 5.361298</td>\n",
        "      <td> 5.275577</td>\n",
        "      <td> 5.252160</td>\n",
        "      <td> 5.092673</td>\n",
        "      <td> 5.592048</td>\n",
        "      <td> 5.641260</td>\n",
        "      <td>...</td>\n",
        "    </tr>\n",
        "    <tr>\n",
        "      <th>121_at</th>\n",
        "      <td> 6.935451</td>\n",
        "      <td> 7.025210</td>\n",
        "      <td> 7.543667</td>\n",
        "      <td> 7.959781</td>\n",
        "      <td> 7.223323</td>\n",
        "      <td> 8.006816</td>\n",
        "      <td> 8.102504</td>\n",
        "      <td> 7.434617</td>\n",
        "      <td> 7.532321</td>\n",
        "      <td> 7.711461</td>\n",
        "      <td> 7.384572</td>\n",
        "      <td> 7.420333</td>\n",
        "      <td> 7.479774</td>\n",
        "      <td> 7.734789</td>\n",
        "      <td> 7.798197</td>\n",
        "      <td> 8.001434</td>\n",
        "      <td> 7.602829</td>\n",
        "      <td> 7.949683</td>\n",
        "      <td> 6.823513</td>\n",
        "      <td> 7.733133</td>\n",
        "      <td>...</td>\n",
        "    </tr>\n",
        "    <tr>\n",
        "      <th>1255_g_at</th>\n",
        "      <td> 3.597872</td>\n",
        "      <td> 3.108801</td>\n",
        "      <td> 3.128269</td>\n",
        "      <td> 3.364947</td>\n",
        "      <td> 3.125909</td>\n",
        "      <td> 3.186834</td>\n",
        "      <td> 3.311022</td>\n",
        "      <td> 3.092042</td>\n",
        "      <td> 3.167737</td>\n",
        "      <td> 2.969579</td>\n",
        "      <td> 3.195315</td>\n",
        "      <td> 3.133047</td>\n",
        "      <td> 3.213749</td>\n",
        "      <td> 3.087389</td>\n",
        "      <td> 3.174794</td>\n",
        "      <td> 3.149710</td>\n",
        "      <td> 3.293123</td>\n",
        "      <td> 3.195980</td>\n",
        "      <td> 2.963134</td>\n",
        "      <td> 3.435481</td>\n",
        "      <td>...</td>\n",
        "    </tr>\n",
        "  </tbody>\n",
        "</table>\n",
        "<p>5 rows \u00d7 102 columns</p>\n",
        "</div>"
       ],
       "metadata": {},
       "output_type": "pyout",
       "prompt_number": 127,
       "text": [
        "           GSM25349.CEL.gz  GSM25350.CEL.gz  GSM25356.CEL.gz  GSM25357.CEL.gz  \\\n",
        "Gene                                                                            \n",
        "1007_s_at         6.333951         5.736190         6.156754         6.513010   \n",
        "1053_at           7.255622         7.399993         7.491967         7.006123   \n",
        "117_at            5.760106         4.825169         5.039387         5.414160   \n",
        "121_at            6.935451         7.025210         7.543667         7.959781   \n",
        "1255_g_at         3.597872         3.108801         3.128269         3.364947   \n",
        "\n",
        "           GSM25358.CEL.gz  GSM25359.CEL.gz  GSM25360.CEL.gz  GSM25361.CEL.gz  \\\n",
        "Gene                                                                            \n",
        "1007_s_at         6.061013         6.506493         6.863426         6.369645   \n",
        "1053_at           7.250995         7.082581         6.842236         7.048487   \n",
        "117_at            5.205697         5.300078         5.099337         5.156459   \n",
        "121_at            7.223323         8.006816         8.102504         7.434617   \n",
        "1255_g_at         3.125909         3.186834         3.311022         3.092042   \n",
        "\n",
        "           GSM25377.CEL.gz  GSM25378.CEL.gz  GSM25385.CEL.gz  GSM25386.CEL.gz  \\\n",
        "Gene                                                                            \n",
        "1007_s_at         6.646321         5.810930         6.364868         6.486811   \n",
        "1053_at           7.042361         6.666625         7.462191         6.371948   \n",
        "117_at            5.736109         5.807496         5.147773         5.829625   \n",
        "121_at            7.532321         7.711461         7.384572         7.420333   \n",
        "1255_g_at         3.167737         2.969579         3.195315         3.133047   \n",
        "\n",
        "           GSM25399.CEL.gz  GSM25400.CEL.gz  GSM25401.CEL.gz  GSM25402.CEL.gz  \\\n",
        "Gene                                                                            \n",
        "1007_s_at         6.398854         6.518133         6.639091         5.981000   \n",
        "1053_at           7.490546         7.260461         7.028731         7.120923   \n",
        "117_at            5.158053         5.336988         5.361298         5.275577   \n",
        "121_at            7.479774         7.734789         7.798197         8.001434   \n",
        "1255_g_at         3.213749         3.087389         3.174794         3.149710   \n",
        "\n",
        "           GSM25409.CEL.gz  GSM25410.CEL.gz  GSM25426.CEL.gz  GSM25427.CEL.gz  \\\n",
        "Gene                                                                            \n",
        "1007_s_at         6.782794         6.452495         6.028523         6.403664   \n",
        "1053_at           6.853129         7.211626         7.513955         6.969475   \n",
        "117_at            5.252160         5.092673         5.592048         5.641260   \n",
        "121_at            7.602829         7.949683         6.823513         7.733133   \n",
        "1255_g_at         3.293123         3.195980         2.963134         3.435481   \n",
        "\n",
        "               \n",
        "Gene           \n",
        "1007_s_at ...  \n",
        "1053_at   ...  \n",
        "117_at    ...  \n",
        "121_at    ...  \n",
        "1255_g_at ...  \n",
        "\n",
        "[5 rows x 102 columns]"
       ]
      }
     ],
     "prompt_number": 127
    },
    {
     "cell_type": "markdown",
     "metadata": {},
     "source": [
      "Check to make sure the order of the columns in the `exprsCEU` DataFrame matches the rows in the `sampleinfoCEU` DataFrame.  "
     ]
    },
    {
     "cell_type": "code",
     "collapsed": false,
     "input": [
      "#your code here\n",
      "(exprsCEU.columns == sampleinfoCEU.filename).all()"
     ],
     "language": "python",
     "metadata": {},
     "outputs": [
      {
       "metadata": {},
       "output_type": "pyout",
       "prompt_number": 128,
       "text": [
        "True"
       ]
      }
     ],
     "prompt_number": 128
    },
    {
     "cell_type": "markdown",
     "metadata": {},
     "source": [
      "Compute the average gene expression intensity in the `exprsCEU` DataFrame across all the samples. For each sample in the `exprsCEU` DataFrame, subtract the average gene expression intensity from each of the samples. Show the head of the mean normalized gene expression data.  "
     ]
    },
    {
     "cell_type": "code",
     "collapsed": false,
     "input": [
      "#your code here\n",
      "mean = exprsCEU.mean(1)\n",
      "exprsCEU_normalized = exprsCEU.subtract(mean, axis=0)\n",
      "exprsCEU_normalized.head()"
     ],
     "language": "python",
     "metadata": {},
     "outputs": [
      {
       "html": [
        "<div style=\"max-height:1000px;max-width:1500px;overflow:auto;\">\n",
        "<table border=\"1\" class=\"dataframe\">\n",
        "  <thead>\n",
        "    <tr style=\"text-align: right;\">\n",
        "      <th></th>\n",
        "      <th>GSM25349.CEL.gz</th>\n",
        "      <th>GSM25350.CEL.gz</th>\n",
        "      <th>GSM25356.CEL.gz</th>\n",
        "      <th>GSM25357.CEL.gz</th>\n",
        "      <th>GSM25358.CEL.gz</th>\n",
        "      <th>GSM25359.CEL.gz</th>\n",
        "      <th>GSM25360.CEL.gz</th>\n",
        "      <th>GSM25361.CEL.gz</th>\n",
        "      <th>GSM25377.CEL.gz</th>\n",
        "      <th>GSM25378.CEL.gz</th>\n",
        "      <th>GSM25385.CEL.gz</th>\n",
        "      <th>GSM25386.CEL.gz</th>\n",
        "      <th>GSM25399.CEL.gz</th>\n",
        "      <th>GSM25400.CEL.gz</th>\n",
        "      <th>GSM25401.CEL.gz</th>\n",
        "      <th>GSM25402.CEL.gz</th>\n",
        "      <th>GSM25409.CEL.gz</th>\n",
        "      <th>GSM25410.CEL.gz</th>\n",
        "      <th>GSM25426.CEL.gz</th>\n",
        "      <th>GSM25427.CEL.gz</th>\n",
        "      <th></th>\n",
        "    </tr>\n",
        "    <tr>\n",
        "      <th>Gene</th>\n",
        "      <th></th>\n",
        "      <th></th>\n",
        "      <th></th>\n",
        "      <th></th>\n",
        "      <th></th>\n",
        "      <th></th>\n",
        "      <th></th>\n",
        "      <th></th>\n",
        "      <th></th>\n",
        "      <th></th>\n",
        "      <th></th>\n",
        "      <th></th>\n",
        "      <th></th>\n",
        "      <th></th>\n",
        "      <th></th>\n",
        "      <th></th>\n",
        "      <th></th>\n",
        "      <th></th>\n",
        "      <th></th>\n",
        "      <th></th>\n",
        "    </tr>\n",
        "  </thead>\n",
        "  <tbody>\n",
        "    <tr>\n",
        "      <th>1007_s_at</th>\n",
        "      <td>-0.024183</td>\n",
        "      <td>-0.621943</td>\n",
        "      <td>-0.201379</td>\n",
        "      <td> 0.154876</td>\n",
        "      <td>-0.297121</td>\n",
        "      <td> 0.148359</td>\n",
        "      <td> 0.505293</td>\n",
        "      <td> 0.011512</td>\n",
        "      <td> 0.288187</td>\n",
        "      <td>-0.547203</td>\n",
        "      <td> 0.006734</td>\n",
        "      <td> 0.128677</td>\n",
        "      <td> 0.040720</td>\n",
        "      <td> 0.159999</td>\n",
        "      <td> 0.280958</td>\n",
        "      <td>-0.377134</td>\n",
        "      <td> 0.424660</td>\n",
        "      <td> 0.094362</td>\n",
        "      <td>-0.329610</td>\n",
        "      <td> 0.045531</td>\n",
        "      <td>...</td>\n",
        "    </tr>\n",
        "    <tr>\n",
        "      <th>1053_at</th>\n",
        "      <td> 0.143529</td>\n",
        "      <td> 0.287900</td>\n",
        "      <td> 0.379875</td>\n",
        "      <td>-0.105970</td>\n",
        "      <td> 0.138903</td>\n",
        "      <td>-0.029512</td>\n",
        "      <td>-0.269857</td>\n",
        "      <td>-0.063605</td>\n",
        "      <td>-0.069732</td>\n",
        "      <td>-0.445468</td>\n",
        "      <td> 0.350098</td>\n",
        "      <td>-0.740145</td>\n",
        "      <td> 0.378454</td>\n",
        "      <td> 0.148369</td>\n",
        "      <td>-0.083361</td>\n",
        "      <td> 0.008830</td>\n",
        "      <td>-0.258963</td>\n",
        "      <td> 0.099533</td>\n",
        "      <td> 0.401863</td>\n",
        "      <td>-0.142618</td>\n",
        "      <td>...</td>\n",
        "    </tr>\n",
        "    <tr>\n",
        "      <th>117_at</th>\n",
        "      <td> 0.318124</td>\n",
        "      <td>-0.616813</td>\n",
        "      <td>-0.402594</td>\n",
        "      <td>-0.027822</td>\n",
        "      <td>-0.236285</td>\n",
        "      <td>-0.141904</td>\n",
        "      <td>-0.342645</td>\n",
        "      <td>-0.285523</td>\n",
        "      <td> 0.294127</td>\n",
        "      <td> 0.365515</td>\n",
        "      <td>-0.294209</td>\n",
        "      <td> 0.387643</td>\n",
        "      <td>-0.283929</td>\n",
        "      <td>-0.104994</td>\n",
        "      <td>-0.080684</td>\n",
        "      <td>-0.166405</td>\n",
        "      <td>-0.189821</td>\n",
        "      <td>-0.349309</td>\n",
        "      <td> 0.150066</td>\n",
        "      <td> 0.199278</td>\n",
        "      <td>...</td>\n",
        "    </tr>\n",
        "    <tr>\n",
        "      <th>121_at</th>\n",
        "      <td>-0.651884</td>\n",
        "      <td>-0.562124</td>\n",
        "      <td>-0.043667</td>\n",
        "      <td> 0.372447</td>\n",
        "      <td>-0.364011</td>\n",
        "      <td> 0.419482</td>\n",
        "      <td> 0.515169</td>\n",
        "      <td>-0.152717</td>\n",
        "      <td>-0.055013</td>\n",
        "      <td> 0.124126</td>\n",
        "      <td>-0.202762</td>\n",
        "      <td>-0.167002</td>\n",
        "      <td>-0.107560</td>\n",
        "      <td> 0.147454</td>\n",
        "      <td> 0.210862</td>\n",
        "      <td> 0.414099</td>\n",
        "      <td> 0.015494</td>\n",
        "      <td> 0.362348</td>\n",
        "      <td>-0.763821</td>\n",
        "      <td> 0.145798</td>\n",
        "      <td>...</td>\n",
        "    </tr>\n",
        "    <tr>\n",
        "      <th>1255_g_at</th>\n",
        "      <td> 0.398042</td>\n",
        "      <td>-0.091029</td>\n",
        "      <td>-0.071561</td>\n",
        "      <td> 0.165118</td>\n",
        "      <td>-0.073921</td>\n",
        "      <td>-0.012995</td>\n",
        "      <td> 0.111192</td>\n",
        "      <td>-0.107788</td>\n",
        "      <td>-0.032093</td>\n",
        "      <td>-0.230251</td>\n",
        "      <td>-0.004515</td>\n",
        "      <td>-0.066782</td>\n",
        "      <td> 0.013920</td>\n",
        "      <td>-0.112440</td>\n",
        "      <td>-0.025036</td>\n",
        "      <td>-0.050120</td>\n",
        "      <td> 0.093293</td>\n",
        "      <td>-0.003850</td>\n",
        "      <td>-0.236696</td>\n",
        "      <td> 0.235652</td>\n",
        "      <td>...</td>\n",
        "    </tr>\n",
        "  </tbody>\n",
        "</table>\n",
        "<p>5 rows \u00d7 102 columns</p>\n",
        "</div>"
       ],
       "metadata": {},
       "output_type": "pyout",
       "prompt_number": 129,
       "text": [
        "           GSM25349.CEL.gz  GSM25350.CEL.gz  GSM25356.CEL.gz  GSM25357.CEL.gz  \\\n",
        "Gene                                                                            \n",
        "1007_s_at        -0.024183        -0.621943        -0.201379         0.154876   \n",
        "1053_at           0.143529         0.287900         0.379875        -0.105970   \n",
        "117_at            0.318124        -0.616813        -0.402594        -0.027822   \n",
        "121_at           -0.651884        -0.562124        -0.043667         0.372447   \n",
        "1255_g_at         0.398042        -0.091029        -0.071561         0.165118   \n",
        "\n",
        "           GSM25358.CEL.gz  GSM25359.CEL.gz  GSM25360.CEL.gz  GSM25361.CEL.gz  \\\n",
        "Gene                                                                            \n",
        "1007_s_at        -0.297121         0.148359         0.505293         0.011512   \n",
        "1053_at           0.138903        -0.029512        -0.269857        -0.063605   \n",
        "117_at           -0.236285        -0.141904        -0.342645        -0.285523   \n",
        "121_at           -0.364011         0.419482         0.515169        -0.152717   \n",
        "1255_g_at        -0.073921        -0.012995         0.111192        -0.107788   \n",
        "\n",
        "           GSM25377.CEL.gz  GSM25378.CEL.gz  GSM25385.CEL.gz  GSM25386.CEL.gz  \\\n",
        "Gene                                                                            \n",
        "1007_s_at         0.288187        -0.547203         0.006734         0.128677   \n",
        "1053_at          -0.069732        -0.445468         0.350098        -0.740145   \n",
        "117_at            0.294127         0.365515        -0.294209         0.387643   \n",
        "121_at           -0.055013         0.124126        -0.202762        -0.167002   \n",
        "1255_g_at        -0.032093        -0.230251        -0.004515        -0.066782   \n",
        "\n",
        "           GSM25399.CEL.gz  GSM25400.CEL.gz  GSM25401.CEL.gz  GSM25402.CEL.gz  \\\n",
        "Gene                                                                            \n",
        "1007_s_at         0.040720         0.159999         0.280958        -0.377134   \n",
        "1053_at           0.378454         0.148369        -0.083361         0.008830   \n",
        "117_at           -0.283929        -0.104994        -0.080684        -0.166405   \n",
        "121_at           -0.107560         0.147454         0.210862         0.414099   \n",
        "1255_g_at         0.013920        -0.112440        -0.025036        -0.050120   \n",
        "\n",
        "           GSM25409.CEL.gz  GSM25410.CEL.gz  GSM25426.CEL.gz  GSM25427.CEL.gz  \\\n",
        "Gene                                                                            \n",
        "1007_s_at         0.424660         0.094362        -0.329610         0.045531   \n",
        "1053_at          -0.258963         0.099533         0.401863        -0.142618   \n",
        "117_at           -0.189821        -0.349309         0.150066         0.199278   \n",
        "121_at            0.015494         0.362348        -0.763821         0.145798   \n",
        "1255_g_at         0.093293        -0.003850        -0.236696         0.235652   \n",
        "\n",
        "               \n",
        "Gene           \n",
        "1007_s_at ...  \n",
        "1053_at   ...  \n",
        "117_at    ...  \n",
        "121_at    ...  \n",
        "1255_g_at ...  \n",
        "\n",
        "[5 rows x 102 columns]"
       ]
      }
     ],
     "prompt_number": 129
    },
    {
     "cell_type": "markdown",
     "metadata": {},
     "source": [
      "Using this mean normalized gene expression data, compute the projection to the first Principal Component (PC1).  \n",
      "\n",
      "**Hint**: Use the `numpy.linalg.svd()` function in the `numpy.linalg` module (or the `scipy.linalg.svd()` function in the `scipy.linalg` module) to apply an [singular value decomposition](http://en.wikipedia.org/wiki/Singular_value_decomposition) to a matrix.  "
     ]
    },
    {
     "cell_type": "code",
     "collapsed": false,
     "input": [
      "#your code here\n",
      "U, s, Vh = np.linalg.svd(exprsCEU_normalized)\n",
      "V = Vh.T\n",
      "PC1 = V[0]"
     ],
     "language": "python",
     "metadata": {},
     "outputs": [],
     "prompt_number": 130
    },
    {
     "cell_type": "markdown",
     "metadata": {},
     "source": [
      "Create a histogram using the values from PC1.  Use a bin size of 25.  "
     ]
    },
    {
     "cell_type": "code",
     "collapsed": false,
     "input": [
      "plt.hist(PC1, bins=25)\n",
      "plt.title('Distribution of PC1')\n",
      "plt.show()"
     ],
     "language": "python",
     "metadata": {},
     "outputs": [
      {
       "metadata": {},
       "output_type": "display_data",
       "png": "[encoded data removed]",
       "text": [
        "<matplotlib.figure.Figure at 0x10d824910>"
       ]
      }
     ],
     "prompt_number": 131
    },
    {
     "cell_type": "markdown",
     "metadata": {},
     "source": [
      "Create a scatter plot with the days since October 31, 2002 on the x-axis and PC1 on the y-axis."
     ]
    },
    {
     "cell_type": "code",
     "collapsed": false,
     "input": [
      "#your code here\n",
      "for xlim in [1000, 200]:\n",
      "    plt.scatter(sampleinfoCEU.elapsedInDays, PC1)\n",
      "    plt.xlim([0,xlim])\n",
      "    plt.xlabel('Days Since 10/1/2002')\n",
      "    plt.ylabel('PC1')\n",
      "    plt.show()"
     ],
     "language": "python",
     "metadata": {},
     "outputs": [
      {
       "metadata": {},
       "output_type": "display_data",
       "png": "[encoded data removed]",
       "text": [
        "<matplotlib.figure.Figure at 0x1079603d0>"
       ]
      },
      {
       "metadata": {},
       "output_type": "display_data",
       "png": "[encoded data removed]",
       "text": [
        "<matplotlib.figure.Figure at 0x108596f50>"
       ]
      }
     ],
     "prompt_number": 132
    },
    {
     "cell_type": "markdown",
     "metadata": {},
     "source": [
      "Around what day do you notice a difference in the way the samples were processed?"
     ]
    },
    {
     "cell_type": "markdown",
     "metadata": {},
     "source": [
      "Answer: The variance increases (spread of data widens) at around 80 days."
     ]
    },
    {
     "cell_type": "markdown",
     "metadata": {},
     "source": [
      "## Discussion for Problem 1\n",
      "\n",
      "*Write a brief discussion of your conclusions to the questions and tasks above in 100 words or less.*\n",
      "\n",
      "---\n",
      "\n",
      "In this problem, we analyzed the variance of gene expression data from many different samples. After normalizing the data and performing singular value decomposition, one can see that the variance (spread) of the data increases significantly at around 80 days since 10/1/2002, before returning roughly to its previous shape."
     ]
    },
    {
     "cell_type": "markdown",
     "metadata": {},
     "source": [
      "## Problem 2: Is there a pollster bias in presidential election polls?"
     ]
    },
    {
     "cell_type": "markdown",
     "metadata": {},
     "source": [
      "#### Problem 2(a)\n",
      "\n",
      "The [HuffPost Pollster](http://elections.huffingtonpost.com/pollster) contains many political polls. You can access these polls from individual races as a CSV but you can also access polls through the [HuffPost Pollster API](http://elections.huffingtonpost.com/pollster/api) to access the data.  \n",
      "\n",
      "Read in the polls from the [2012 Presidential Election: Barack Obama vs Mitt Romney](http://elections.huffingtonpost.com/pollster/2012-general-election-romney-vs-obama) into a pandas DataFrame called `election`. For this problem, you may read in the polls for this race directly using [the CSV file](http://elections.huffingtonpost.com/pollster/2012-general-election-romney-vs-obama.csv) available from the HuffPost Pollster page."
     ]
    },
    {
     "cell_type": "code",
     "collapsed": false,
     "input": [
      "#your code here\n",
      "election = pd.read_csv(\"http://elections.huffingtonpost.com/pollster/2012-general-election-romney-vs-obama.csv\")"
     ],
     "language": "python",
     "metadata": {},
     "outputs": [],
     "prompt_number": 266
    },
    {
     "cell_type": "markdown",
     "metadata": {},
     "source": [
      "Show the head of the `election` DataFrame. "
     ]
    },
    {
     "cell_type": "code",
     "collapsed": false,
     "input": [
      "#your code here\n",
      "election.head()"
     ],
     "language": "python",
     "metadata": {},
     "outputs": [
      {
       "html": [
        "<div style=\"max-height:1000px;max-width:1500px;overflow:auto;\">\n",
        "<table border=\"1\" class=\"dataframe\">\n",
        "  <thead>\n",
        "    <tr style=\"text-align: right;\">\n",
        "      <th></th>\n",
        "      <th>Pollster</th>\n",
        "      <th>Start Date</th>\n",
        "      <th>End Date</th>\n",
        "      <th>Entry Date/Time (ET)</th>\n",
        "      <th>Number of Observations</th>\n",
        "      <th>Population</th>\n",
        "      <th>Mode</th>\n",
        "      <th>Obama</th>\n",
        "      <th>Romney</th>\n",
        "      <th>Undecided</th>\n",
        "      <th>Pollster URL</th>\n",
        "      <th>Source URL</th>\n",
        "      <th>Partisan</th>\n",
        "      <th>Affiliation</th>\n",
        "    </tr>\n",
        "  </thead>\n",
        "  <tbody>\n",
        "    <tr>\n",
        "      <th>0</th>\n",
        "      <td> Politico/GWU/Battleground</td>\n",
        "      <td> 2012-11-04</td>\n",
        "      <td> 2012-11-05</td>\n",
        "      <td> 2012-11-06 08:40:26</td>\n",
        "      <td> 1000</td>\n",
        "      <td> Likely Voters</td>\n",
        "      <td>      Live Phone</td>\n",
        "      <td> 47</td>\n",
        "      <td> 47</td>\n",
        "      <td>  6</td>\n",
        "      <td> http://elections.huffingtonpost.com/pollster/p...</td>\n",
        "      <td> http://www.politico.com/news/stories/1112/8338...</td>\n",
        "      <td> Nonpartisan</td>\n",
        "      <td> None</td>\n",
        "    </tr>\n",
        "    <tr>\n",
        "      <th>1</th>\n",
        "      <td>                UPI/CVOTER</td>\n",
        "      <td> 2012-11-03</td>\n",
        "      <td> 2012-11-05</td>\n",
        "      <td> 2012-11-05 18:30:15</td>\n",
        "      <td> 3000</td>\n",
        "      <td> Likely Voters</td>\n",
        "      <td>      Live Phone</td>\n",
        "      <td> 49</td>\n",
        "      <td> 48</td>\n",
        "      <td>NaN</td>\n",
        "      <td> http://elections.huffingtonpost.com/pollster/p...</td>\n",
        "      <td>                                               NaN</td>\n",
        "      <td> Nonpartisan</td>\n",
        "      <td> None</td>\n",
        "    </tr>\n",
        "    <tr>\n",
        "      <th>2</th>\n",
        "      <td>          Gravis Marketing</td>\n",
        "      <td> 2012-11-03</td>\n",
        "      <td> 2012-11-05</td>\n",
        "      <td> 2012-11-06 09:22:02</td>\n",
        "      <td>  872</td>\n",
        "      <td> Likely Voters</td>\n",
        "      <td> Automated Phone</td>\n",
        "      <td> 48</td>\n",
        "      <td> 48</td>\n",
        "      <td>  4</td>\n",
        "      <td> http://elections.huffingtonpost.com/pollster/p...</td>\n",
        "      <td> http://www.gravispolls.com/2012/11/gravis-mark...</td>\n",
        "      <td> Nonpartisan</td>\n",
        "      <td> None</td>\n",
        "    </tr>\n",
        "    <tr>\n",
        "      <th>3</th>\n",
        "      <td>      JZ Analytics/Newsmax</td>\n",
        "      <td> 2012-11-03</td>\n",
        "      <td> 2012-11-05</td>\n",
        "      <td> 2012-11-06 07:38:41</td>\n",
        "      <td> 1041</td>\n",
        "      <td> Likely Voters</td>\n",
        "      <td>        Internet</td>\n",
        "      <td> 47</td>\n",
        "      <td> 47</td>\n",
        "      <td>  6</td>\n",
        "      <td> http://elections.huffingtonpost.com/pollster/p...</td>\n",
        "      <td>                       http://www.jzanalytics.com/</td>\n",
        "      <td>     Sponsor</td>\n",
        "      <td>  Rep</td>\n",
        "    </tr>\n",
        "    <tr>\n",
        "      <th>4</th>\n",
        "      <td>                 Rasmussen</td>\n",
        "      <td> 2012-11-03</td>\n",
        "      <td> 2012-11-05</td>\n",
        "      <td> 2012-11-06 08:47:50</td>\n",
        "      <td> 1500</td>\n",
        "      <td> Likely Voters</td>\n",
        "      <td> Automated Phone</td>\n",
        "      <td> 48</td>\n",
        "      <td> 49</td>\n",
        "      <td>NaN</td>\n",
        "      <td> http://elections.huffingtonpost.com/pollster/p...</td>\n",
        "      <td> http://www.rasmussenreports.com/public_content...</td>\n",
        "      <td> Nonpartisan</td>\n",
        "      <td> None</td>\n",
        "    </tr>\n",
        "  </tbody>\n",
        "</table>\n",
        "<p>5 rows \u00d7 14 columns</p>\n",
        "</div>"
       ],
       "metadata": {},
       "output_type": "pyout",
       "prompt_number": 134,
       "text": [
        "                    Pollster  Start Date    End Date Entry Date/Time (ET)  \\\n",
        "0  Politico/GWU/Battleground  2012-11-04  2012-11-05  2012-11-06 08:40:26   \n",
        "1                 UPI/CVOTER  2012-11-03  2012-11-05  2012-11-05 18:30:15   \n",
        "2           Gravis Marketing  2012-11-03  2012-11-05  2012-11-06 09:22:02   \n",
        "3       JZ Analytics/Newsmax  2012-11-03  2012-11-05  2012-11-06 07:38:41   \n",
        "4                  Rasmussen  2012-11-03  2012-11-05  2012-11-06 08:47:50   \n",
        "\n",
        "   Number of Observations     Population             Mode  Obama  Romney  \\\n",
        "0                    1000  Likely Voters       Live Phone     47      47   \n",
        "1                    3000  Likely Voters       Live Phone     49      48   \n",
        "2                     872  Likely Voters  Automated Phone     48      48   \n",
        "3                    1041  Likely Voters         Internet     47      47   \n",
        "4                    1500  Likely Voters  Automated Phone     48      49   \n",
        "\n",
        "   Undecided                                       Pollster URL  \\\n",
        "0          6  http://elections.huffingtonpost.com/pollster/p...   \n",
        "1        NaN  http://elections.huffingtonpost.com/pollster/p...   \n",
        "2          4  http://elections.huffingtonpost.com/pollster/p...   \n",
        "3          6  http://elections.huffingtonpost.com/pollster/p...   \n",
        "4        NaN  http://elections.huffingtonpost.com/pollster/p...   \n",
        "\n",
        "                                          Source URL     Partisan Affiliation  \n",
        "0  http://www.politico.com/news/stories/1112/8338...  Nonpartisan        None  \n",
        "1                                                NaN  Nonpartisan        None  \n",
        "2  http://www.gravispolls.com/2012/11/gravis-mark...  Nonpartisan        None  \n",
        "3                        http://www.jzanalytics.com/      Sponsor         Rep  \n",
        "4  http://www.rasmussenreports.com/public_content...  Nonpartisan        None  \n",
        "\n",
        "[5 rows x 14 columns]"
       ]
      }
     ],
     "prompt_number": 134
    },
    {
     "cell_type": "markdown",
     "metadata": {},
     "source": [
      "How many polls were conducted in November? Define this number as M.  \n",
      "\n",
      "**Hint**: Subset the `election` DataFrame for only dates in the `Start Date` column that are in November 2012.  "
     ]
    },
    {
     "cell_type": "code",
     "collapsed": false,
     "input": [
      "#your code here\n",
      "election_november = election[(election['Start Date'] >= '2012-11-01') & (election['Start Date'] <= '2012-11-30')]\n",
      "M = len(election_november)\n",
      "print M"
     ],
     "language": "python",
     "metadata": {},
     "outputs": [
      {
       "output_type": "stream",
       "stream": "stdout",
       "text": [
        "19\n"
       ]
      }
     ],
     "prompt_number": 135
    },
    {
     "cell_type": "markdown",
     "metadata": {},
     "source": [
      "Answer: 19"
     ]
    },
    {
     "cell_type": "markdown",
     "metadata": {},
     "source": [
      "What was the median of the number of observations in the November polls? Define this quantity as N. "
     ]
    },
    {
     "cell_type": "code",
     "collapsed": false,
     "input": [
      "#your code here\n",
      "N = election_november['Number of Observations'].median()\n",
      "print N"
     ],
     "language": "python",
     "metadata": {},
     "outputs": [
      {
       "output_type": "stream",
       "stream": "stdout",
       "text": [
        "1200.0\n"
       ]
      }
     ],
     "prompt_number": 136
    },
    {
     "cell_type": "markdown",
     "metadata": {},
     "source": [
      "Answer: 1200"
     ]
    },
    {
     "cell_type": "markdown",
     "metadata": {},
     "source": [
      "#### Problem 2(b)\n",
      "\n",
      "Using the median sample size $N$ from Problem 1(a), simulate the results from a single poll:  simulate the number of votes for Obama out of a sample size $N$ where $p$ = 0.53 is the percent of voters who are voting for Obama.  \n",
      "\n",
      "**Hint**: Use the binomial distribution with parameters $N$ and $p$ = 0.53. "
     ]
    },
    {
     "cell_type": "code",
     "collapsed": false,
     "input": [
      "#your code here\n",
      "np.random.binomial(N, p=0.53)"
     ],
     "language": "python",
     "metadata": {},
     "outputs": [
      {
       "metadata": {},
       "output_type": "pyout",
       "prompt_number": 137,
       "text": [
        "589"
       ]
      }
     ],
     "prompt_number": 137
    },
    {
     "cell_type": "markdown",
     "metadata": {},
     "source": [
      "Now, perform a Monte Carlo simulation to obtain the estimated percentage of Obama votes with a sample size $N$ where $N$ is the median sample size calculated in Problem 2(a). Let $p$=0.53 be the percent of voters are voting for Obama. \n",
      "\n",
      "**Hint**: You will repeat the simulation above 1,000 times and plot the distribution of the estimated *percent* of Obama votes from a single poll.  The results from the single poll you simulate is random variable and will be different every time you sample. "
     ]
    },
    {
     "cell_type": "code",
     "collapsed": false,
     "input": [
      "#your code here\n",
      "results = []\n",
      "for i in range(1000):\n",
      "    results.append(np.random.binomial(N, p=0.53))\n",
      "results = np.array(results)\n",
      "\n",
      "# convert results into percentages\n",
      "results = results/N\n",
      "results *= 100\n",
      "print \"Mean: {}, Std. Dev.: {}\".format(results.mean(), results.std())"
     ],
     "language": "python",
     "metadata": {},
     "outputs": [
      {
       "output_type": "stream",
       "stream": "stdout",
       "text": [
        "Mean: 53.0254166667, Std. Dev.: 1.40898400896\n"
       ]
      }
     ],
     "prompt_number": 169
    },
    {
     "cell_type": "markdown",
     "metadata": {},
     "source": [
      "Plot the distribution of the estimated percentage of Obama votes from your single poll. What is the distribution of the estimated percentage of Obama votes? "
     ]
    },
    {
     "cell_type": "code",
     "collapsed": false,
     "input": [
      "#your code here\n",
      "plt.hist(results, bins=50)\n",
      "plt.show()"
     ],
     "language": "python",
     "metadata": {},
     "outputs": [
      {
       "metadata": {},
       "output_type": "display_data",
       "png": "[encoded data removed]",
       "text": [
        "<matplotlib.figure.Figure at 0x1085ba690>"
       ]
      }
     ],
     "prompt_number": 170
    },
    {
     "cell_type": "markdown",
     "metadata": {},
     "source": [
      "Answer: Normal distribution with mean .5301 and standard deviation .0141"
     ]
    },
    {
     "cell_type": "markdown",
     "metadata": {},
     "source": [
      "What is the standard error (SE) of the estimated percentage from the poll. \n",
      "\n",
      "**Hint**: Remember the SE is the standard deviation (SD) of the distribution of a random variable. "
     ]
    },
    {
     "cell_type": "code",
     "collapsed": false,
     "input": [
      "#your code here\n",
      "print 'Standard Error: ', results.std()"
     ],
     "language": "python",
     "metadata": {},
     "outputs": [
      {
       "output_type": "stream",
       "stream": "stdout",
       "text": [
        "Standard Error:  1.40898400896\n"
       ]
      }
     ],
     "prompt_number": 171
    },
    {
     "cell_type": "markdown",
     "metadata": {},
     "source": [
      "#### Problem 2(c)\n",
      "\n",
      "Now suppose we run M polls where M is the number of polls that happened in November (calculated in Problem 2(a)). Run 1,000 simulations and compute the mean of the M polls for each simulation. "
     ]
    },
    {
     "cell_type": "code",
     "collapsed": false,
     "input": [
      "#your code here\n",
      "poll_data = []\n",
      "for trial in range(1000):\n",
      "    trial_data = {}\n",
      "    for poll_num in range(M):\n",
      "        result = np.random.binomial(N, p=0.53) * 100 / float(N)\n",
      "        trial_data['Poll {}'.format(poll_num)] = result\n",
      "    poll_data.append(trial_data)\n",
      "\n",
      "poll_data = pd.DataFrame(poll_data)\n",
      "poll_data.mean()"
     ],
     "language": "python",
     "metadata": {},
     "outputs": [
      {
       "metadata": {},
       "output_type": "pyout",
       "prompt_number": 234,
       "text": [
        "Poll 0     53.066083\n",
        "Poll 1     53.036917\n",
        "Poll 10    53.008833\n",
        "Poll 11    53.004167\n",
        "Poll 12    53.016083\n",
        "Poll 13    52.987917\n",
        "Poll 14    53.037500\n",
        "Poll 15    53.015667\n",
        "Poll 16    53.063250\n",
        "Poll 17    52.978083\n",
        "Poll 18    52.936333\n",
        "Poll 2     53.081833\n",
        "Poll 3     52.913167\n",
        "Poll 4     52.999250\n",
        "Poll 5     52.939750\n",
        "Poll 6     53.105917\n",
        "Poll 7     53.055333\n",
        "Poll 8     52.959833\n",
        "Poll 9     53.007917\n",
        "dtype: float64"
       ]
      }
     ],
     "prompt_number": 234
    },
    {
     "cell_type": "markdown",
     "metadata": {},
     "source": [
      "What is the distribution of the average of polls?\n",
      "\n",
      "**Hint**: Show a plot. "
     ]
    },
    {
     "cell_type": "code",
     "collapsed": false,
     "input": [
      "#your code here\n",
      "plt.hist(poll_data.mean(), bins=10)\n",
      "plt.title('Distribution of the Average of Polls')\n",
      "plt.show()"
     ],
     "language": "python",
     "metadata": {},
     "outputs": [
      {
       "metadata": {},
       "output_type": "display_data",
       "png": "[encoded data removed]",
       "text": [
        "<matplotlib.figure.Figure at 0x10f215350>"
       ]
      }
     ],
     "prompt_number": 239
    },
    {
     "cell_type": "markdown",
     "metadata": {},
     "source": [
      "Answer: The distribution is roughly normal."
     ]
    },
    {
     "cell_type": "markdown",
     "metadata": {},
     "source": [
      "What is the standard error (SE) of the average of polls? "
     ]
    },
    {
     "cell_type": "code",
     "collapsed": false,
     "input": [
      "#your code here\n",
      "\n",
      "print 'Standard Error: ', poll_data.mean().std()"
     ],
     "language": "python",
     "metadata": {},
     "outputs": [
      {
       "output_type": "stream",
       "stream": "stdout",
       "text": [
        "Standard Error:  0.0515498116435\n"
       ]
      }
     ],
     "prompt_number": 240
    },
    {
     "cell_type": "markdown",
     "metadata": {},
     "source": [
      "Answer: 0.052"
     ]
    },
    {
     "cell_type": "markdown",
     "metadata": {},
     "source": [
      "Is the SE of the average of polls larger, the same, or smaller than that the SD of a single poll (calculated in Problem 2(b))? By how much?\n",
      "\n",
      "**Hint**: Compute a ratio of the two quantities.  "
     ]
    },
    {
     "cell_type": "code",
     "collapsed": false,
     "input": [
      "#your code here\n",
      "\n",
      "print 'Ratio: ', results.std() / poll_data.mean().std()"
     ],
     "language": "python",
     "metadata": {},
     "outputs": [
      {
       "output_type": "stream",
       "stream": "stdout",
       "text": [
        "Ratio:  27.3324763765\n"
       ]
      }
     ],
     "prompt_number": 241
    },
    {
     "cell_type": "markdown",
     "metadata": {},
     "source": [
      "Answer: The SD of a single poll is much larger (over 25x) than the SE of the average of polls"
     ]
    },
    {
     "cell_type": "markdown",
     "metadata": {},
     "source": [
      "#### Problem 2(d) \n",
      "\n",
      "Repeat Problem 2(c) but now record the *across poll* standard deviation in each simulation. "
     ]
    },
    {
     "cell_type": "code",
     "collapsed": false,
     "input": [
      "#your code here\n",
      "poll_data2 = []\n",
      "for trial in range(1000):\n",
      "    trial_data = {}\n",
      "    for poll_num in range(M):\n",
      "        result = np.random.binomial(N, p=0.53) * 100 / float(N)\n",
      "        trial_data['Poll {}'.format(poll_num)] = result\n",
      "    poll_data2.append(trial_data)\n",
      "\n",
      "poll_data2 = pd.DataFrame(poll_data2)\n",
      "poll_data2.std()"
     ],
     "language": "python",
     "metadata": {},
     "outputs": [
      {
       "metadata": {},
       "output_type": "pyout",
       "prompt_number": 223,
       "text": [
        "Poll 0     1.373074\n",
        "Poll 1     1.426602\n",
        "Poll 10    1.463384\n",
        "Poll 11    1.459596\n",
        "Poll 12    1.464316\n",
        "Poll 13    1.451721\n",
        "Poll 14    1.422062\n",
        "Poll 15    1.439484\n",
        "Poll 16    1.509270\n",
        "Poll 17    1.428767\n",
        "Poll 18    1.401309\n",
        "Poll 2     1.437910\n",
        "Poll 3     1.485681\n",
        "Poll 4     1.406876\n",
        "Poll 5     1.449181\n",
        "Poll 6     1.420340\n",
        "Poll 7     1.504413\n",
        "Poll 8     1.481466\n",
        "Poll 9     1.482680\n",
        "dtype: float64"
       ]
      }
     ],
     "prompt_number": 223
    },
    {
     "cell_type": "markdown",
     "metadata": {},
     "source": [
      "What is the distribution of the *across M polls* standard deviation?\n",
      "\n",
      "**Hint**: Show a plot. "
     ]
    },
    {
     "cell_type": "code",
     "collapsed": false,
     "input": [
      "#your code here\n",
      "plt.hist(poll_data2.std(), bins=7)\n",
      "plt.title('Distribution of Across Poll Standard Deviation')\n",
      "plt.show()"
     ],
     "language": "python",
     "metadata": {},
     "outputs": [
      {
       "metadata": {},
       "output_type": "display_data",
       "png": "[encoded data removed]",
       "text": [
        "<matplotlib.figure.Figure at 0x10f1fcc50>"
       ]
      }
     ],
     "prompt_number": 224
    },
    {
     "cell_type": "markdown",
     "metadata": {},
     "source": [
      "Answer: The distribution is roughly normal."
     ]
    },
    {
     "cell_type": "markdown",
     "metadata": {},
     "source": [
      "#### Problem 2(e) \n",
      "\n",
      "What is the standard deviation of M polls in our real (not simulated) 2012 presidential election data ? "
     ]
    },
    {
     "cell_type": "code",
     "collapsed": false,
     "input": [
      "#your code here\n",
      "election_november['Obama'].std()"
     ],
     "language": "python",
     "metadata": {},
     "outputs": [
      {
       "metadata": {},
       "output_type": "pyout",
       "prompt_number": 250,
       "text": [
        "1.0841764600336519"
       ]
      }
     ],
     "prompt_number": 250
    },
    {
     "cell_type": "markdown",
     "metadata": {},
     "source": [
      "Is this larger, the same, or smaller than what we expected if polls were not biased."
     ]
    },
    {
     "cell_type": "code",
     "collapsed": false,
     "input": [
      "#your code here\n",
      "results.std() - election_november['Obama'].std()"
     ],
     "language": "python",
     "metadata": {},
     "outputs": [
      {
       "metadata": {},
       "output_type": "pyout",
       "prompt_number": 253,
       "text": [
        "0.32480754892457808"
       ]
      }
     ],
     "prompt_number": 253
    },
    {
     "cell_type": "markdown",
     "metadata": {},
     "source": [
      "Answer: This is slightly smaller (by 0.325) than what we expected based on the SD found in 2(b)."
     ]
    },
    {
     "cell_type": "markdown",
     "metadata": {},
     "source": [
      "#### Problem 2(f)\n",
      "\n",
      "**For AC209 Students**: Learn about the normal appoximation for the binomial distribution and derive the results of Problem 2(b) and 2(c) analytically (using this approximation). Compare the results obtained analytically to those obtained from simulations."
     ]
    },
    {
     "cell_type": "code",
     "collapsed": false,
     "input": [
      "#your code here"
     ],
     "language": "python",
     "metadata": {},
     "outputs": [],
     "prompt_number": 255
    },
    {
     "cell_type": "markdown",
     "metadata": {},
     "source": [
      "Answer: "
     ]
    },
    {
     "cell_type": "markdown",
     "metadata": {},
     "source": [
      "## Discussion for Problem 2\n",
      "\n",
      "*Write a brief discussion of your conclusions to the questions and tasks above in 100 words or less.*\n",
      "\n",
      "---\n",
      "\n",
      "In this problem, we implemented a Monte Carlo simulation of political polls for the 2012 election. Comparing the SD of the simulation results to that of the actual poll results showed that the SD of the simulation was slightly higher. This may mean that the polls in the sample data are biased towards one candidate, and thus produce similarly favorable results for that canddiate. This is borne out when examining the sample, which included 3 Democrat-affiliated polls, but only 1 Republican-affiliated one."
     ]
    },
    {
     "cell_type": "markdown",
     "metadata": {},
     "source": [
      "## Problem 3: Is the average of polls better than just one poll?"
     ]
    },
    {
     "cell_type": "markdown",
     "metadata": {},
     "source": [
      "#### Problem 3(a)\n",
      "\n",
      "Most undecided voters vote for one of the two candidates at the election. Therefore, the reported percentages underestimate the final value of both candidates. However, if we assume the undecided will split evenly, then the observed difference should be an unbiased estimate of the final difference. \n",
      "\n",
      "Add a new column to the `election` DataFrame containg the difference between Obama and Romeny called `Diff`. "
     ]
    },
    {
     "cell_type": "code",
     "collapsed": false,
     "input": [
      "#your code here\n",
      "election['Diff'] = election['Obama'] - election['Romney']"
     ],
     "language": "python",
     "metadata": {},
     "outputs": [],
     "prompt_number": 267
    },
    {
     "cell_type": "markdown",
     "metadata": {},
     "source": [
      "#### Problem 3(b)\n",
      "\n",
      "Make a plot of the differences for the week before the election (e.g. 5 days) where the days are on the x-axis and the differences are on the y-axis.  Add a horizontal line showing 3.9%: the difference between Obama and Romney on election day."
     ]
    },
    {
     "cell_type": "code",
     "collapsed": false,
     "input": [
      "#your code here\n",
      "election_5days = election[(election['Start Date'] >= '2012-11-01')]\n",
      "\n",
      "datetimes = pd.to_datetime(election_5days['Start Date'])\n",
      "election_day = dt.datetime(2012, 11, 6)\n",
      "election_5days['Days from Election'] = pd.Series([(i - election_day).days for i in datetimes], index=election_5days.index)\n",
      "election_5days = election_5days.sort(['Start Date', 'End Date'])\n",
      "plt.scatter(election_5days['Days from Election'], election_5days['Diff'])\n",
      "plt.xticks([-5, -4, -3, -2, -1, 0])\n",
      "plt.xlabel('Days from Election')\n",
      "plt.ylabel('Diff')\n",
      "plt.title('Difference Between Obama and Romney')\n",
      "plt.axhline(3.9, -5, 1)\n",
      "plt.show()"
     ],
     "language": "python",
     "metadata": {},
     "outputs": [
      {
       "metadata": {},
       "output_type": "display_data",
       "png": "[encoded data removed]",
       "text": [
        "<matplotlib.figure.Figure at 0x1084a44d0>"
       ]
      }
     ],
     "prompt_number": 268
    },
    {
     "cell_type": "markdown",
     "metadata": {},
     "source": [
      "#### Problem 3(c) \n",
      "\n",
      "Make a plot showing the differences by pollster where the pollsters are on the x-axis and the differences on the y-axis. "
     ]
    },
    {
     "cell_type": "code",
     "collapsed": false,
     "input": [
      "def check_NA(n):\n",
      "    try:\n",
      "        return float(n)\n",
      "    except:\n",
      "        return np.nan\n",
      "\n",
      "N = np.array([check_NA(n) for n in election[\"Number of Observations\"].values])\n",
      "\n",
      "leftover = [s for s in election[\"Undecided\"].values]\n",
      "leftover = np.array([s for s in leftover])\n",
      "Obama = np.array([float(a) for a in election[\"Obama\"].values])\n",
      "avgs = Obama/100+leftover/100/2\n",
      "avgs = np.array([float(a) for a in election[\"Diff\"].values])\n",
      "se = np.sqrt(avgs*(1-avgs)/N)\n",
      "se = np.nan_to_num(se)\n",
      "\n",
      "x = list(set(election[\"Pollster\"]))\n",
      "x.sort()\n",
      "idx = election.groupby(['Pollster']).count()[\"Diff\"].values\n",
      "idx = np.array([0]+list(np.cumsum(idx))[:-1])\n",
      "cols = {}\n",
      "i = 0\n",
      "for poll in x:\n",
      "    cols[poll]=dark2_colors[i]\n",
      "    i+=1\n",
      "    if i>len(dark2_colors)-1:\n",
      "        i=0\n",
      "fig, ax = plt.subplots(1, 1)\n",
      "for i in range(len(avgs)):\n",
      "    ax.scatter(i, avgs[i], zorder = 2)\n",
      "plt.xlim(-1,len(avgs))\n",
      "plt.xticks(idx,x, rotation = 90)\n",
      "plt.show()"
     ],
     "language": "python",
     "metadata": {},
     "outputs": [
      {
       "metadata": {},
       "output_type": "display_data",
       "png": "[encoded data removed]",
       "text": [
        "<matplotlib.figure.Figure at 0x1088fef90>"
       ]
      }
     ],
     "prompt_number": 290
    },
    {
     "cell_type": "markdown",
     "metadata": {},
     "source": [
      "Is the *across poll* difference larger than the *between pollster* difference? "
     ]
    },
    {
     "cell_type": "markdown",
     "metadata": {},
     "source": [
      "Answer: The across poll difference seems to be larger than the between poll difference. This is because nearly all of the pollsters' difference values are in the same range [-5, 10]."
     ]
    },
    {
     "cell_type": "markdown",
     "metadata": {},
     "source": [
      "#### Problem 3(d)\n",
      "\n",
      "Take the average for each pollster and then compute the average of that. Given this difference how confident would you have been of an Obama victory?\n",
      "\n",
      "**Hint**: Compute an estimate of the SE of this average based exclusively on the observed data. "
     ]
    },
    {
     "cell_type": "code",
     "collapsed": false,
     "input": [
      "#your code here\n",
      "print election_5days['Diff'].mean()\n",
      "print election_5days['Diff'].std()"
     ],
     "language": "python",
     "metadata": {},
     "outputs": [
      {
       "output_type": "stream",
       "stream": "stdout",
       "text": [
        "1.05263157895\n",
        "1.39338453696\n"
       ]
      }
     ],
     "prompt_number": 165
    },
    {
     "cell_type": "markdown",
     "metadata": {},
     "source": [
      "Answer: I would not be very confident of an Obama victory, because the mean difference (+1.05 Obama) is less than 1 standard deviation from 0."
     ]
    },
    {
     "cell_type": "markdown",
     "metadata": {},
     "source": [
      "#### Problem 3(e)\n",
      "\n",
      "**For AC209 Students**: Show the difference against time and see if you can detect a trend towards the end. Use this trend to see if it improves the final estimate."
     ]
    },
    {
     "cell_type": "code",
     "collapsed": false,
     "input": [
      "#your code here"
     ],
     "language": "python",
     "metadata": {},
     "outputs": [],
     "prompt_number": 291
    },
    {
     "cell_type": "markdown",
     "metadata": {},
     "source": [
      "Answer: "
     ]
    },
    {
     "cell_type": "markdown",
     "metadata": {},
     "source": [
      "## Discussion for Problem 3\n",
      "\n",
      "*Write a brief discussion of your conclusions to the questions and tasks above in 100 words or less.*\n",
      "\n",
      "---\n",
      "\n",
      "In this problem, we looked at poll data from the 2012 election, investigating the accuracy of polls, particularly close to the election day. The polls in the sample conducted within 5 days of election day showed a tightening race, but Obama ended up winning by 3.9%."
     ]
    },
    {
     "cell_type": "markdown",
     "metadata": {},
     "source": [
      "## Problem 4\n",
      "\n",
      "In this last problem, we will use the polls from the [2014 Senate Midterm Elections](http://elections.huffingtonpost.com/pollster) from the [HuffPost Pollster API](http://elections.huffingtonpost.com/pollster/api) to create a preliminary prediction of the result of each state. \n",
      "\n",
      "The HuffPost Pollster API allows you to access the data as a CSV or a JSON response by tacking \".csv\" or \".json\" at the end of the URLs. For example the 2012 Presidential Election could be accessed as a [.json](http://elections.huffingtonpost.com/pollster/2012-general-election-romney-vs-obama.json) instead of a [.csv](http://elections.huffingtonpost.com/pollster/2012-general-election-romney-vs-obama.csv)"
     ]
    },
    {
     "cell_type": "markdown",
     "metadata": {},
     "source": [
      "#### Problem 4(a)\n",
      "\n",
      "Read in the polls for **all** of the 2014 Senate Elections using the HuffPost API. For example, we can consider the [2014 Senate race in Kentucky between Mitch McConnell and Alison Grimes](http://elections.huffingtonpost.com/pollster/2014-kentucky-senate-mcconnell-vs-grimes). \n",
      "\n",
      "To search for the 2014 Senate races, use the `topics` parameter in the API [[read more about topics here](http://elections.huffingtonpost.com/pollster/api)].  "
     ]
    },
    {
     "cell_type": "code",
     "collapsed": false,
     "input": [
      "url_str = \"http://elections.huffingtonpost.com/pollster/api/charts/?topic=2014-senate\""
     ],
     "language": "python",
     "metadata": {},
     "outputs": [],
     "prompt_number": 155
    },
    {
     "cell_type": "markdown",
     "metadata": {},
     "source": [
      "To list all the URLs related to the 2014 Senate races using the pollster API, we can use a list comprehension:"
     ]
    },
    {
     "cell_type": "code",
     "collapsed": false,
     "input": [
      "election_data = requests.get(url_str).json()\n",
      "election_urls = [election['url'] + '.csv' for election in election_data]\n",
      "\n",
      "def get_choices(election_url):\n",
      "    \"\"\"\n",
      "    Takes the API url for an election and gets the names\n",
      "    of the candidates running\n",
      "    \"\"\"\n",
      "    r = requests.get(election_url + '.json')\n",
      "    choices = set(r.json()['polls'][0]['choices'])\n",
      "    choices = list(choices - {'Other', 'Undecided', 'other', 'undecided'})\n",
      "    return choices\n",
      "\n",
      "election_candidates = {}\n",
      "for election in election_data:\n",
      "    url = election['url']\n",
      "    election_key = url.split(\"/\")[-1]\n",
      "    choices = get_choices(url)\n",
      "    election_candidates[election_key] = choices"
     ],
     "language": "python",
     "metadata": {},
     "outputs": [],
     "prompt_number": 156
    },
    {
     "cell_type": "markdown",
     "metadata": {},
     "source": [
      "Because there so many Senate races, we can create a dictionary of pandas DataFrames that will be keyed by the name of the election (a string). "
     ]
    },
    {
     "cell_type": "code",
     "collapsed": false,
     "input": [
      "def build_frame(url):\n",
      "    \"\"\"\n",
      "    Returns a pandas DataFrame object containing\n",
      "    the data returned from the given url\n",
      "    \"\"\"\n",
      "    source = requests.get(url).text\n",
      "    \n",
      "    # Use StringIO because pd.DataFrame.from_csv requires .read() method\n",
      "    s = StringIO(source)\n",
      "    \n",
      "    return pd.DataFrame.from_csv(s, index_col=None).convert_objects(\n",
      "            convert_dates=\"coerce\", convert_numeric=True)"
     ],
     "language": "python",
     "metadata": {},
     "outputs": [],
     "prompt_number": 157
    },
    {
     "cell_type": "code",
     "collapsed": false,
     "input": [
      "# Makes a dictionary of pandas DataFrames keyed on election string.\n",
      "dfs = dict((election.split(\"/\")[-1][:-4], build_frame(election)) for election in election_urls)"
     ],
     "language": "python",
     "metadata": {},
     "outputs": [],
     "prompt_number": 158
    },
    {
     "cell_type": "markdown",
     "metadata": {},
     "source": [
      "Show the head of the DataFrame containing the polls for the 2014 Senate race in Kentucky between McConnell and Grimes."
     ]
    },
    {
     "cell_type": "code",
     "collapsed": false,
     "input": [
      "#your code here\n",
      "dfs['2014-kentucky-senate-mcconnell-vs-grimes'].head()"
     ],
     "language": "python",
     "metadata": {},
     "outputs": [
      {
       "html": [
        "<div style=\"max-height:1000px;max-width:1500px;overflow:auto;\">\n",
        "<table border=\"1\" class=\"dataframe\">\n",
        "  <thead>\n",
        "    <tr style=\"text-align: right;\">\n",
        "      <th></th>\n",
        "      <th>Pollster</th>\n",
        "      <th>Start Date</th>\n",
        "      <th>End Date</th>\n",
        "      <th>Entry Date/Time (ET)</th>\n",
        "      <th>Number of Observations</th>\n",
        "      <th>Population</th>\n",
        "      <th>Mode</th>\n",
        "      <th>McConnell</th>\n",
        "      <th>Grimes</th>\n",
        "      <th>Undecided</th>\n",
        "      <th>Pollster URL</th>\n",
        "      <th>Source URL</th>\n",
        "      <th>Partisan</th>\n",
        "      <th>Affiliation</th>\n",
        "    </tr>\n",
        "  </thead>\n",
        "  <tbody>\n",
        "    <tr>\n",
        "      <th>0</th>\n",
        "      <td>                       Mellman (D-Grimes)</td>\n",
        "      <td>2014-09-19</td>\n",
        "      <td>2014-09-27</td>\n",
        "      <td>2014-10-01 15:13:47</td>\n",
        "      <td> 1800</td>\n",
        "      <td> Likely Voters</td>\n",
        "      <td>      Live Phone</td>\n",
        "      <td> 40</td>\n",
        "      <td> 42</td>\n",
        "      <td> 16</td>\n",
        "      <td> http://elections.huffingtonpost.com/pollster/p...</td>\n",
        "      <td> http://images.politico.com/global/2014/09/30/m...</td>\n",
        "      <td>     Sponsor</td>\n",
        "      <td>  Dem</td>\n",
        "    </tr>\n",
        "    <tr>\n",
        "      <th>1</th>\n",
        "      <td>                  Gravis/Human Events (R)</td>\n",
        "      <td>2014-09-13</td>\n",
        "      <td>2014-09-16</td>\n",
        "      <td>2014-09-19 14:57:03</td>\n",
        "      <td>  839</td>\n",
        "      <td> Likely Voters</td>\n",
        "      <td> Automated Phone</td>\n",
        "      <td> 51</td>\n",
        "      <td> 41</td>\n",
        "      <td>  8</td>\n",
        "      <td> http://elections.huffingtonpost.com/pollster/p...</td>\n",
        "      <td> http://gravismarketing.com/polling-and-market-...</td>\n",
        "      <td>     Sponsor</td>\n",
        "      <td>  Rep</td>\n",
        "    </tr>\n",
        "    <tr>\n",
        "      <th>2</th>\n",
        "      <td>                            Ipsos/Reuters</td>\n",
        "      <td>2014-09-08</td>\n",
        "      <td>2014-09-12</td>\n",
        "      <td>2014-09-22 15:23:23</td>\n",
        "      <td>  944</td>\n",
        "      <td> Likely Voters</td>\n",
        "      <td>        Internet</td>\n",
        "      <td> 46</td>\n",
        "      <td> 42</td>\n",
        "      <td>  6</td>\n",
        "      <td> http://elections.huffingtonpost.com/pollster/p...</td>\n",
        "      <td>     http://ipsos-na.com/download/pr.aspx?id=13904</td>\n",
        "      <td> Nonpartisan</td>\n",
        "      <td> None</td>\n",
        "    </tr>\n",
        "    <tr>\n",
        "      <th>3</th>\n",
        "      <td> Magellan (R-National Mining Association)</td>\n",
        "      <td>2014-09-04</td>\n",
        "      <td>2014-09-07</td>\n",
        "      <td>2014-09-10 15:44:29</td>\n",
        "      <td>  742</td>\n",
        "      <td> Likely Voters</td>\n",
        "      <td> Automated Phone</td>\n",
        "      <td> 50</td>\n",
        "      <td> 42</td>\n",
        "      <td>  2</td>\n",
        "      <td> http://elections.huffingtonpost.com/pollster/p...</td>\n",
        "      <td> http://www.slideshare.net/MagellanStrat/nation...</td>\n",
        "      <td>     Sponsor</td>\n",
        "      <td>  Rep</td>\n",
        "    </tr>\n",
        "    <tr>\n",
        "      <th>4</th>\n",
        "      <td>                       Mellman (D-Grimes)</td>\n",
        "      <td>2014-09-04</td>\n",
        "      <td>2014-09-07</td>\n",
        "      <td>2014-09-10 18:53:37</td>\n",
        "      <td>  800</td>\n",
        "      <td> Likely Voters</td>\n",
        "      <td>      Live Phone</td>\n",
        "      <td> 42</td>\n",
        "      <td> 43</td>\n",
        "      <td> 15</td>\n",
        "      <td> http://elections.huffingtonpost.com/pollster/p...</td>\n",
        "      <td> http://images.politico.com/global/2014/09/09/1...</td>\n",
        "      <td>     Sponsor</td>\n",
        "      <td>  Dem</td>\n",
        "    </tr>\n",
        "  </tbody>\n",
        "</table>\n",
        "<p>5 rows \u00d7 14 columns</p>\n",
        "</div>"
       ],
       "metadata": {},
       "output_type": "pyout",
       "prompt_number": 159,
       "text": [
        "                                   Pollster Start Date   End Date  \\\n",
        "0                        Mellman (D-Grimes) 2014-09-19 2014-09-27   \n",
        "1                   Gravis/Human Events (R) 2014-09-13 2014-09-16   \n",
        "2                             Ipsos/Reuters 2014-09-08 2014-09-12   \n",
        "3  Magellan (R-National Mining Association) 2014-09-04 2014-09-07   \n",
        "4                        Mellman (D-Grimes) 2014-09-04 2014-09-07   \n",
        "\n",
        "  Entry Date/Time (ET)  Number of Observations     Population  \\\n",
        "0  2014-10-01 15:13:47                    1800  Likely Voters   \n",
        "1  2014-09-19 14:57:03                     839  Likely Voters   \n",
        "2  2014-09-22 15:23:23                     944  Likely Voters   \n",
        "3  2014-09-10 15:44:29                     742  Likely Voters   \n",
        "4  2014-09-10 18:53:37                     800  Likely Voters   \n",
        "\n",
        "              Mode  McConnell  Grimes  Undecided  \\\n",
        "0       Live Phone         40      42         16   \n",
        "1  Automated Phone         51      41          8   \n",
        "2         Internet         46      42          6   \n",
        "3  Automated Phone         50      42          2   \n",
        "4       Live Phone         42      43         15   \n",
        "\n",
        "                                        Pollster URL  \\\n",
        "0  http://elections.huffingtonpost.com/pollster/p...   \n",
        "1  http://elections.huffingtonpost.com/pollster/p...   \n",
        "2  http://elections.huffingtonpost.com/pollster/p...   \n",
        "3  http://elections.huffingtonpost.com/pollster/p...   \n",
        "4  http://elections.huffingtonpost.com/pollster/p...   \n",
        "\n",
        "                                          Source URL     Partisan Affiliation  \n",
        "0  http://images.politico.com/global/2014/09/30/m...      Sponsor         Dem  \n",
        "1  http://gravismarketing.com/polling-and-market-...      Sponsor         Rep  \n",
        "2      http://ipsos-na.com/download/pr.aspx?id=13904  Nonpartisan        None  \n",
        "3  http://www.slideshare.net/MagellanStrat/nation...      Sponsor         Rep  \n",
        "4  http://images.politico.com/global/2014/09/09/1...      Sponsor         Dem  \n",
        "\n",
        "[5 rows x 14 columns]"
       ]
      }
     ],
     "prompt_number": 159
    },
    {
     "cell_type": "markdown",
     "metadata": {},
     "source": [
      "#### Problem 4(b)\n",
      "\n",
      "For each 2014 Senate race, create a preliminary prediction of the result for that state."
     ]
    },
    {
     "cell_type": "code",
     "collapsed": false,
     "input": [
      "#your code here\n",
      "def predict(title):\n",
      "    \"\"\"\n",
      "    Looks at the polls since September 1st, averages them,\n",
      "    and chooses the candidate with the highest average\n",
      "    \"\"\"\n",
      "    df = dfs[title]\n",
      "    polls = df[df['Start Date'] >= '2014-09-01']\n",
      "    candidates = election_candidates[title]\n",
      "    results = {}\n",
      "    for candidate in candidates:\n",
      "        # try to find the candidate in the df\n",
      "        # if not, skip\n",
      "        try:\n",
      "            results[candidate] = polls[candidate].mean()    \n",
      "        except KeyError:\n",
      "            pass\n",
      "    projected_winner = max(results, key=results.get)\n",
      "    return projected_winner\n",
      "\n",
      "for election in dfs:\n",
      "    print u'{}: {}'.format(election, predict(election))"
     ],
     "language": "python",
     "metadata": {},
     "outputs": [
      {
       "output_type": "stream",
       "stream": "stdout",
       "text": [
        "2014-montana-senate-daines-vs-curtis: Curtis\n",
        "2014-north-carolina-senate-tillis-vs-hagan: Hagan\n",
        "2014-tennessee-senate-alexander-vs-ball: Ball\n",
        "2014-michigan-senate-land-vs-peters: Peters\n",
        "2014-wyoming-senate: Hardy\n",
        "2014-alaska-senate-sullivan-vs-begich: Sullivan\n",
        "2014-oregon-senate-wehby-vs-merkley: Merkley\n",
        "2014-new-hampshire-senate-brown-vs-shaheen: Shaheen\n",
        "2014-mississippi-senate-cochran-vs-childers: Cochran\n",
        "2014-rhode-island-senate-zaccaria-vs-reed: Reed\n",
        "2014-new-jersey-senate-bell-vs-booker: Booker\n",
        "2014-virginia-senate-gillespie-vs-warner: Warner\n",
        "2014-south-dakota-senate-rounds-vs-weiland: Rounds\n",
        "2014-kentucky-senate-mcconnell-vs-grimes: McConnell\n",
        "2014-iowa-senate-ernst-vs-braley: Ernst\n",
        "2014-oklahoma-senate-inhofe-vs-silverstein: Inhofe\n",
        "2014-illinois-senate-oberweis-vs-durbin: Durbin\n",
        "2014-south-carolina-senate-graham-vs-hutto: Graham\n",
        "2014-maine-senate-collins-vs-bellows: Collins\n",
        "2014-west-virginia-senate-capito-vs-tennant: Capito\n",
        "2014-hawaii-senate-cavasso-vs-schatz: Schatz\n",
        "2014-louisiana-senate-sasse-vs-domina: Domina\n",
        "2014-delaware-senate-wade-vs-coons: Coons\n",
        "2014-massachusetts-senate-herr-vs-markey: Markey\n",
        "2014-minnesota-senate-mcfadden-vs-franken: Franken\n",
        "2014-louisiana-senate-cassidy-vs-landrieu: Cassidy\n",
        "2014-georgia-senate-perdue-vs-nunn: Perdue\n",
        "2014-kansas-senate-roberts-vs-orman-vs-taylor: Orman\n",
        "2014-oklahoma-senate-lankford-vs-johnson: Lankford"
       ]
      },
      {
       "output_type": "stream",
       "stream": "stdout",
       "text": [
        "\n",
        "2014-new-mexico-senate-weh-vs-udall: Udall\n",
        "2014-idaho-senate-risch-vs-mitchell: Mitchell\n",
        "2014-texas-senate-cornyn-vs-alameel: Cornyn\n",
        "2014-arkansas-senate-cotton-vs-pryor: Cotton\n",
        "2014-south-carolina-senate-scott-vs-dickerson: Scott\n",
        "2014-colorado-senate-gardner-vs-udall: Gardner\n",
        "2014-new-hampshire-senate-bass-vs-shaheen: Shaheen\n"
       ]
      }
     ],
     "prompt_number": 160
    },
    {
     "cell_type": "markdown",
     "metadata": {},
     "source": [
      "# Submission Instructions\n",
      "\n",
      "To submit your homework, create a folder named **lastname_firstinitial_hw#** and place your IPython notebooks, data files, and any other files in this folder. Your IPython Notebooks should be completely executed with the results visible in the notebook. We should not have to run any code.  Compress the folder (please use .zip compression) and submit to the CS109 dropbox in the appropriate folder. *If we cannot access your work because these directions are not followed correctly, we will not grade your work.*\n"
     ]
    }
   ],
   "metadata": {}
  }
 ]
}